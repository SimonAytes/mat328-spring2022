{
 "cells": [
  {
   "cell_type": "markdown",
   "metadata": {},
   "source": [
    "**Replace with your name and a brief description of the notebook.**"
   ]
  },
  {
   "cell_type": "markdown",
   "metadata": {},
   "source": [
    "# Homework 3: assessing data and Seaborn scatterplots\n",
    "\n",
    "While we have looked at the Green Taxi Trip data set before, we have never assessed the data following the 5 questions in the lab or removed missing data.\n",
    "\n",
    "Recall that this data set is a record of all green taxi trips taken on Feb. 3, 2021.\n",
    "\n",
    "Link: [https://raw.githubusercontent.com/megan-owen/MAT328-Techniques_in_Data_Science/main/data/Feb3_2021_Green_Taxi_Trip_Data.csv](https://raw.githubusercontent.com/megan-owen/MAT328-Techniques_in_Data_Science/main/data/Feb3_2021_Green_Taxi_Trip_Data.csv)\n",
    "\n",
    "More information about the columns is given in [this Excel file](https://data.cityofnewyork.us/api/views/djnb-wcxt/files/23caabae-f35b-4031-bfbd-cd3e9437aced?download=true&filename=MD_TLC_GreenTripRecords2020.xlsx) \n",
    "which can also be downloaded from the [2021 Green Taxi Trip Data page](https://data.cityofnewyork.us/Transportation/2021-Green-Taxi-Trip-Data-Jan-Jul-/djnb-wcxt).\n",
    "\n",
    "### Question 0:  Load the data\n",
    "\n",
    "Load the green taxi trip data into a DataFrame."
   ]
  },
  {
   "cell_type": "code",
   "execution_count": 30,
   "metadata": {},
   "outputs": [],
   "source": [
    "import matplotlib\n",
    "import matplotlib.pyplot as plt\n",
    "import pandas as pd\n",
    "import seaborn as sns\n",
    "%matplotlib inline\n",
    "\n",
    "pd.set_option('display.max_columns', None)"
   ]
  },
  {
   "cell_type": "code",
   "execution_count": 6,
   "metadata": {},
   "outputs": [],
   "source": [
    "taxis = pd.read_csv(\"https://raw.githubusercontent.com/megan-owen/MAT328-Techniques_in_Data_Science/main/data/Feb3_2021_Green_Taxi_Trip_Data.csv\")"
   ]
  },
  {
   "cell_type": "markdown",
   "metadata": {},
   "source": [
    "### Question 1:  Reduce the data\n",
    "\n",
    "We will create a smaller taxi data set to use in the rest of the homework.  To do this:\n",
    "\n",
    "a) add a column called `toll` that contains a 1 if the `tolls_amount` column is positive, and a 0 otherwise\n",
    "<details><summary>Hint:</summary>\n",
    "See Section 6 in Lab 1.\n",
    "</details>\n",
    "\n",
    "b) make a new DataFrame containing only the columns:\n",
    "\n",
    "* `lpep_pickup_datetime`\n",
    "* `RatecodeID`\n",
    "* `DOLocationID`\n",
    "* `trip_distance`\n",
    "* `total_amount`\n",
    "* `toll`"
   ]
  },
  {
   "cell_type": "code",
   "execution_count": 8,
   "metadata": {},
   "outputs": [],
   "source": [
    "def is_positive(x):\n",
    "    if x > 0:\n",
    "        return 1\n",
    "    else:\n",
    "        return 0\n",
    "    \n",
    "taxis[\"toll\"] = taxis[\"tolls_amount\"].apply(is_positive)"
   ]
  },
  {
   "cell_type": "code",
   "execution_count": 10,
   "metadata": {},
   "outputs": [],
   "source": [
    "taxis2 = taxis[['lpep_pickup_datetime', 'RatecodeID', 'DOLocationID', 'trip_distance', 'total_amount', 'toll']]"
   ]
  },
  {
   "cell_type": "markdown",
   "metadata": {},
   "source": [
    "### Question 2:  Assess the data\n",
    "\n",
    "Answer the following questions about the reduced, 6 column taxi data.\n",
    "\n",
    "a) What is the structure of the data?  What are the variable types for the columns? (refer to the second tab in the Excel file linked above for information about each column)"
   ]
  },
  {
   "cell_type": "code",
   "execution_count": 16,
   "metadata": {},
   "outputs": [
    {
     "data": {
      "text/plain": [
       "lpep_pickup_datetime     object\n",
       "RatecodeID              float64\n",
       "DOLocationID              int64\n",
       "trip_distance           float64\n",
       "total_amount            float64\n",
       "toll                      int64\n",
       "dtype: object"
      ]
     },
     "execution_count": 16,
     "metadata": {},
     "output_type": "execute_result"
    }
   ],
   "source": [
    "taxis2.dtypes"
   ]
  },
  {
   "cell_type": "code",
   "execution_count": 17,
   "metadata": {},
   "outputs": [
    {
     "data": {
      "text/html": [
       "<div>\n",
       "<style scoped>\n",
       "    .dataframe tbody tr th:only-of-type {\n",
       "        vertical-align: middle;\n",
       "    }\n",
       "\n",
       "    .dataframe tbody tr th {\n",
       "        vertical-align: top;\n",
       "    }\n",
       "\n",
       "    .dataframe thead th {\n",
       "        text-align: right;\n",
       "    }\n",
       "</style>\n",
       "<table border=\"1\" class=\"dataframe\">\n",
       "  <thead>\n",
       "    <tr style=\"text-align: right;\">\n",
       "      <th></th>\n",
       "      <th>lpep_pickup_datetime</th>\n",
       "      <th>RatecodeID</th>\n",
       "      <th>DOLocationID</th>\n",
       "      <th>trip_distance</th>\n",
       "      <th>total_amount</th>\n",
       "      <th>toll</th>\n",
       "    </tr>\n",
       "  </thead>\n",
       "  <tbody>\n",
       "    <tr>\n",
       "      <th>0</th>\n",
       "      <td>02/03/2021 12:03:44 AM</td>\n",
       "      <td>1.0</td>\n",
       "      <td>142</td>\n",
       "      <td>2.77</td>\n",
       "      <td>19.03</td>\n",
       "      <td>0</td>\n",
       "    </tr>\n",
       "    <tr>\n",
       "      <th>1</th>\n",
       "      <td>02/03/2021 12:05:09 AM</td>\n",
       "      <td>1.0</td>\n",
       "      <td>75</td>\n",
       "      <td>1.15</td>\n",
       "      <td>9.75</td>\n",
       "      <td>0</td>\n",
       "    </tr>\n",
       "    <tr>\n",
       "      <th>2</th>\n",
       "      <td>02/03/2021 12:09:26 AM</td>\n",
       "      <td>1.0</td>\n",
       "      <td>74</td>\n",
       "      <td>1.41</td>\n",
       "      <td>8.76</td>\n",
       "      <td>0</td>\n",
       "    </tr>\n",
       "    <tr>\n",
       "      <th>3</th>\n",
       "      <td>02/03/2021 12:18:16 AM</td>\n",
       "      <td>1.0</td>\n",
       "      <td>127</td>\n",
       "      <td>6.19</td>\n",
       "      <td>24.96</td>\n",
       "      <td>0</td>\n",
       "    </tr>\n",
       "    <tr>\n",
       "      <th>4</th>\n",
       "      <td>02/03/2021 12:19:05 AM</td>\n",
       "      <td>5.0</td>\n",
       "      <td>69</td>\n",
       "      <td>2.74</td>\n",
       "      <td>12.30</td>\n",
       "      <td>0</td>\n",
       "    </tr>\n",
       "  </tbody>\n",
       "</table>\n",
       "</div>"
      ],
      "text/plain": [
       "     lpep_pickup_datetime  RatecodeID  DOLocationID  trip_distance  \\\n",
       "0  02/03/2021 12:03:44 AM         1.0           142           2.77   \n",
       "1  02/03/2021 12:05:09 AM         1.0            75           1.15   \n",
       "2  02/03/2021 12:09:26 AM         1.0            74           1.41   \n",
       "3  02/03/2021 12:18:16 AM         1.0           127           6.19   \n",
       "4  02/03/2021 12:19:05 AM         5.0            69           2.74   \n",
       "\n",
       "   total_amount  toll  \n",
       "0         19.03     0  \n",
       "1          9.75     0  \n",
       "2          8.76     0  \n",
       "3         24.96     0  \n",
       "4         12.30     0  "
      ]
     },
     "execution_count": 17,
     "metadata": {},
     "output_type": "execute_result"
    }
   ],
   "source": [
    "taxis2.head()"
   ]
  },
  {
   "cell_type": "markdown",
   "metadata": {},
   "source": [
    "<b>Answer 2a:</b> The taxi data is rectangular and includes three continuous variables (pickup time, distance, amount) and three categorical variables (rate code id, location id, and toll). There are three float columns, two integer columns, and one string column that stores the date of the trip."
   ]
  },
  {
   "cell_type": "markdown",
   "metadata": {},
   "source": [
    "b) What is the granularity of the data?  That is, what does each row represent?  Is this the finest granularity possible?"
   ]
  },
  {
   "cell_type": "markdown",
   "metadata": {},
   "source": [
    "<b>Answer 2b:</b> The data is structured such that each row represents a taxi trip. We cannot necessarily divide these trips any further, so this is the finest granularity possible."
   ]
  },
  {
   "cell_type": "markdown",
   "metadata": {},
   "source": [
    "c) What times are contained in the data?  What information do we have for each time?  Do you think the times are accurate?  Why or why not?"
   ]
  },
  {
   "cell_type": "markdown",
   "metadata": {},
   "source": [
    "<b>Answer 2c:</b> The times contain the date, hour, minute, and second of the trip. I believe these times are accurate as they are automatically recorded by the meter, not by the driver."
   ]
  },
  {
   "cell_type": "markdown",
   "metadata": {},
   "source": [
    "### Question 3:  Data faithfulness\n",
    "\n",
    "Use `.describe()` to get information about all columns."
   ]
  },
  {
   "cell_type": "code",
   "execution_count": 18,
   "metadata": {},
   "outputs": [
    {
     "data": {
      "text/html": [
       "<div>\n",
       "<style scoped>\n",
       "    .dataframe tbody tr th:only-of-type {\n",
       "        vertical-align: middle;\n",
       "    }\n",
       "\n",
       "    .dataframe tbody tr th {\n",
       "        vertical-align: top;\n",
       "    }\n",
       "\n",
       "    .dataframe thead th {\n",
       "        text-align: right;\n",
       "    }\n",
       "</style>\n",
       "<table border=\"1\" class=\"dataframe\">\n",
       "  <thead>\n",
       "    <tr style=\"text-align: right;\">\n",
       "      <th></th>\n",
       "      <th>RatecodeID</th>\n",
       "      <th>DOLocationID</th>\n",
       "      <th>trip_distance</th>\n",
       "      <th>total_amount</th>\n",
       "      <th>toll</th>\n",
       "    </tr>\n",
       "  </thead>\n",
       "  <tbody>\n",
       "    <tr>\n",
       "      <th>count</th>\n",
       "      <td>1297.000000</td>\n",
       "      <td>2281.000000</td>\n",
       "      <td>2281.000000</td>\n",
       "      <td>2281.00000</td>\n",
       "      <td>2281.000000</td>\n",
       "    </tr>\n",
       "    <tr>\n",
       "      <th>mean</th>\n",
       "      <td>1.140324</td>\n",
       "      <td>130.852696</td>\n",
       "      <td>49.399842</td>\n",
       "      <td>23.23868</td>\n",
       "      <td>0.076721</td>\n",
       "    </tr>\n",
       "    <tr>\n",
       "      <th>std</th>\n",
       "      <td>0.729906</td>\n",
       "      <td>75.899733</td>\n",
       "      <td>2148.602160</td>\n",
       "      <td>15.63078</td>\n",
       "      <td>0.266206</td>\n",
       "    </tr>\n",
       "    <tr>\n",
       "      <th>min</th>\n",
       "      <td>1.000000</td>\n",
       "      <td>3.000000</td>\n",
       "      <td>0.000000</td>\n",
       "      <td>-52.80000</td>\n",
       "      <td>0.000000</td>\n",
       "    </tr>\n",
       "    <tr>\n",
       "      <th>25%</th>\n",
       "      <td>1.000000</td>\n",
       "      <td>70.000000</td>\n",
       "      <td>1.350000</td>\n",
       "      <td>12.06000</td>\n",
       "      <td>0.000000</td>\n",
       "    </tr>\n",
       "    <tr>\n",
       "      <th>50%</th>\n",
       "      <td>1.000000</td>\n",
       "      <td>129.000000</td>\n",
       "      <td>2.530000</td>\n",
       "      <td>20.13000</td>\n",
       "      <td>0.000000</td>\n",
       "    </tr>\n",
       "    <tr>\n",
       "      <th>75%</th>\n",
       "      <td>1.000000</td>\n",
       "      <td>197.000000</td>\n",
       "      <td>5.570000</td>\n",
       "      <td>29.00000</td>\n",
       "      <td>0.000000</td>\n",
       "    </tr>\n",
       "    <tr>\n",
       "      <th>max</th>\n",
       "      <td>5.000000</td>\n",
       "      <td>265.000000</td>\n",
       "      <td>102620.980000</td>\n",
       "      <td>130.80000</td>\n",
       "      <td>1.000000</td>\n",
       "    </tr>\n",
       "  </tbody>\n",
       "</table>\n",
       "</div>"
      ],
      "text/plain": [
       "        RatecodeID  DOLocationID  trip_distance  total_amount         toll\n",
       "count  1297.000000   2281.000000    2281.000000    2281.00000  2281.000000\n",
       "mean      1.140324    130.852696      49.399842      23.23868     0.076721\n",
       "std       0.729906     75.899733    2148.602160      15.63078     0.266206\n",
       "min       1.000000      3.000000       0.000000     -52.80000     0.000000\n",
       "25%       1.000000     70.000000       1.350000      12.06000     0.000000\n",
       "50%       1.000000    129.000000       2.530000      20.13000     0.000000\n",
       "75%       1.000000    197.000000       5.570000      29.00000     0.000000\n",
       "max       5.000000    265.000000  102620.980000     130.80000     1.000000"
      ]
     },
     "execution_count": 18,
     "metadata": {},
     "output_type": "execute_result"
    }
   ],
   "source": [
    "taxis2.describe()"
   ]
  },
  {
   "cell_type": "markdown",
   "metadata": {},
   "source": [
    "Which columns contain missing data?  Do you notice any other problems with the data?"
   ]
  },
  {
   "cell_type": "markdown",
   "metadata": {},
   "source": [
    "<b>Answer:</b> `RateCodeID` seems to be missing many rows. Another interesting feature is that the maximum trip distance recorded was 102,620.89 miles, which I believe threw off the column's summary stats. Additionally, the minimum total amount was -$52.80, which should be impossible"
   ]
  },
  {
   "cell_type": "markdown",
   "metadata": {},
   "source": [
    "### Question 4:  Removing missing data\n",
    "\n",
    "Clean the data by removing all rows containing any missing data.  That is, make a new DataFrame containing all rows except those missing data.\n",
    "\n",
    "<details><summary>Hint:</summary>\n",
    "First use a filter to find all rows with at least one missing data value.  Then make a new DataFrame without those rows, using ~ as in Section 3 of Lab 3.\n",
    "</details>"
   ]
  },
  {
   "cell_type": "code",
   "execution_count": 20,
   "metadata": {},
   "outputs": [],
   "source": [
    "taxis3 = taxis2[taxis2.isna().any(axis=1)]"
   ]
  },
  {
   "cell_type": "code",
   "execution_count": 21,
   "metadata": {},
   "outputs": [
    {
     "name": "stdout",
     "output_type": "stream",
     "text": [
      "Removed 1297 rows of data.\n"
     ]
    }
   ],
   "source": [
    "print(f\"Removed {taxis2.shape[0]-taxis3.shape[0]} rows of data.\")"
   ]
  },
  {
   "cell_type": "markdown",
   "metadata": {},
   "source": [
    "How many rows of data did you remove?  Could there be a downside to removing these rows?"
   ]
  },
  {
   "cell_type": "markdown",
   "metadata": {},
   "source": [
    "<b>Answer:</b> I removed 1297 rows of data. A potential downside is that we may now have skewed our data one way or the other. This would make our analysis less reliable."
   ]
  },
  {
   "cell_type": "markdown",
   "metadata": {},
   "source": [
    "### Question 5:  More data cleaning\n",
    "You may have noticed that some of the total amounts are negative.  Further clean the data by making a new DataFrame containing only those rows with 0 or a positive amount in the `total_amount` column."
   ]
  },
  {
   "cell_type": "code",
   "execution_count": 28,
   "metadata": {},
   "outputs": [],
   "source": [
    "taxis4 = taxis3[taxis3['total_amount'] >= 0]"
   ]
  },
  {
   "cell_type": "markdown",
   "metadata": {},
   "source": [
    "How many rows did you remove?  Do you think this step improves or does not improve the quality of the data?"
   ]
  },
  {
   "cell_type": "code",
   "execution_count": 29,
   "metadata": {},
   "outputs": [
    {
     "name": "stdout",
     "output_type": "stream",
     "text": [
      "Removed 0 rows of data.\n"
     ]
    }
   ],
   "source": [
    "print(f\"Removed {taxis3.shape[0] - taxis4.shape[0]} rows of data.\")"
   ]
  },
  {
   "cell_type": "markdown",
   "metadata": {},
   "source": [
    "<b>Answer:</b> No additional rows of data were removed. All of those values must have been removed in the cleaning done in Question 4. Thus the data's quality remains the same between Question 4 and 5."
   ]
  },
  {
   "cell_type": "markdown",
   "metadata": {},
   "source": [
    "### Question 6:  Scatterplots\n",
    "\n",
    "Using the cleaned DataFrame from the end of Question 5 (or any earlier DataFrame, if you had trouble cleaning the data), use Seaborn to create a scatter plot of the trip distance (x axis) vs. the total amount (y axis), colored by the `toll` column.\n",
    "\n",
    "As usual, your plot should have a title and axis labels.\n",
    "\n",
    "If you wish to make the points transparent, you can use the `alpha = 0.5` parameter, where 0.5 is how transparent the points are and can be changed."
   ]
  },
  {
   "cell_type": "code",
   "execution_count": 31,
   "metadata": {},
   "outputs": [
    {
     "data": {
      "text/html": [
       "<div>\n",
       "<style scoped>\n",
       "    .dataframe tbody tr th:only-of-type {\n",
       "        vertical-align: middle;\n",
       "    }\n",
       "\n",
       "    .dataframe tbody tr th {\n",
       "        vertical-align: top;\n",
       "    }\n",
       "\n",
       "    .dataframe thead th {\n",
       "        text-align: right;\n",
       "    }\n",
       "</style>\n",
       "<table border=\"1\" class=\"dataframe\">\n",
       "  <thead>\n",
       "    <tr style=\"text-align: right;\">\n",
       "      <th></th>\n",
       "      <th>lpep_pickup_datetime</th>\n",
       "      <th>RatecodeID</th>\n",
       "      <th>DOLocationID</th>\n",
       "      <th>trip_distance</th>\n",
       "      <th>total_amount</th>\n",
       "      <th>toll</th>\n",
       "    </tr>\n",
       "  </thead>\n",
       "  <tbody>\n",
       "    <tr>\n",
       "      <th>7</th>\n",
       "      <td>02/03/2021 12:26:00 AM</td>\n",
       "      <td>NaN</td>\n",
       "      <td>68</td>\n",
       "      <td>5.08</td>\n",
       "      <td>32.50</td>\n",
       "      <td>0</td>\n",
       "    </tr>\n",
       "    <tr>\n",
       "      <th>10</th>\n",
       "      <td>02/03/2021 01:08:00 AM</td>\n",
       "      <td>NaN</td>\n",
       "      <td>189</td>\n",
       "      <td>8.78</td>\n",
       "      <td>25.38</td>\n",
       "      <td>0</td>\n",
       "    </tr>\n",
       "    <tr>\n",
       "      <th>11</th>\n",
       "      <td>02/03/2021 01:14:00 AM</td>\n",
       "      <td>NaN</td>\n",
       "      <td>95</td>\n",
       "      <td>0.00</td>\n",
       "      <td>18.05</td>\n",
       "      <td>0</td>\n",
       "    </tr>\n",
       "    <tr>\n",
       "      <th>12</th>\n",
       "      <td>02/03/2021 01:16:00 AM</td>\n",
       "      <td>NaN</td>\n",
       "      <td>191</td>\n",
       "      <td>8.34</td>\n",
       "      <td>43.00</td>\n",
       "      <td>0</td>\n",
       "    </tr>\n",
       "    <tr>\n",
       "      <th>16</th>\n",
       "      <td>02/03/2021 01:26:00 AM</td>\n",
       "      <td>NaN</td>\n",
       "      <td>95</td>\n",
       "      <td>0.00</td>\n",
       "      <td>17.75</td>\n",
       "      <td>0</td>\n",
       "    </tr>\n",
       "    <tr>\n",
       "      <th>...</th>\n",
       "      <td>...</td>\n",
       "      <td>...</td>\n",
       "      <td>...</td>\n",
       "      <td>...</td>\n",
       "      <td>...</td>\n",
       "      <td>...</td>\n",
       "    </tr>\n",
       "    <tr>\n",
       "      <th>2259</th>\n",
       "      <td>02/03/2021 11:10:00 PM</td>\n",
       "      <td>NaN</td>\n",
       "      <td>143</td>\n",
       "      <td>3.95</td>\n",
       "      <td>19.51</td>\n",
       "      <td>0</td>\n",
       "    </tr>\n",
       "    <tr>\n",
       "      <th>2263</th>\n",
       "      <td>02/03/2021 11:18:00 PM</td>\n",
       "      <td>NaN</td>\n",
       "      <td>244</td>\n",
       "      <td>5.93</td>\n",
       "      <td>36.00</td>\n",
       "      <td>0</td>\n",
       "    </tr>\n",
       "    <tr>\n",
       "      <th>2267</th>\n",
       "      <td>02/03/2021 11:22:00 PM</td>\n",
       "      <td>NaN</td>\n",
       "      <td>117</td>\n",
       "      <td>13.66</td>\n",
       "      <td>57.30</td>\n",
       "      <td>1</td>\n",
       "    </tr>\n",
       "    <tr>\n",
       "      <th>2274</th>\n",
       "      <td>02/03/2021 11:34:00 PM</td>\n",
       "      <td>NaN</td>\n",
       "      <td>51</td>\n",
       "      <td>6.44</td>\n",
       "      <td>27.67</td>\n",
       "      <td>0</td>\n",
       "    </tr>\n",
       "    <tr>\n",
       "      <th>2278</th>\n",
       "      <td>02/03/2021 11:43:00 PM</td>\n",
       "      <td>NaN</td>\n",
       "      <td>238</td>\n",
       "      <td>12.24</td>\n",
       "      <td>57.30</td>\n",
       "      <td>0</td>\n",
       "    </tr>\n",
       "  </tbody>\n",
       "</table>\n",
       "<p>984 rows × 6 columns</p>\n",
       "</div>"
      ],
      "text/plain": [
       "        lpep_pickup_datetime  RatecodeID  DOLocationID  trip_distance  \\\n",
       "7     02/03/2021 12:26:00 AM         NaN            68           5.08   \n",
       "10    02/03/2021 01:08:00 AM         NaN           189           8.78   \n",
       "11    02/03/2021 01:14:00 AM         NaN            95           0.00   \n",
       "12    02/03/2021 01:16:00 AM         NaN           191           8.34   \n",
       "16    02/03/2021 01:26:00 AM         NaN            95           0.00   \n",
       "...                      ...         ...           ...            ...   \n",
       "2259  02/03/2021 11:10:00 PM         NaN           143           3.95   \n",
       "2263  02/03/2021 11:18:00 PM         NaN           244           5.93   \n",
       "2267  02/03/2021 11:22:00 PM         NaN           117          13.66   \n",
       "2274  02/03/2021 11:34:00 PM         NaN            51           6.44   \n",
       "2278  02/03/2021 11:43:00 PM         NaN           238          12.24   \n",
       "\n",
       "      total_amount  toll  \n",
       "7            32.50     0  \n",
       "10           25.38     0  \n",
       "11           18.05     0  \n",
       "12           43.00     0  \n",
       "16           17.75     0  \n",
       "...            ...   ...  \n",
       "2259         19.51     0  \n",
       "2263         36.00     0  \n",
       "2267         57.30     1  \n",
       "2274         27.67     0  \n",
       "2278         57.30     0  \n",
       "\n",
       "[984 rows x 6 columns]"
      ]
     },
     "execution_count": 31,
     "metadata": {},
     "output_type": "execute_result"
    }
   ],
   "source": [
    "taxis4"
   ]
  },
  {
   "cell_type": "code",
   "execution_count": 37,
   "metadata": {},
   "outputs": [
    {
     "data": {
      "text/plain": [
       "Text(0.5, 1.0, 'Trip distance vs total amount for taxi ribes')"
      ]
     },
     "execution_count": 37,
     "metadata": {},
     "output_type": "execute_result"
    },
    {
     "data": {
      "image/png": "[encoded data removed]",
      "text/plain": [
       "<Figure size 402.375x360 with 1 Axes>"
      ]
     },
     "metadata": {
      "needs_background": "light"
     },
     "output_type": "display_data"
    }
   ],
   "source": [
    "sns.relplot(x =\"trip_distance\", y = \"total_amount\", hue = \"toll\", data = taxis4)\n",
    "plt.xlabel(\"Trip distance (miles)\")\n",
    "plt.ylabel(\"Total amount ($)\")\n",
    "plt.title(\"Trip distance vs total amount for taxi ribes\")"
   ]
  },
  {
   "cell_type": "markdown",
   "metadata": {},
   "source": [
    "What do you notice about your plot?  Do you see any more data that could indicate an error or problem with that data?  How informative is the plot?"
   ]
  },
  {
   "cell_type": "markdown",
   "metadata": {},
   "source": [
    "<b>Answer:</b> The plot is not informative at all. Without removing outliers from the data, we are left with a skewed dataset. The inclusion of the 100k-mile outlier has made the plot uninterpretable."
   ]
  },
  {
   "cell_type": "markdown",
   "metadata": {},
   "source": [
    "### Bonus Question\n",
    "Plot an interesting scatterplot using some part of the pickup time for one (or more) of the variables.  What does your plot reveal about the data?"
   ]
  },
  {
   "cell_type": "code",
   "execution_count": null,
   "metadata": {
    "collapsed": true,
    "jupyter": {
     "outputs_hidden": true
    }
   },
   "outputs": [],
   "source": []
  }
 ],
 "metadata": {
  "kernelspec": {
   "display_name": "Python 3 (ipykernel)",
   "language": "python",
   "name": "python3"
  },
  "language_info": {
   "codemirror_mode": {
    "name": "ipython",
    "version": 3
   },
   "file_extension": ".py",
   "mimetype": "text/x-python",
   "name": "python",
   "nbconvert_exporter": "python",
   "pygments_lexer": "ipython3",
   "version": "3.10.1"
  }
 },
 "nbformat": 4,
 "nbformat_minor": 4
}
