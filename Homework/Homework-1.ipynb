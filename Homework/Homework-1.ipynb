{
 "cells": [
  {
   "cell_type": "markdown",
   "metadata": {
    "id": "EgFQCpRd1FCw"
   },
   "source": [
    "**Replace with your name and a brief description of the notebook.**"
   ]
  },
  {
   "cell_type": "markdown",
   "metadata": {
    "id": "YmMudDEQt5Ys"
   },
   "source": [
    "# Homework 1\n",
    "\n",
    "This assignment uses a dataset of all New York City active dog licenses issued after Jan. 1, 2019 (and last updated August, 2021).\n",
    "\n",
    "The file can be downloaded from https://github.com/megan-owen/MAT328-Techniques_in_Data_Science/raw/main/data/NYC_Dog_Licensing_Dataset_Jan2019.csv\n",
    "or can be filtered and downloaded from the original source https://data.cityofnewyork.us/Health/NYC-Dog-Licensing-Dataset/nu7n-tubp/data by:\n",
    "\n",
    "1. click on \"Filter\" in the menu to the right, above the data table\n",
    "2. click on \"Add a New Filter Condition\"\n",
    "3. click on \"RowNumber\" (in the right side area that appears) to change it to \"LicenseIssuedDate\"\n",
    "4. click on \"is\" to change it to \"is after\"\n",
    "5. click on the text box just below \"LicenseIssuedDate is after\" to select Jan. 1, 2019.\n",
    "6. click on \"Export\" in the menu to the right, just above the data table\n",
    "7. click on \"CSV\" under \"Download\" in the menu that appears\n",
    "\n",
    "Answer the following questions for the data, showing all outputs of your code in the notebook.\n",
    "\n",
    "All plots should have an appropriate title and axes labels.\n",
    "\n",
    "## Question 0: Load the data\n",
    "\n",
    "Put any import statements, and load the dog licensing data from the CSV file here.  The column `Point_time` should stored as dates.\n"
   ]
  },
  {
   "cell_type": "code",
   "execution_count": 2,
   "metadata": {},
   "outputs": [],
   "source": [
    "import pandas as pd"
   ]
  },
  {
   "cell_type": "code",
   "execution_count": 25,
   "metadata": {
    "id": "2WlYF4EN5hT4"
   },
   "outputs": [
    {
     "data": {
      "text/html": [
       "<div>\n",
       "<style scoped>\n",
       "    .dataframe tbody tr th:only-of-type {\n",
       "        vertical-align: middle;\n",
       "    }\n",
       "\n",
       "    .dataframe tbody tr th {\n",
       "        vertical-align: top;\n",
       "    }\n",
       "\n",
       "    .dataframe thead th {\n",
       "        text-align: right;\n",
       "    }\n",
       "</style>\n",
       "<table border=\"1\" class=\"dataframe\">\n",
       "  <thead>\n",
       "    <tr style=\"text-align: right;\">\n",
       "      <th></th>\n",
       "      <th>RowNumber</th>\n",
       "      <th>AnimalName</th>\n",
       "      <th>AnimalGender</th>\n",
       "      <th>AnimalBirthMonth</th>\n",
       "      <th>BreedName</th>\n",
       "      <th>Borough</th>\n",
       "      <th>ZipCode</th>\n",
       "      <th>LicenseIssuedDate</th>\n",
       "      <th>LicenseExpiredDate</th>\n",
       "      <th>Extract Year</th>\n",
       "      <th>Unique Dog ID</th>\n",
       "    </tr>\n",
       "  </thead>\n",
       "  <tbody>\n",
       "    <tr>\n",
       "      <th>0</th>\n",
       "      <td>184</td>\n",
       "      <td>FRANKIE</td>\n",
       "      <td>M</td>\n",
       "      <td>2004</td>\n",
       "      <td>Unknown</td>\n",
       "      <td>NaN</td>\n",
       "      <td>10465</td>\n",
       "      <td>2019-01-02</td>\n",
       "      <td>2020-01-30</td>\n",
       "      <td>NaN</td>\n",
       "      <td>NaN</td>\n",
       "    </tr>\n",
       "    <tr>\n",
       "      <th>1</th>\n",
       "      <td>609</td>\n",
       "      <td>QUE</td>\n",
       "      <td>M</td>\n",
       "      <td>2004</td>\n",
       "      <td>Unknown</td>\n",
       "      <td>NaN</td>\n",
       "      <td>11205</td>\n",
       "      <td>2019-01-02</td>\n",
       "      <td>2019-11-29</td>\n",
       "      <td>NaN</td>\n",
       "      <td>NaN</td>\n",
       "    </tr>\n",
       "    <tr>\n",
       "      <th>2</th>\n",
       "      <td>736</td>\n",
       "      <td>JAKE</td>\n",
       "      <td>M</td>\n",
       "      <td>2005</td>\n",
       "      <td>Unknown</td>\n",
       "      <td>NaN</td>\n",
       "      <td>10309</td>\n",
       "      <td>2019-01-02</td>\n",
       "      <td>2019-12-30</td>\n",
       "      <td>NaN</td>\n",
       "      <td>NaN</td>\n",
       "    </tr>\n",
       "    <tr>\n",
       "      <th>3</th>\n",
       "      <td>757</td>\n",
       "      <td>OPHELIA</td>\n",
       "      <td>F</td>\n",
       "      <td>2006</td>\n",
       "      <td>Unknown</td>\n",
       "      <td>NaN</td>\n",
       "      <td>10310</td>\n",
       "      <td>2019-01-02</td>\n",
       "      <td>2019-10-30</td>\n",
       "      <td>NaN</td>\n",
       "      <td>NaN</td>\n",
       "    </tr>\n",
       "    <tr>\n",
       "      <th>4</th>\n",
       "      <td>1021</td>\n",
       "      <td>CINDY</td>\n",
       "      <td>F</td>\n",
       "      <td>2003</td>\n",
       "      <td>Shih Tzu</td>\n",
       "      <td>NaN</td>\n",
       "      <td>11416</td>\n",
       "      <td>2019-01-02</td>\n",
       "      <td>2019-07-29</td>\n",
       "      <td>NaN</td>\n",
       "      <td>NaN</td>\n",
       "    </tr>\n",
       "  </tbody>\n",
       "</table>\n",
       "</div>"
      ],
      "text/plain": [
       "   RowNumber AnimalName AnimalGender  AnimalBirthMonth BreedName  Borough  \\\n",
       "0        184    FRANKIE            M              2004   Unknown      NaN   \n",
       "1        609        QUE            M              2004   Unknown      NaN   \n",
       "2        736       JAKE            M              2005   Unknown      NaN   \n",
       "3        757    OPHELIA            F              2006   Unknown      NaN   \n",
       "4       1021      CINDY            F              2003  Shih Tzu      NaN   \n",
       "\n",
       "   ZipCode LicenseIssuedDate LicenseExpiredDate  Extract Year  Unique Dog ID  \n",
       "0    10465        2019-01-02         2020-01-30           NaN            NaN  \n",
       "1    11205        2019-01-02         2019-11-29           NaN            NaN  \n",
       "2    10309        2019-01-02         2019-12-30           NaN            NaN  \n",
       "3    10310        2019-01-02         2019-10-30           NaN            NaN  \n",
       "4    11416        2019-01-02         2019-07-29           NaN            NaN  "
      ]
     },
     "execution_count": 25,
     "metadata": {},
     "output_type": "execute_result"
    }
   ],
   "source": [
    "# Load in the data\n",
    "dog_license_data = pd.read_csv(\"https://raw.githubusercontent.com/megan-owen/MAT328-Techniques_in_Data_Science/main/data/NYC_Dog_Licensing_Dataset_Jan2019.csv\")\n",
    "\n",
    "# Convert columns to DateTime object\n",
    "dog_license_data[\"LicenseIssuedDate\"] = pd.to_datetime(dog_license_data[\"LicenseIssuedDate\"])\n",
    "dog_license_data[\"LicenseExpiredDate\"] = pd.to_datetime(dog_license_data[\"LicenseExpiredDate\"])\n",
    "\n",
    "# Preview data\n",
    "dog_license_data.head()"
   ]
  },
  {
   "cell_type": "markdown",
   "metadata": {
    "id": "DED2tOEet5Yx"
   },
   "source": [
    "### Question 1\n",
    "Do any of the columns have missing data?  If so, which ones and how do you know?  To get summary information about qualitative columns (ex. text, dates) pass the parameter `include = [\"O\"]` into the function `.describe()`."
   ]
  },
  {
   "cell_type": "code",
   "execution_count": 26,
   "metadata": {
    "colab": {
     "base_uri": "https://localhost:8080/",
     "height": 297
    },
    "id": "cDEJzBzKvha0",
    "outputId": "139b6b75-4ea3-4801-f1ae-15cd9bcd8c1b"
   },
   "outputs": [
    {
     "data": {
      "text/html": [
       "<div>\n",
       "<style scoped>\n",
       "    .dataframe tbody tr th:only-of-type {\n",
       "        vertical-align: middle;\n",
       "    }\n",
       "\n",
       "    .dataframe tbody tr th {\n",
       "        vertical-align: top;\n",
       "    }\n",
       "\n",
       "    .dataframe thead th {\n",
       "        text-align: right;\n",
       "    }\n",
       "</style>\n",
       "<table border=\"1\" class=\"dataframe\">\n",
       "  <thead>\n",
       "    <tr style=\"text-align: right;\">\n",
       "      <th></th>\n",
       "      <th>RowNumber</th>\n",
       "      <th>AnimalBirthMonth</th>\n",
       "      <th>Borough</th>\n",
       "      <th>ZipCode</th>\n",
       "      <th>Extract Year</th>\n",
       "      <th>Unique Dog ID</th>\n",
       "    </tr>\n",
       "  </thead>\n",
       "  <tbody>\n",
       "    <tr>\n",
       "      <th>count</th>\n",
       "      <td>147204.000000</td>\n",
       "      <td>147204.000000</td>\n",
       "      <td>0.0</td>\n",
       "      <td>147204.000000</td>\n",
       "      <td>0.0</td>\n",
       "      <td>0.0</td>\n",
       "    </tr>\n",
       "    <tr>\n",
       "      <th>mean</th>\n",
       "      <td>73692.191075</td>\n",
       "      <td>2014.410750</td>\n",
       "      <td>NaN</td>\n",
       "      <td>10714.973961</td>\n",
       "      <td>NaN</td>\n",
       "      <td>NaN</td>\n",
       "    </tr>\n",
       "    <tr>\n",
       "      <th>std</th>\n",
       "      <td>42543.191332</td>\n",
       "      <td>4.466134</td>\n",
       "      <td>NaN</td>\n",
       "      <td>1039.019102</td>\n",
       "      <td>NaN</td>\n",
       "      <td>NaN</td>\n",
       "    </tr>\n",
       "    <tr>\n",
       "      <th>min</th>\n",
       "      <td>1.000000</td>\n",
       "      <td>1980.000000</td>\n",
       "      <td>NaN</td>\n",
       "      <td>0.000000</td>\n",
       "      <td>NaN</td>\n",
       "      <td>NaN</td>\n",
       "    </tr>\n",
       "    <tr>\n",
       "      <th>25%</th>\n",
       "      <td>36837.750000</td>\n",
       "      <td>2011.000000</td>\n",
       "      <td>NaN</td>\n",
       "      <td>10033.000000</td>\n",
       "      <td>NaN</td>\n",
       "      <td>NaN</td>\n",
       "    </tr>\n",
       "    <tr>\n",
       "      <th>50%</th>\n",
       "      <td>73693.500000</td>\n",
       "      <td>2015.000000</td>\n",
       "      <td>NaN</td>\n",
       "      <td>10471.000000</td>\n",
       "      <td>NaN</td>\n",
       "      <td>NaN</td>\n",
       "    </tr>\n",
       "    <tr>\n",
       "      <th>75%</th>\n",
       "      <td>110544.250000</td>\n",
       "      <td>2018.000000</td>\n",
       "      <td>NaN</td>\n",
       "      <td>11229.000000</td>\n",
       "      <td>NaN</td>\n",
       "      <td>NaN</td>\n",
       "    </tr>\n",
       "    <tr>\n",
       "      <th>max</th>\n",
       "      <td>147345.000000</td>\n",
       "      <td>2021.000000</td>\n",
       "      <td>NaN</td>\n",
       "      <td>98433.000000</td>\n",
       "      <td>NaN</td>\n",
       "      <td>NaN</td>\n",
       "    </tr>\n",
       "  </tbody>\n",
       "</table>\n",
       "</div>"
      ],
      "text/plain": [
       "           RowNumber  AnimalBirthMonth  Borough        ZipCode  Extract Year  \\\n",
       "count  147204.000000     147204.000000      0.0  147204.000000           0.0   \n",
       "mean    73692.191075       2014.410750      NaN   10714.973961           NaN   \n",
       "std     42543.191332          4.466134      NaN    1039.019102           NaN   \n",
       "min         1.000000       1980.000000      NaN       0.000000           NaN   \n",
       "25%     36837.750000       2011.000000      NaN   10033.000000           NaN   \n",
       "50%     73693.500000       2015.000000      NaN   10471.000000           NaN   \n",
       "75%    110544.250000       2018.000000      NaN   11229.000000           NaN   \n",
       "max    147345.000000       2021.000000      NaN   98433.000000           NaN   \n",
       "\n",
       "       Unique Dog ID  \n",
       "count            0.0  \n",
       "mean             NaN  \n",
       "std              NaN  \n",
       "min              NaN  \n",
       "25%              NaN  \n",
       "50%              NaN  \n",
       "75%              NaN  \n",
       "max              NaN  "
      ]
     },
     "execution_count": 26,
     "metadata": {},
     "output_type": "execute_result"
    }
   ],
   "source": [
    "dog_license_data.describe()"
   ]
  },
  {
   "cell_type": "markdown",
   "metadata": {
    "id": "1kGjRAw-t5Yy"
   },
   "source": [
    "<b>Answer:</b> The columns `Borough`, `Extract Year`, and `Unique Dog ID` all have missing values because their \"count\" attribute is less than the shape of the data (147,204)."
   ]
  },
  {
   "cell_type": "markdown",
   "metadata": {
    "id": "pKvRICa4t5Yy"
   },
   "source": [
    "### Question 2\n",
    "Plot a bar chart of the distribution of the days of the week that licenses were issued.  (Hint:  see Lab 1, Section 7, and Monday = 0, Sunday = 6)"
   ]
  },
  {
   "cell_type": "code",
   "execution_count": 36,
   "metadata": {},
   "outputs": [],
   "source": [
    "import matplotlib.pyplot as plt\n",
    "import seaborn as sns\n",
    "%matplotlib inline"
   ]
  },
  {
   "cell_type": "code",
   "execution_count": 28,
   "metadata": {
    "colab": {
     "base_uri": "https://localhost:8080/",
     "height": 315
    },
    "id": "z-BurvCgt5Yy",
    "outputId": "3b93ac9c-24f9-404d-c2f7-11fb660f8890"
   },
   "outputs": [],
   "source": [
    "# Assign new column with day of week labels\n",
    "dog_license_data['day_of_week'] = dog_license_data['LicenseIssuedDate'].dt.day_name()"
   ]
  },
  {
   "cell_type": "code",
   "execution_count": 40,
   "metadata": {},
   "outputs": [
    {
     "data": {
      "text/plain": [
       "Text(0, 0.5, 'Number of dog licenses issued')"
      ]
     },
     "execution_count": 40,
     "metadata": {},
     "output_type": "execute_result"
    },
    {
     "data": {
      "image/png": "[encoded data removed]",
      "text/plain": [
       "<Figure size 432x288 with 1 Axes>"
      ]
     },
     "metadata": {
      "needs_background": "light"
     },
     "output_type": "display_data"
    }
   ],
   "source": [
    "dow_data = dog_license_data['day_of_week'].value_counts()\n",
    "dow_data.plot(kind=\"bar\")\n",
    "plt.title(\"Number of dog licenses issued by day of week\")\n",
    "plt.xlabel(\"Day of week\")\n",
    "plt.ylabel(\"Number of dog licenses issued\")"
   ]
  },
  {
   "cell_type": "markdown",
   "metadata": {},
   "source": [
    "Which day of the week are the the most licenses issued?  Do you notice any other trends?"
   ]
  },
  {
   "cell_type": "markdown",
   "metadata": {
    "id": "dwgDdskIt5Yz"
   },
   "source": [
    "<b>Answer:</b> Monday saw the most licenses issued. One trend that is apparent is that Saturday and Sunday (the weekend) had the least amount of licenses issued of all the days of the week."
   ]
  },
  {
   "cell_type": "markdown",
   "metadata": {
    "id": "inh7Cqext5Yz"
   },
   "source": [
    "### Question 3\n",
    "The column `AnimalBirthMonth` actually holds the year the dog was born.  Plot a histogram of the distribution of the birth years."
   ]
  },
  {
   "cell_type": "code",
   "execution_count": 42,
   "metadata": {
    "colab": {
     "base_uri": "https://localhost:8080/",
     "height": 312
    },
    "id": "nB3yqTCot5Y0",
    "outputId": "bdf69953-e959-4ed2-d100-032a64a5fbf7"
   },
   "outputs": [
    {
     "data": {
      "text/plain": [
       "Text(0, 0.5, 'Number of dogs born')"
      ]
     },
     "execution_count": 42,
     "metadata": {},
     "output_type": "execute_result"
    },
    {
     "data": {
      "image/png": "[encoded data removed]",
      "text/plain": [
       "<Figure size 432x288 with 1 Axes>"
      ]
     },
     "metadata": {
      "needs_background": "light"
     },
     "output_type": "display_data"
    }
   ],
   "source": [
    "dog_birth_year_data = dog_license_data['AnimalBirthMonth'].value_counts()\n",
    "dog_birth_year_data.plot(kind='bar')\n",
    "plt.title(\"Frequency of birth year amongst registered dogs\")\n",
    "plt.xlabel(\"Birth year\")\n",
    "plt.ylabel(\"Number of dogs born\")"
   ]
  },
  {
   "cell_type": "markdown",
   "metadata": {},
   "source": [
    "What do you notice about this distibution? What might be the cause?"
   ]
  },
  {
   "cell_type": "markdown",
   "metadata": {
    "id": "9XHQfCUWigcB"
   },
   "source": [
    "<b>Answer:</b> 2019 had the highest number of dogs born (as relates to those registered dogs) and 1991 had the lowest. I wonder if the pandemic had anything to do with this as there were [many articles](https://www.washingtonpost.com/nation/2020/08/12/adoptions-dogs-coronavirus/) that talked about a surge in dog adoptions during the pandemic."
   ]
  },
  {
   "cell_type": "markdown",
   "metadata": {
    "id": "K-z4ddart5Y1"
   },
   "source": [
    "### Question 4\n",
    "Make a bar chart of the distribution of the gender of dogs licensed in April."
   ]
  },
  {
   "cell_type": "code",
   "execution_count": 49,
   "metadata": {
    "colab": {
     "base_uri": "https://localhost:8080/",
     "height": 311
    },
    "id": "ZlM69yart5Y1",
    "outputId": "5c5a8634-bd5e-463f-a84e-91befb9c8161"
   },
   "outputs": [
    {
     "data": {
      "text/plain": [
       "Text(0, 0.5, 'Count')"
      ]
     },
     "execution_count": 49,
     "metadata": {},
     "output_type": "execute_result"
    },
    {
     "data": {
      "image/png": "[encoded data removed]",
      "text/plain": [
       "<Figure size 432x288 with 1 Axes>"
      ]
     },
     "metadata": {
      "needs_background": "light"
     },
     "output_type": "display_data"
    }
   ],
   "source": [
    "# Subset data by those who were licensed in April\n",
    "april_dogs = dog_license_data[dog_license_data['LicenseIssuedDate'].dt.month == 4]\n",
    "\n",
    "# Plot a bar graph of their genders\n",
    "gender_dist_april = april_dogs['AnimalGender'].value_counts()\n",
    "gender_dist_april.plot(kind='bar')\n",
    "plt.title(\"Distribution of dog gender\")\n",
    "plt.xlabel(\"Gender\")\n",
    "plt.ylabel(\"Count\")"
   ]
  },
  {
   "cell_type": "markdown",
   "metadata": {},
   "source": [
    "Do you think there is a significant difference in the number of male and female dogs? Why/why not? What could you do to be more sure? (Note: actually doing this analysis is a bonus question)"
   ]
  },
  {
   "cell_type": "markdown",
   "metadata": {},
   "source": [
    "<b>Answer:</b> There is not that significant of a difference between the distribution of the two genders. Though I am unsure as to why, I do not think there could be many contributing factors other than breed type as there are often breed restricions for housing in the city."
   ]
  },
  {
   "cell_type": "markdown",
   "metadata": {},
   "source": [
    "### Question 5\n",
    "\n",
    "Let's see whether the supposed increase in people getting puppies during the pandemic shows up in the dog licensing data. \n",
    "\n",
    "a) First, compute the means of the birth years of dogs licensed in February 2019 and dogs licensed in February 2020."
   ]
  },
  {
   "cell_type": "code",
   "execution_count": 63,
   "metadata": {},
   "outputs": [],
   "source": [
    "# Subset the data by month/year\n",
    "feb_2019_data = dog_license_data[(dog_license_data['LicenseIssuedDate'] >= \"2019-02-01\") & (dog_license_data['LicenseIssuedDate'] <= \"2019-02-28\")]\n",
    "feb_2020_data = dog_license_data[(dog_license_data['LicenseIssuedDate'] >= \"2020-02-01\") & (dog_license_data['LicenseIssuedDate'] <= \"2020-02-28\")]"
   ]
  },
  {
   "cell_type": "code",
   "execution_count": 68,
   "metadata": {},
   "outputs": [],
   "source": [
    "feb_2019_mean = feb_2019_data['AnimalBirthMonth'].mean()\n",
    "feb_2020_mean = feb_2020_data['AnimalBirthMonth'].mean()"
   ]
  },
  {
   "cell_type": "code",
   "execution_count": 74,
   "metadata": {},
   "outputs": [
    {
     "name": "stdout",
     "output_type": "stream",
     "text": [
      "February 2019 mean: 2013\n",
      "February 2020 mean: 2014\n",
      "\n"
     ]
    }
   ],
   "source": [
    "print(f\"\"\"February 2019 mean: {int(feb_2019_mean)}\n",
    "February 2020 mean: {int(feb_2020_mean)}\n",
    "\"\"\")"
   ]
  },
  {
   "cell_type": "markdown",
   "metadata": {},
   "source": [
    "How do the means change?  Both of these means are from before the pandemic.  What explains their difference?\n",
    "\n",
    "<details><summary>Hint:</summary>\n",
    "What is the mean *age* of the dogs being licensed in both cases?\n",
    "</details>"
   ]
  },
  {
   "cell_type": "markdown",
   "metadata": {},
   "source": [
    "<b>Answer:</b> In both years, the mean age of the licensed dogs in 6 years old."
   ]
  },
  {
   "cell_type": "markdown",
   "metadata": {},
   "source": [
    "5b) Next, compute the means of the birth years of dogs licensed in June 2019 and dogs licensed in June 2020."
   ]
  },
  {
   "cell_type": "code",
   "execution_count": 77,
   "metadata": {},
   "outputs": [],
   "source": [
    "june_2019_data = dog_license_data[(dog_license_data['LicenseIssuedDate'] >= \"2019-06-01\") & (dog_license_data['LicenseIssuedDate'] <= \"2019-06-30\")]\n",
    "june_2020_data = dog_license_data[(dog_license_data['LicenseIssuedDate'] >= \"2020-06-01\") & (dog_license_data['LicenseIssuedDate'] <= \"2020-06-30\")]"
   ]
  },
  {
   "cell_type": "code",
   "execution_count": 78,
   "metadata": {},
   "outputs": [],
   "source": [
    "june_2019_mean = june_2019_data['AnimalBirthMonth'].mean()\n",
    "june_2020_mean = june_2020_data['AnimalBirthMonth'].mean()"
   ]
  },
  {
   "cell_type": "code",
   "execution_count": 80,
   "metadata": {},
   "outputs": [
    {
     "name": "stdout",
     "output_type": "stream",
     "text": [
      "June 2019 mean: 2013\n",
      "June 2020 mean: 2016\n",
      "\n"
     ]
    }
   ],
   "source": [
    "print(f\"\"\"June 2019 mean: {int(june_2019_mean)}\n",
    "June 2020 mean: {int(june_2020_mean)}\n",
    "\"\"\")"
   ]
  },
  {
   "cell_type": "markdown",
   "metadata": {},
   "source": [
    "How do these two means change?  Can the explaination for the difference between the February 2019 and February 2020 means also explain this difference?"
   ]
  },
  {
   "cell_type": "markdown",
   "metadata": {},
   "source": [
    "<b>Answer:</b> In June of 2019, the average age was 6 years old. In June of 2020, the average age was 4 years old. This may be because the pandemic boom prompted people to adopt/license younger dogs."
   ]
  },
  {
   "cell_type": "markdown",
   "metadata": {
    "id": "cY09kupht5Y2"
   },
   "source": [
    "### Bonus question:\n",
    "Conduct a hypothesis test to see if there is actually a difference in the number of male and female dogs licensed in April.\n",
    "\n",
    "Hint:  See MAT 128 Lab 14 since this is not reviewed in MAT 328 Lab 1."
   ]
  },
  {
   "cell_type": "code",
   "execution_count": null,
   "metadata": {
    "colab": {
     "base_uri": "https://localhost:8080/"
    },
    "id": "Mt0QncjCyB_p",
    "outputId": "f758fd48-f8e4-4272-921c-00557dbd8cf0"
   },
   "outputs": [],
   "source": []
  }
 ],
 "metadata": {
  "colab": {
   "collapsed_sections": [],
   "name": "Homework 1 solutions.ipynb",
   "provenance": []
  },
  "kernelspec": {
   "display_name": "Python 3",
   "language": "python",
   "name": "python3"
  },
  "language_info": {
   "codemirror_mode": {
    "name": "ipython",
    "version": 3
   },
   "file_extension": ".py",
   "mimetype": "text/x-python",
   "name": "python",
   "nbconvert_exporter": "python",
   "pygments_lexer": "ipython3",
   "version": "3.8.5"
  }
 },
 "nbformat": 4,
 "nbformat_minor": 4
}
