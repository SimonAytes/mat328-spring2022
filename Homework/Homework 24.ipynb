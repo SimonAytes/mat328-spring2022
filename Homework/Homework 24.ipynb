{
 "cells": [
  {
   "cell_type": "markdown",
   "metadata": {},
   "source": [
    "# Homework 24\n",
    "\n",
    "This assignment uses a dataset of all NYC restaurant inspection results from February 2020. The original, unfiltered dataset is at https://data.cityofnewyork.us/Health/DOHMH-New-York-City-Restaurant-Inspection-Results/43nn-pn8j.\n",
    "\n",
    "Download the filtered dataset from: [https://raw.githubusercontent.com/megan-owen/MAT328-Techniques_in_Data_Science/main/data/DOHMH_New_York_City_Restaurant_Inspection_Results_Feb2020.csv](https://raw.githubusercontent.com/megan-owen/MAT328-Techniques_in_Data_Science/main/data/DOHMH_New_York_City_Restaurant_Inspection_Results_Feb2020.csv)\n",
    "\n",
    "Information about how restaurants are inspected and graded in NYC is here: https://www1.nyc.gov/assets/doh/downloads/pdf/rii/how-we-score-grade.pdf(https://www1.nyc.gov/assets/doh/downloads/pdf/rii/how-we-score-grade.pdf)\n",
    "\n",
    "### Question 1: Load the data and exploratory data analysis\n",
    "\n",
    "a) Load the restaurant inspection data into a DataFrame."
   ]
  },
  {
   "cell_type": "code",
   "execution_count": 1,
   "metadata": {},
   "outputs": [],
   "source": [
    "import numpy as np\n",
    "import matplotlib.pyplot as plt\n",
    "import pandas as pd\n",
    "import seaborn as sns\n",
    "%matplotlib inline"
   ]
  },
  {
   "cell_type": "code",
   "execution_count": 2,
   "metadata": {
    "tags": []
   },
   "outputs": [],
   "source": [
    "restaraunts = pd.read_csv(\"https://raw.githubusercontent.com/megan-owen/MAT328-Techniques_in_Data_Science/main/data/DOHMH_New_York_City_Restaurant_Inspection_Results_Feb2020.csv\")"
   ]
  },
  {
   "cell_type": "markdown",
   "metadata": {},
   "source": [
    "1b) Plot a bar chart of the top 20 restaurant cuisines (found in the column `CUISINE DESCRIPTION`).  Which cuisine is most popular?"
   ]
  },
  {
   "cell_type": "code",
   "execution_count": 14,
   "metadata": {},
   "outputs": [
    {
     "data": {
      "text/plain": [
       "<AxesSubplot:xlabel='CUISINE DESCRIPTION', ylabel='count'>"
      ]
     },
     "execution_count": 14,
     "metadata": {},
     "output_type": "execute_result"
    },
    {
     "data": {
      "image/png": "[encoded data removed]",
      "text/plain": [
       "<Figure size 432x288 with 1 Axes>"
      ]
     },
     "metadata": {
      "needs_background": "light"
     },
     "output_type": "display_data"
    }
   ],
   "source": [
    "sns.countplot(x = \"CUISINE DESCRIPTION\", data = restaraunts, order=restaraunts['CUISINE DESCRIPTION'].value_counts().iloc[:20].index)"
   ]
  },
  {
   "cell_type": "markdown",
   "metadata": {},
   "source": [
    "**1b answer:** American cuisine is the most popular."
   ]
  },
  {
   "cell_type": "markdown",
   "metadata": {},
   "source": [
    "1c) Plot a bar chart of the top 20 restaurant cuisines (found in the column CUISINE DESCRIPTION) found in the 10468 zip code (which includes Lehman). Which cuisine is most popular?"
   ]
  },
  {
   "cell_type": "code",
   "execution_count": 17,
   "metadata": {},
   "outputs": [
    {
     "data": {
      "text/plain": [
       "<AxesSubplot:xlabel='CUISINE DESCRIPTION', ylabel='count'>"
      ]
     },
     "execution_count": 17,
     "metadata": {},
     "output_type": "execute_result"
    },
    {
     "data": {
      "image/png": "[encoded data removed]",
      "text/plain": [
       "<Figure size 432x288 with 1 Axes>"
      ]
     },
     "metadata": {
      "needs_background": "light"
     },
     "output_type": "display_data"
    }
   ],
   "source": [
    "sns.countplot(x = \"CUISINE DESCRIPTION\", \n",
    "              data = restaraunts[restaraunts[\"ZIPCODE\"] == 10468], \n",
    "              order= restaraunts[restaraunts[\"ZIPCODE\"] == 10468]['CUISINE DESCRIPTION'].value_counts().iloc[:20].index)"
   ]
  },
  {
   "cell_type": "markdown",
   "metadata": {},
   "source": [
    "**1c answer:** American cuisine is the most popular in the 10468 zipcode as well."
   ]
  },
  {
   "cell_type": "markdown",
   "metadata": {},
   "source": [
    "## Question 2\n",
    "\n",
    "Is the distribution of cuisines in the 10468 zip code different than the distribution of cuisines in New York city as a whole?  As there are so many restaurants in NYC, we can assume the distribution of these restaurant cuisines is the population distribution.  We will use hypothesis testing of categorical data with multiple categories (Lab 25) to compare this NYC distribution with the distribution of restaurant cuisines in the 10468 zip code.\n",
    "\n",
    "Our alternative hypothesis will be:\n",
    "The distribution of cuisines in the 10468 zip code is different from the distribution of cuisines in all of New York city.\n",
    "\n",
    "What is the null hypothesis?"
   ]
  },
  {
   "cell_type": "markdown",
   "metadata": {},
   "source": [
    "**Answer:** The distribution of cuisines in the 10468 zip code is _not different_ from the distribution of cuisines in all of New York city."
   ]
  },
  {
   "cell_type": "markdown",
   "metadata": {},
   "source": [
    "### Question 3\n",
    "Create a dataframe where the rows correspond to the difference cuisines (found in column `CUISINE DESCRIPTION`) and one column is the proportion of each cuisine in NYC and the other column is the proportion of each cuisine in the 10468 zip code.  \n",
    "\n",
    "Hint:  See Lab 24, Section 3 although not that there we are adding the proportion from the random sample and here we want to add the proportions calculated from the data."
   ]
  },
  {
   "cell_type": "code",
   "execution_count": 38,
   "metadata": {},
   "outputs": [],
   "source": [
    "dist = pd.DataFrame()\n",
    "t = pd.DataFrame()\n",
    "t['Cuisine'] = restaraunts[restaraunts[\"ZIPCODE\"] == 10468]['CUISINE DESCRIPTION'].value_counts().index.tolist()\n",
    "t['10468'] = restaraunts[restaraunts[\"ZIPCODE\"] == 10468]['CUISINE DESCRIPTION'].value_counts().tolist()\n",
    "\n",
    "dist['Cuisine'] = restaraunts['CUISINE DESCRIPTION'].value_counts().index.tolist()\n",
    "dist['NYC'] = restaraunts['CUISINE DESCRIPTION'].value_counts().tolist()\n",
    "\n",
    "dist = dist.merge(t, on=\"Cuisine\")"
   ]
  },
  {
   "cell_type": "markdown",
   "metadata": {},
   "source": [
    "### Question 4\n",
    "Using the dataframe you created in Question 3, compute the total variation distance between the proportion of cuisines in New York city and the proportions of cuisines in the 10468 zip code.  \n",
    "\n",
    "Hint:  There may be missing proportions in the dataframe which need to be filled in with 0, which you can do with the code `df = df.fillna(0)`."
   ]
  },
  {
   "cell_type": "code",
   "execution_count": 42,
   "metadata": {
    "tags": []
   },
   "outputs": [],
   "source": [
    "total_variation = abs(dist['NYC'] - dist['10468']).sum()"
   ]
  },
  {
   "cell_type": "markdown",
   "metadata": {},
   "source": [
    "### Question 5\n",
    "Find the distribution of the test statistic (the total variation distance) under the null hypothesis.  That is, do 1000 simulations of restaurant cuisines according to the proportion of cuisines in New York city.  You can do this by taking a random sample of the full DataFrame (ex. `df.sample(10)` takes a random sample of size 10 from the DataFrame `df`) and computing the proportion of each cuisine in this sample.\n",
    "\n",
    "The number of restaurant cuisines sampled should be the number of restaurants in the 10468 zip code.  For each simulation, compute the total variation distance between the sampled proportions and the NYC cuisine proportions.\n",
    "\n",
    "Plot a histogram of these distancs."
   ]
  },
  {
   "cell_type": "code",
   "execution_count": null,
   "metadata": {},
   "outputs": [],
   "source": []
  },
  {
   "cell_type": "markdown",
   "metadata": {},
   "source": [
    "### Question 6\n",
    "Use the data test statistic computed in Question 4 and the histogram from Question 5 to reject or fail to reject the null hypothesis.  What is your conclusion and why? "
   ]
  },
  {
   "cell_type": "markdown",
   "metadata": {},
   "source": [
    "**Answer:** "
   ]
  },
  {
   "cell_type": "markdown",
   "metadata": {},
   "source": [
    " "
   ]
  }
 ],
 "metadata": {
  "kernelspec": {
   "display_name": "Python 3 (ipykernel)",
   "language": "python",
   "name": "python3"
  },
  "language_info": {
   "codemirror_mode": {
    "name": "ipython",
    "version": 3
   },
   "file_extension": ".py",
   "mimetype": "text/x-python",
   "name": "python",
   "nbconvert_exporter": "python",
   "pygments_lexer": "ipython3",
   "version": "3.10.1"
  }
 },
 "nbformat": 4,
 "nbformat_minor": 4
}
