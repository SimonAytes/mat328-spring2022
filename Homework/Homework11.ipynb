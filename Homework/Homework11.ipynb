{
 "cells": [
  {
   "cell_type": "markdown",
   "metadata": {},
   "source": [
    "# Homework 11\n",
    "\n",
    "The following code simulates 40 data points for training your models (stored in DataFrame `df_train`) and 40 data points for testing your models (stored in DataFrame `df_test`).  Both sets of data are simulated from the same distribution.\n",
    "\n",
    "### Question 0:  Simulate the data\n",
    "Run the following code to simulate training data (in DataFrame `df_train`) and testing data (in DataFrame `df_test`)."
   ]
  },
  {
   "cell_type": "code",
   "execution_count": 1,
   "metadata": {},
   "outputs": [],
   "source": [
    "import pandas as pd\n",
    "import matplotlib.pyplot as plt\n",
    "import seaborn as sns\n",
    "import numpy as np\n",
    "from sklearn.model_selection import train_test_split\n",
    "from sklearn.preprocessing import PolynomialFeatures\n",
    "from sklearn.linear_model import LinearRegression\n",
    "from sklearn.metrics import mean_squared_error\n",
    "\n",
    "%matplotlib inline"
   ]
  },
  {
   "cell_type": "code",
   "execution_count": 2,
   "metadata": {},
   "outputs": [],
   "source": [
    "# number of data points\n",
    "n = 40\n",
    "\n",
    "# variance of noise added to data\n",
    "noise_std = 0.35\n",
    "\n",
    "x_data_train = np.random.uniform(-5, 5, n)\n",
    "x_data_test = np.random.uniform(-5, 5, n)\n",
    "\n",
    "# define a function relating input to output\n",
    "f = lambda x: 0.3 * x**2\n",
    "\n",
    "# generate noisy data from the function\n",
    "\n",
    "y_data_train = f(x_data_train) + np.random.normal(0, noise_std, n)\n",
    "y_data_test = f(x_data_test) + np.random.normal(0, noise_std, n)\n",
    "\n",
    "data_train = {\"x\": x_data_train, \"y\": y_data_train}\n",
    "data_test = {\"x\": x_data_test, \"y\": y_data_test}\n",
    "df_train = pd.DataFrame(data_train).sort_values(\"x\")\n",
    "df_test = pd.DataFrame(data_test).sort_values(\"x\")"
   ]
  },
  {
   "cell_type": "markdown",
   "metadata": {},
   "source": [
    "### Question 1: Visualization\n",
    "\n",
    "a) Plot the training data on a scatterplot."
   ]
  },
  {
   "cell_type": "code",
   "execution_count": 8,
   "metadata": {},
   "outputs": [
    {
     "data": {
      "text/plain": [
       "<AxesSubplot:>"
      ]
     },
     "execution_count": 8,
     "metadata": {},
     "output_type": "execute_result"
    },
    {
     "data": {
      "image/png": "[encoded data removed]",
      "text/plain": [
       "<Figure size 432x288 with 1 Axes>"
      ]
     },
     "metadata": {
      "needs_background": "light"
     },
     "output_type": "display_data"
    }
   ],
   "source": [
    "sns.scatterplot(x=x_data_train, y=y_data_train)"
   ]
  },
  {
   "cell_type": "markdown",
   "metadata": {},
   "source": [
    "b) What shape does the training data have?"
   ]
  },
  {
   "cell_type": "markdown",
   "metadata": {},
   "source": [
    "**Answer 1b:** The data is parabolic in shape. The regression is second order."
   ]
  },
  {
   "cell_type": "markdown",
   "metadata": {},
   "source": [
    "### Question 2:  Linear model\n",
    "\n",
    "a) Fit a linear regression model to the training data."
   ]
  },
  {
   "cell_type": "code",
   "execution_count": 32,
   "metadata": {},
   "outputs": [],
   "source": [
    "lr_model = LinearRegression()\n",
    "lr_model.fit(df_train[['x']],df_train['y'])\n",
    "y_pred = lr_model.predict(df_train[['x']])"
   ]
  },
  {
   "cell_type": "markdown",
   "metadata": {},
   "source": [
    "2b) Plot this linear model on a scatter plot of the testing data."
   ]
  },
  {
   "cell_type": "code",
   "execution_count": 33,
   "metadata": {},
   "outputs": [
    {
     "data": {
      "text/plain": [
       "[<matplotlib.lines.Line2D at 0x7ff90da51a00>]"
      ]
     },
     "execution_count": 33,
     "metadata": {},
     "output_type": "execute_result"
    },
    {
     "data": {
      "image/png": "[encoded data removed]",
      "text/plain": [
       "<Figure size 360x360 with 1 Axes>"
      ]
     },
     "metadata": {
      "needs_background": "light"
     },
     "output_type": "display_data"
    }
   ],
   "source": [
    "sns.relplot(x = \"x\", y = \"y\", data = df_test)\n",
    "plt.plot(df_train['x'], y_pred)"
   ]
  },
  {
   "cell_type": "markdown",
   "metadata": {},
   "source": [
    "2c) How well does this linear model fit the test data?"
   ]
  },
  {
   "cell_type": "markdown",
   "metadata": {},
   "source": [
    "**Answer 2c:** The linear model does not fit the test data well at all."
   ]
  },
  {
   "cell_type": "markdown",
   "metadata": {},
   "source": [
    "2d) Predict the `y` values for the testing data using your linear model, and compute the mean squared error of these predictions.  "
   ]
  },
  {
   "cell_type": "code",
   "execution_count": 36,
   "metadata": {},
   "outputs": [
    {
     "name": "stdout",
     "output_type": "stream",
     "text": [
      "Mean-Squared value: 5.82\n"
     ]
    }
   ],
   "source": [
    "y_pred = lr_model.predict(df_test[['x']])\n",
    "ms = mean_squared_error(df_test['y'], y_pred)\n",
    "print(f\"Mean-Squared value: {round(ms, 2)}\")"
   ]
  },
  {
   "cell_type": "markdown",
   "metadata": {},
   "source": [
    "### Question 3: Degree 2 polynomial model\n",
    "a) Fit a polynomial model of degree 2 to the training data."
   ]
  },
  {
   "cell_type": "code",
   "execution_count": 39,
   "metadata": {},
   "outputs": [],
   "source": [
    "# Create/Transform\n",
    "poly_feat = PolynomialFeatures(degree=2)\n",
    "poly = poly_feat.fit_transform(df_train[['x']])"
   ]
  },
  {
   "cell_type": "code",
   "execution_count": 40,
   "metadata": {},
   "outputs": [],
   "source": [
    "# Fit\n",
    "poly_model = LinearRegression()\n",
    "poly_model.fit(poly, df_train['y'])\n",
    "poly_pred = poly_model.predict(poly)"
   ]
  },
  {
   "cell_type": "markdown",
   "metadata": {},
   "source": [
    "3b) Plot this polynomial degree 2 model on a scatter plot of the testing data."
   ]
  },
  {
   "cell_type": "code",
   "execution_count": 41,
   "metadata": {},
   "outputs": [
    {
     "data": {
      "text/plain": [
       "[<matplotlib.lines.Line2D at 0x7ff90d27aa00>]"
      ]
     },
     "execution_count": 41,
     "metadata": {},
     "output_type": "execute_result"
    },
    {
     "data": {
      "image/png": "[encoded data removed]",
      "text/plain": [
       "<Figure size 360x360 with 1 Axes>"
      ]
     },
     "metadata": {
      "needs_background": "light"
     },
     "output_type": "display_data"
    }
   ],
   "source": [
    "sns.relplot(x = \"x\", y = \"y\", data = df_test)\n",
    "plt.plot(df_test[\"x\"],poly_pred)"
   ]
  },
  {
   "cell_type": "markdown",
   "metadata": {},
   "source": [
    "3c) How well does this polynomial degree 2 model fit the test data?"
   ]
  },
  {
   "cell_type": "markdown",
   "metadata": {},
   "source": [
    "**Answer 3c:** Pretty well. It looks like there is a better correlation here than with the previous example."
   ]
  },
  {
   "cell_type": "markdown",
   "metadata": {},
   "source": [
    "3d) Predict the `y` values for the testing data using your polynomial degree 2 model, and compute the mean squared error of these predictions. "
   ]
  },
  {
   "cell_type": "code",
   "execution_count": 42,
   "metadata": {},
   "outputs": [
    {
     "name": "stdout",
     "output_type": "stream",
     "text": [
      "Mean-Squared Error: 0.48\n"
     ]
    }
   ],
   "source": [
    "poly_pred = poly_model.predict(poly)\n",
    "ms = mean_squared_error(df_test['y'], poly_pred)\n",
    "print(f\"Mean-Squared Error: {round(ms, 2)}\")"
   ]
  },
  {
   "cell_type": "markdown",
   "metadata": {},
   "source": [
    "### Question 4: Degree 20 polynomial model\n",
    "a) Fit a polynomial model of degree 20 to the training data."
   ]
  },
  {
   "cell_type": "code",
   "execution_count": 46,
   "metadata": {},
   "outputs": [],
   "source": [
    "# Create/Transform\n",
    "poly_feat_20 = PolynomialFeatures(degree=20)\n",
    "poly_20 = poly_feat_20.fit_transform(df_train[['x']])"
   ]
  },
  {
   "cell_type": "code",
   "execution_count": 47,
   "metadata": {},
   "outputs": [],
   "source": [
    "# Fit\n",
    "poly_model_20 = LinearRegression()\n",
    "poly_model_20.fit(poly_20, df_train['y'])\n",
    "poly_pred_20 = poly_model_20.predict(poly_20)"
   ]
  },
  {
   "cell_type": "markdown",
   "metadata": {},
   "source": [
    "4b) Plot this polynomial degree 20 model on a scatter plot of the testing data."
   ]
  },
  {
   "cell_type": "code",
   "execution_count": 48,
   "metadata": {},
   "outputs": [
    {
     "data": {
      "text/plain": [
       "[<matplotlib.lines.Line2D at 0x7ff8f8cea940>]"
      ]
     },
     "execution_count": 48,
     "metadata": {},
     "output_type": "execute_result"
    },
    {
     "data": {
      "image/png": "[encoded data removed]",
      "text/plain": [
       "<Figure size 360x360 with 1 Axes>"
      ]
     },
     "metadata": {
      "needs_background": "light"
     },
     "output_type": "display_data"
    }
   ],
   "source": [
    "sns.relplot(x = \"x\", y = \"y\", data = df_test)\n",
    "plt.plot(df_test[\"x\"],poly_pred_20)"
   ]
  },
  {
   "cell_type": "markdown",
   "metadata": {},
   "source": [
    "4c) How well does this polynomial degree 20 model fit the test data?"
   ]
  },
  {
   "cell_type": "markdown",
   "metadata": {},
   "source": [
    "**Answer 4c:** Reasonably well, but less so than the 2 degree model."
   ]
  },
  {
   "cell_type": "markdown",
   "metadata": {},
   "source": [
    "4d) Predict the `y` values for the testing data using your polynomial degree 20 model, and compute the mean squared error of these predictions."
   ]
  },
  {
   "cell_type": "code",
   "execution_count": 50,
   "metadata": {},
   "outputs": [
    {
     "name": "stdout",
     "output_type": "stream",
     "text": [
      "Mean-Squared Error: 0.5\n"
     ]
    }
   ],
   "source": [
    "poly_pred_20 = poly_model_20.predict(poly_20)\n",
    "ms = mean_squared_error(df_test['y'], poly_pred_20)\n",
    "print(f\"Mean-Squared Error: {round(ms, 2)}\")"
   ]
  },
  {
   "cell_type": "markdown",
   "metadata": {},
   "source": [
    "### Question 5: Conclusion\n",
    "\n",
    "a) Which of the three models has the best mean squared error on the testing data?  The worst? "
   ]
  },
  {
   "cell_type": "markdown",
   "metadata": {},
   "source": [
    "**Answer 5a:** The best was the 2-degree polynomial model and the worst was the linear regression."
   ]
  },
  {
   "cell_type": "markdown",
   "metadata": {},
   "source": [
    "5b) Which of the three models do you think fits the data best?  Why?"
   ]
  },
  {
   "cell_type": "markdown",
   "metadata": {},
   "source": [
    "**Answer 5b:** I think the 2-degree polynomial model fits the data the best. Its MSE is relatively low and it seems to have a strong fit."
   ]
  }
 ],
 "metadata": {
  "kernelspec": {
   "display_name": "Python 3 (ipykernel)",
   "language": "python",
   "name": "python3"
  },
  "language_info": {
   "codemirror_mode": {
    "name": "ipython",
    "version": 3
   },
   "file_extension": ".py",
   "mimetype": "text/x-python",
   "name": "python",
   "nbconvert_exporter": "python",
   "pygments_lexer": "ipython3",
   "version": "3.10.1"
  }
 },
 "nbformat": 4,
 "nbformat_minor": 4
}
