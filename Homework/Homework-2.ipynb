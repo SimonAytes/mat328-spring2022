{
 "cells": [
  {
   "cell_type": "markdown",
   "metadata": {},
   "source": [
    "# Homework 2: slicing, sorting, and grouping\n",
    "\n",
    "This homework uses the 2021 green taxi trip data filtered to only be trips with a pickup date and time on Feb. 3, 2021.  Download the file from Blackboard or from GitHub:\n",
    "[https://raw.githubusercontent.com/megan-owen/MAT328-Techniques_in_Data_Science/main/data/Feb3_2021_Green_Taxi_Trip_Data.csv](https://raw.githubusercontent.com/megan-owen/MAT328-Techniques_in_Data_Science/main/data/Feb3_2021_Green_Taxi_Trip_Data.csv).  \n",
    "\n",
    "The original unfiltered dataset is available at [https://data.cityofnewyork.us/Transportation/2021-Green-Taxi-Trip-Data-Jan-Jul-/djnb-wcxt](https://data.cityofnewyork.us/Transportation/2021-Green-Taxi-Trip-Data-Jan-Jul-/djnb-wcxt).\n",
    "\n",
    "Answer the following questions for the data, showing all outputs of your code in the notebook. \n",
    "\n",
    "All plots should have an appropriate title and axis labels.\n",
    "\n",
    "### Question 0:  Load the data\n",
    "\n",
    "Put any import statements, and load the green taxi trip data from Feb. 3, 2021 from the CSV file or URL here.  The column `lpep_pickup_datetime` should be stored as a DateTime object.\n",
    "\n",
    "Note:  If you have problems convert the `lpep_pickup_datetime` column to a `datetime` object using `pd.to_datetime()`, another way to do the converstion is by adding the parameter `parse_dates = [\"lpep_pickup_datetime\"]` to `read_csv()`.  \n",
    "ex. `taxi = pd.read_csv(\"taxi.csv\", parse_dates = [\"lpep_pickup_datetime\"])`"
   ]
  },
  {
   "cell_type": "code",
   "execution_count": null,
   "metadata": {
    "collapsed": true,
    "jupyter": {
     "outputs_hidden": true
    }
   },
   "outputs": [],
   "source": []
  },
  {
   "cell_type": "markdown",
   "metadata": {},
   "source": [
    "### Question 1\n",
    "\n",
    "Create a new dataframe called `taxi2` containing only the columns `lpep_pickup_datetime`, `passenger_count`, `trip_distance`, `total_amount`, and `payment_type`.\n",
    "\n",
    "You can use this new DataFrame for the rest of the homework, or if you get stuck on this question, just keep using the original DataFrame."
   ]
  },
  {
   "cell_type": "code",
   "execution_count": null,
   "metadata": {},
   "outputs": [],
   "source": []
  },
  {
   "cell_type": "markdown",
   "metadata": {},
   "source": [
    "### Question 2\n",
    "\n",
    "Use slicing to extract the trip distances in the third through seventh (inclusive) row of the DataFrame.\n",
    "\n",
    "Hint:  What are the row indices for these rows?"
   ]
  },
  {
   "cell_type": "code",
   "execution_count": null,
   "metadata": {},
   "outputs": [],
   "source": []
  },
  {
   "cell_type": "markdown",
   "metadata": {},
   "source": [
    "### Question 3\n",
    "\n",
    "Create a new DataFrame called `sorted_taxi` from either `taxi` or `taxi2` (the DataFrame created in Question 1) that is sorted in ascending order by total amount, then by passenger count. "
   ]
  },
  {
   "cell_type": "code",
   "execution_count": null,
   "metadata": {},
   "outputs": [],
   "source": []
  },
  {
   "cell_type": "markdown",
   "metadata": {},
   "source": [
    "What do you notice about the `total_amount` column at the beginning of the DataFrame? "
   ]
  },
  {
   "cell_type": "markdown",
   "metadata": {},
   "source": [
    "<b>Answer:</b> "
   ]
  },
  {
   "cell_type": "markdown",
   "metadata": {},
   "source": [
    "### Question 4\n",
    "\n",
    "The `payment_type` column holds a number indicating how the passenger paid for the trip:\n",
    "- 1 = credit card\n",
    "- 2 = cash\n",
    "- 3 = no charge\n",
    "- 4 = dispute\n",
    "- 5 = unknown\n",
    "- 6 = voided trip\n",
    "\n",
    "Compute the median total amount for each possible payment type.  For what number of passengers is the mean trip distance the longest?"
   ]
  },
  {
   "cell_type": "code",
   "execution_count": null,
   "metadata": {},
   "outputs": [],
   "source": []
  },
  {
   "cell_type": "markdown",
   "metadata": {},
   "source": [
    "For what payment type is the median total amount the highest?"
   ]
  },
  {
   "cell_type": "markdown",
   "metadata": {},
   "source": [
    "<b>Answer</b>:  "
   ]
  },
  {
   "cell_type": "markdown",
   "metadata": {},
   "source": [
    "Why do you think that no medians show for payment type numbers 5 (unknown) and 6 (voided trip)?"
   ]
  },
  {
   "cell_type": "markdown",
   "metadata": {},
   "source": [
    "<b>Answer</b>: "
   ]
  },
  {
   "cell_type": "markdown",
   "metadata": {},
   "source": [
    "### Question 5\n",
    "\n",
    "Compute the mean total amount for each hour (0-23) of Feb. 3, 2021, and plot a line graph of these means.\n",
    "\n",
    "The hour of DateTime data can be accessed with `dt.hour`  "
   ]
  },
  {
   "cell_type": "code",
   "execution_count": null,
   "metadata": {},
   "outputs": [],
   "source": []
  },
  {
   "cell_type": "markdown",
   "metadata": {},
   "source": [
    "What trends do you notice in this graph?"
   ]
  },
  {
   "cell_type": "markdown",
   "metadata": {},
   "source": [
    "<b>Answer:</b> "
   ]
  }
 ],
 "metadata": {
  "kernelspec": {
   "display_name": "Python 3",
   "language": "python",
   "name": "python3"
  },
  "language_info": {
   "codemirror_mode": {
    "name": "ipython",
    "version": 3
   },
   "file_extension": ".py",
   "mimetype": "text/x-python",
   "name": "python",
   "nbconvert_exporter": "python",
   "pygments_lexer": "ipython3",
   "version": "3.8.5"
  }
 },
 "nbformat": 4,
 "nbformat_minor": 4
}
