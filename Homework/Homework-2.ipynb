{
 "cells": [
  {
   "cell_type": "markdown",
   "metadata": {},
   "source": [
    "# Homework 2: slicing, sorting, and grouping\n",
    "\n",
    "This homework uses the 2021 green taxi trip data filtered to only be trips with a pickup date and time on Feb. 3, 2021.  Download the file from Blackboard or from GitHub:\n",
    "[https://raw.githubusercontent.com/megan-owen/MAT328-Techniques_in_Data_Science/main/data/Feb3_2021_Green_Taxi_Trip_Data.csv](https://raw.githubusercontent.com/megan-owen/MAT328-Techniques_in_Data_Science/main/data/Feb3_2021_Green_Taxi_Trip_Data.csv).  \n",
    "\n",
    "The original unfiltered dataset is available at [https://data.cityofnewyork.us/Transportation/2021-Green-Taxi-Trip-Data-Jan-Jul-/djnb-wcxt](https://data.cityofnewyork.us/Transportation/2021-Green-Taxi-Trip-Data-Jan-Jul-/djnb-wcxt).\n",
    "\n",
    "Answer the following questions for the data, showing all outputs of your code in the notebook. \n",
    "\n",
    "All plots should have an appropriate title and axis labels.\n",
    "\n",
    "### Question 0:  Load the data\n",
    "\n",
    "Put any import statements, and load the green taxi trip data from Feb. 3, 2021 from the CSV file or URL here.  The column `lpep_pickup_datetime` should be stored as a DateTime object.\n",
    "\n",
    "Note:  If you have problems convert the `lpep_pickup_datetime` column to a `datetime` object using `pd.to_datetime()`, another way to do the converstion is by adding the parameter `parse_dates = [\"lpep_pickup_datetime\"]` to `read_csv()`.  \n",
    "ex. `taxi = pd.read_csv(\"taxi.csv\", parse_dates = [\"lpep_pickup_datetime\"])`"
   ]
  },
  {
   "cell_type": "code",
   "execution_count": 1,
   "metadata": {
    "tags": []
   },
   "outputs": [],
   "source": [
    "import pandas as pd\n",
    "taxi = pd.read_csv(\"https://raw.githubusercontent.com/megan-owen/MAT328-Techniques_in_Data_Science/main/data/Feb3_2021_Green_Taxi_Trip_Data.csv\")"
   ]
  },
  {
   "cell_type": "code",
   "execution_count": 7,
   "metadata": {},
   "outputs": [],
   "source": [
    "taxi['lpep_pickup_datetime'] = pd.to_datetime(taxi['lpep_pickup_datetime'])\n",
    "taxi['lpep_dropoff_datetime'] = pd.to_datetime(taxi['lpep_dropoff_datetime'])"
   ]
  },
  {
   "cell_type": "markdown",
   "metadata": {},
   "source": [
    "### Question 1\n",
    "\n",
    "Create a new dataframe called `taxi2` containing only the columns `lpep_pickup_datetime`, `passenger_count`, `trip_distance`, `total_amount`, and `payment_type`.\n",
    "\n",
    "You can use this new DataFrame for the rest of the homework, or if you get stuck on this question, just keep using the original DataFrame."
   ]
  },
  {
   "cell_type": "code",
   "execution_count": 9,
   "metadata": {},
   "outputs": [],
   "source": [
    "taxi2 = taxi[[\"lpep_pickup_datetime\", \"passenger_count\", \"trip_distance\", \"total_amount\", \"payment_type\"]]"
   ]
  },
  {
   "cell_type": "markdown",
   "metadata": {
    "tags": []
   },
   "source": [
    "### Question 2\n",
    "\n",
    "Use slicing to extract the trip distances in the third through seventh (inclusive) row of the DataFrame.\n",
    "\n",
    "Hint:  What are the row indices for these rows?"
   ]
  },
  {
   "cell_type": "code",
   "execution_count": 16,
   "metadata": {},
   "outputs": [
    {
     "data": {
      "text/plain": [
       "3    6.19\n",
       "4    2.74\n",
       "5    1.09\n",
       "6    4.18\n",
       "7    5.08\n",
       "Name: trip_distance, dtype: float64"
      ]
     },
     "execution_count": 16,
     "metadata": {},
     "output_type": "execute_result"
    }
   ],
   "source": [
    "taxi2.loc[3:7,:]['trip_distance']"
   ]
  },
  {
   "cell_type": "markdown",
   "metadata": {},
   "source": [
    "### Question 3\n",
    "\n",
    "Create a new DataFrame called `sorted_taxi` from either `taxi` or `taxi2` (the DataFrame created in Question 1) that is sorted in ascending order by total amount, then by passenger count. "
   ]
  },
  {
   "cell_type": "code",
   "execution_count": 20,
   "metadata": {},
   "outputs": [],
   "source": [
    "sorted_taxi = taxi2.sort_values(['total_amount', 'passenger_count'], ascending=True)"
   ]
  },
  {
   "cell_type": "code",
   "execution_count": 22,
   "metadata": {},
   "outputs": [
    {
     "data": {
      "text/html": [
       "<div>\n",
       "<style scoped>\n",
       "    .dataframe tbody tr th:only-of-type {\n",
       "        vertical-align: middle;\n",
       "    }\n",
       "\n",
       "    .dataframe tbody tr th {\n",
       "        vertical-align: top;\n",
       "    }\n",
       "\n",
       "    .dataframe thead th {\n",
       "        text-align: right;\n",
       "    }\n",
       "</style>\n",
       "<table border=\"1\" class=\"dataframe\">\n",
       "  <thead>\n",
       "    <tr style=\"text-align: right;\">\n",
       "      <th></th>\n",
       "      <th>lpep_pickup_datetime</th>\n",
       "      <th>passenger_count</th>\n",
       "      <th>trip_distance</th>\n",
       "      <th>total_amount</th>\n",
       "      <th>payment_type</th>\n",
       "    </tr>\n",
       "  </thead>\n",
       "  <tbody>\n",
       "    <tr>\n",
       "      <th>1229</th>\n",
       "      <td>2021-02-03 13:42:11</td>\n",
       "      <td>1.0</td>\n",
       "      <td>0.00</td>\n",
       "      <td>-52.80</td>\n",
       "      <td>3.0</td>\n",
       "    </tr>\n",
       "    <tr>\n",
       "      <th>1481</th>\n",
       "      <td>2021-02-03 15:11:13</td>\n",
       "      <td>1.0</td>\n",
       "      <td>0.00</td>\n",
       "      <td>-43.30</td>\n",
       "      <td>4.0</td>\n",
       "    </tr>\n",
       "    <tr>\n",
       "      <th>1889</th>\n",
       "      <td>2021-02-03 17:40:34</td>\n",
       "      <td>1.0</td>\n",
       "      <td>0.96</td>\n",
       "      <td>-7.80</td>\n",
       "      <td>3.0</td>\n",
       "    </tr>\n",
       "    <tr>\n",
       "      <th>821</th>\n",
       "      <td>2021-02-03 11:26:33</td>\n",
       "      <td>1.0</td>\n",
       "      <td>0.00</td>\n",
       "      <td>0.00</td>\n",
       "      <td>1.0</td>\n",
       "    </tr>\n",
       "    <tr>\n",
       "      <th>1050</th>\n",
       "      <td>2021-02-03 12:43:19</td>\n",
       "      <td>1.0</td>\n",
       "      <td>0.00</td>\n",
       "      <td>0.00</td>\n",
       "      <td>2.0</td>\n",
       "    </tr>\n",
       "    <tr>\n",
       "      <th>...</th>\n",
       "      <td>...</td>\n",
       "      <td>...</td>\n",
       "      <td>...</td>\n",
       "      <td>...</td>\n",
       "      <td>...</td>\n",
       "    </tr>\n",
       "    <tr>\n",
       "      <th>1809</th>\n",
       "      <td>2021-02-03 17:08:34</td>\n",
       "      <td>1.0</td>\n",
       "      <td>31.95</td>\n",
       "      <td>98.92</td>\n",
       "      <td>1.0</td>\n",
       "    </tr>\n",
       "    <tr>\n",
       "      <th>826</th>\n",
       "      <td>2021-02-03 11:28:00</td>\n",
       "      <td>NaN</td>\n",
       "      <td>34.28</td>\n",
       "      <td>109.50</td>\n",
       "      <td>NaN</td>\n",
       "    </tr>\n",
       "    <tr>\n",
       "      <th>1143</th>\n",
       "      <td>2021-02-03 13:14:00</td>\n",
       "      <td>NaN</td>\n",
       "      <td>34.05</td>\n",
       "      <td>109.50</td>\n",
       "      <td>NaN</td>\n",
       "    </tr>\n",
       "    <tr>\n",
       "      <th>2082</th>\n",
       "      <td>2021-02-03 19:19:27</td>\n",
       "      <td>1.0</td>\n",
       "      <td>21.76</td>\n",
       "      <td>109.80</td>\n",
       "      <td>2.0</td>\n",
       "    </tr>\n",
       "    <tr>\n",
       "      <th>427</th>\n",
       "      <td>2021-02-03 09:16:54</td>\n",
       "      <td>1.0</td>\n",
       "      <td>16.46</td>\n",
       "      <td>130.80</td>\n",
       "      <td>1.0</td>\n",
       "    </tr>\n",
       "  </tbody>\n",
       "</table>\n",
       "<p>2281 rows × 5 columns</p>\n",
       "</div>"
      ],
      "text/plain": [
       "     lpep_pickup_datetime  passenger_count  trip_distance  total_amount  \\\n",
       "1229  2021-02-03 13:42:11              1.0           0.00        -52.80   \n",
       "1481  2021-02-03 15:11:13              1.0           0.00        -43.30   \n",
       "1889  2021-02-03 17:40:34              1.0           0.96         -7.80   \n",
       "821   2021-02-03 11:26:33              1.0           0.00          0.00   \n",
       "1050  2021-02-03 12:43:19              1.0           0.00          0.00   \n",
       "...                   ...              ...            ...           ...   \n",
       "1809  2021-02-03 17:08:34              1.0          31.95         98.92   \n",
       "826   2021-02-03 11:28:00              NaN          34.28        109.50   \n",
       "1143  2021-02-03 13:14:00              NaN          34.05        109.50   \n",
       "2082  2021-02-03 19:19:27              1.0          21.76        109.80   \n",
       "427   2021-02-03 09:16:54              1.0          16.46        130.80   \n",
       "\n",
       "      payment_type  \n",
       "1229           3.0  \n",
       "1481           4.0  \n",
       "1889           3.0  \n",
       "821            1.0  \n",
       "1050           2.0  \n",
       "...            ...  \n",
       "1809           1.0  \n",
       "826            NaN  \n",
       "1143           NaN  \n",
       "2082           2.0  \n",
       "427            1.0  \n",
       "\n",
       "[2281 rows x 5 columns]"
      ]
     },
     "execution_count": 22,
     "metadata": {},
     "output_type": "execute_result"
    }
   ],
   "source": [
    "sorted_taxi"
   ]
  },
  {
   "cell_type": "markdown",
   "metadata": {},
   "source": [
    "What do you notice about the `total_amount` column at the beginning of the DataFrame? "
   ]
  },
  {
   "cell_type": "markdown",
   "metadata": {},
   "source": [
    "<b>Answer:</b> The first few rows are negative amounts."
   ]
  },
  {
   "cell_type": "markdown",
   "metadata": {
    "tags": []
   },
   "source": [
    "### Question 4\n",
    "\n",
    "The `payment_type` column holds a number indicating how the passenger paid for the trip:\n",
    "- 1 = credit card\n",
    "- 2 = cash\n",
    "- 3 = no charge\n",
    "- 4 = dispute\n",
    "- 5 = unknown\n",
    "- 6 = voided trip\n",
    "\n",
    "Compute the median total amount for each possible payment type.  For what number of passengers is the mean trip distance the longest?"
   ]
  },
  {
   "cell_type": "code",
   "execution_count": 27,
   "metadata": {},
   "outputs": [],
   "source": [
    "median_amount_payment = taxi2.groupby('payment_type')['total_amount'].median()"
   ]
  },
  {
   "cell_type": "code",
   "execution_count": 28,
   "metadata": {},
   "outputs": [
    {
     "data": {
      "text/plain": [
       "payment_type\n",
       "1.0    15.66\n",
       "2.0    10.80\n",
       "3.0     6.05\n",
       "4.0     3.30\n",
       "Name: total_amount, dtype: float64"
      ]
     },
     "execution_count": 28,
     "metadata": {},
     "output_type": "execute_result"
    }
   ],
   "source": [
    "median_amount_payment"
   ]
  },
  {
   "cell_type": "markdown",
   "metadata": {},
   "source": [
    "For what payment type is the median total amount the highest?"
   ]
  },
  {
   "cell_type": "markdown",
   "metadata": {},
   "source": [
    "<b>Answer</b>:  Credit card has the highest median total amount, coming out to $15.66."
   ]
  },
  {
   "cell_type": "markdown",
   "metadata": {},
   "source": [
    "Why do you think that no medians show for payment type numbers 5 (unknown) and 6 (voided trip)?"
   ]
  },
  {
   "cell_type": "code",
   "execution_count": 35,
   "metadata": {},
   "outputs": [
    {
     "data": {
      "text/plain": [
       "1.0    821\n",
       "2.0    465\n",
       "3.0      8\n",
       "4.0      3\n",
       "Name: payment_type, dtype: int64"
      ]
     },
     "execution_count": 35,
     "metadata": {},
     "output_type": "execute_result"
    }
   ],
   "source": [
    "taxi2['payment_type'].value_counts()"
   ]
  },
  {
   "cell_type": "markdown",
   "metadata": {},
   "source": [
    "<b>Answer</b>: After looking into the value counts for each payment type, it appears that payment types of 5 and 6 are not represented in the data."
   ]
  },
  {
   "cell_type": "markdown",
   "metadata": {},
   "source": [
    "### Question 5\n",
    "\n",
    "Compute the mean total amount for each hour (0-23) of Feb. 3, 2021, and plot a line graph of these means.\n",
    "\n",
    "The hour of DateTime data can be accessed with `dt.hour`  "
   ]
  },
  {
   "cell_type": "code",
   "execution_count": 40,
   "metadata": {},
   "outputs": [],
   "source": [
    "feb_3_21_data = taxi2.loc[taxi2['lpep_pickup_datetime'] >= '2021-02-03']\n",
    "feb_3_21_data = feb_3_21_data.loc[feb_3_21_data['lpep_pickup_datetime'] < '2021-02-04']"
   ]
  },
  {
   "cell_type": "code",
   "execution_count": 66,
   "metadata": {},
   "outputs": [],
   "source": [
    "mean_totals_by_hour = feb_3_21_data.groupby(feb_3_21_data.lpep_pickup_datetime.dt.hour).total_amount.mean()"
   ]
  },
  {
   "cell_type": "code",
   "execution_count": 67,
   "metadata": {},
   "outputs": [],
   "source": [
    "mean_totals_by_hour = mean_totals_by_hour.to_frame()"
   ]
  },
  {
   "cell_type": "code",
   "execution_count": 71,
   "metadata": {},
   "outputs": [],
   "source": [
    "import matplotlib.pyplot as plt\n",
    "%matplotlib inline"
   ]
  },
  {
   "cell_type": "code",
   "execution_count": 74,
   "metadata": {},
   "outputs": [
    {
     "data": {
      "image/png": "[encoded data removed]",
      "text/plain": [
       "<Figure size 432x288 with 1 Axes>"
      ]
     },
     "metadata": {
      "needs_background": "light"
     },
     "output_type": "display_data"
    }
   ],
   "source": [
    "mean_totals_by_hour.plot()\n",
    "plt.title(\"Mean fare amount on Febraury 3, 2021\")\n",
    "plt.xlabel(\"Hour of day (24-hr format)\")\n",
    "plt.ylabel(\"Mean fare amount ($)\")\n",
    "plt.show()"
   ]
  },
  {
   "cell_type": "markdown",
   "metadata": {},
   "source": [
    "What trends do you notice in this graph?"
   ]
  },
  {
   "cell_type": "markdown",
   "metadata": {},
   "source": [
    "<b>Answer:</b> The price is rather steady in the afternoon, but it spikes around 5am and then reduces in price gradually until the end of the day. This may be due to some early-morning rush hour traffic where the ride times are longer, hence the off-hour spike. "
   ]
  }
 ],
 "metadata": {
  "kernelspec": {
   "display_name": "Python 3 (ipykernel)",
   "language": "python",
   "name": "python3"
  },
  "language_info": {
   "codemirror_mode": {
    "name": "ipython",
    "version": 3
   },
   "file_extension": ".py",
   "mimetype": "text/x-python",
   "name": "python",
   "nbconvert_exporter": "python",
   "pygments_lexer": "ipython3",
   "version": "3.10.1"
  }
 },
 "nbformat": 4,
 "nbformat_minor": 4
}
