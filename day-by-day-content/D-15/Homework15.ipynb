{
 "cells": [
  {
   "cell_type": "markdown",
   "metadata": {},
   "source": [
    "**Replace with your name and a brief description of the notebook.**"
   ]
  },
  {
   "cell_type": "markdown",
   "metadata": {},
   "source": [
    "# Homework 15\n",
    "\n",
    "This homework uses the Green taxi data from Homework 2 and 14.  The 2021 green taxi trip data from NYC Open Data was filtered to only be trips with a pickup date and time on Feb. 3, 2021. \n",
    "\n",
    "A congestion surcharge of $2.75 (shown in the `congestion_surcharge` column) is added to all trips that start, end, or pass through Manhattan, south of 96th street. \n",
    "\n",
    "Filtered trip data URL: [https://raw.githubusercontent.com/megan-owen/MAT328-Techniques_in_Data_Science/main/data/Feb3_2021_Green_Taxi_Trip_Data.csv](https://raw.githubusercontent.com/megan-owen/MAT328-Techniques_in_Data_Science/main/data/Feb3_2021_Green_Taxi_Trip_Data.csv)\n",
    "\n",
    "We will try to predict which trips involve tolls using the `congestion_surcharge`, `passenger_count`, `trip_distance`, and `fare_amount` columns.\n",
    "\n",
    "For questions related to Homework 14, you can use the Homework 14 solutions posted on Blackboard if you did not complete Homework 14."
   ]
  },
  {
   "cell_type": "code",
   "execution_count": 1,
   "metadata": {},
   "outputs": [],
   "source": [
    "import pandas as pd\n",
    "import matplotlib.pyplot as plt\n",
    "import seaborn as sns\n",
    "import numpy as np\n",
    "from sklearn.model_selection import train_test_split\n",
    "from sklearn.linear_model import LogisticRegression\n",
    "import statsmodels.formula.api as smf\n",
    "from scipy.special import expit\n",
    "from scipy.stats import logistic\n",
    "\n",
    "%matplotlib inline"
   ]
  },
  {
   "cell_type": "markdown",
   "metadata": {},
   "source": [
    "### Question 1: Loading and cleaning the data\n",
    "\n",
    "a) Load the data into Python."
   ]
  },
  {
   "cell_type": "code",
   "execution_count": 11,
   "metadata": {},
   "outputs": [],
   "source": [
    "data = pd.read_csv(\"https://raw.githubusercontent.com/megan-owen/MAT328-Techniques_in_Data_Science/main/data/Feb3_2021_Green_Taxi_Trip_Data.csv\")"
   ]
  },
  {
   "cell_type": "markdown",
   "metadata": {},
   "source": [
    "1b) Create a new column called `paid_toll` that contains a 1 if the value in the `tolls_amount` column is greater than 0 and a 0 otherwise.  Hint:  See Lab 1, Section 6."
   ]
  },
  {
   "cell_type": "code",
   "execution_count": 12,
   "metadata": {},
   "outputs": [],
   "source": [
    "def is_positive(x):\n",
    "    if (x > 0):\n",
    "        return 1\n",
    "    else:\n",
    "        return 0"
   ]
  },
  {
   "cell_type": "code",
   "execution_count": 13,
   "metadata": {},
   "outputs": [],
   "source": [
    "data['paid_toll'] = data.tolls_amount.apply(is_positive)"
   ]
  },
  {
   "cell_type": "markdown",
   "metadata": {},
   "source": [
    "1c) We will only use whether or not a congestion surcharge was added, so create a new column called `manhattan` that contains a 1 if the value in the `congestion_surcharge` column is greater than 0, and 0 otherwise."
   ]
  },
  {
   "cell_type": "code",
   "execution_count": 14,
   "metadata": {},
   "outputs": [],
   "source": [
    "data['manhattan'] = data.congestion_surcharge.apply(is_positive)"
   ]
  },
  {
   "cell_type": "markdown",
   "metadata": {},
   "source": [
    "1d) Create a new DataFrame (or change your current DataFrame) that only contains the columns `manhattan`, `passenger_count`,`trip_distance`, `fare_amount`, and `paid_toll`"
   ]
  },
  {
   "cell_type": "code",
   "execution_count": 15,
   "metadata": {},
   "outputs": [],
   "source": [
    "data_filtered = data[['manhattan', 'passenger_count', 'trip_distance', 'fare_amount', 'paid_toll']]"
   ]
  },
  {
   "cell_type": "markdown",
   "metadata": {},
   "source": [
    "### Question 2:  Cleaning data continued\n",
    "\n",
    "a) Do any of the rows in the DataFrame created in question 1d have missing values?"
   ]
  },
  {
   "cell_type": "code",
   "execution_count": 16,
   "metadata": {},
   "outputs": [
    {
     "data": {
      "text/html": [
       "<div>\n",
       "<style scoped>\n",
       "    .dataframe tbody tr th:only-of-type {\n",
       "        vertical-align: middle;\n",
       "    }\n",
       "\n",
       "    .dataframe tbody tr th {\n",
       "        vertical-align: top;\n",
       "    }\n",
       "\n",
       "    .dataframe thead th {\n",
       "        text-align: right;\n",
       "    }\n",
       "</style>\n",
       "<table border=\"1\" class=\"dataframe\">\n",
       "  <thead>\n",
       "    <tr style=\"text-align: right;\">\n",
       "      <th></th>\n",
       "      <th>manhattan</th>\n",
       "      <th>passenger_count</th>\n",
       "      <th>trip_distance</th>\n",
       "      <th>fare_amount</th>\n",
       "      <th>paid_toll</th>\n",
       "    </tr>\n",
       "  </thead>\n",
       "  <tbody>\n",
       "    <tr>\n",
       "      <th>count</th>\n",
       "      <td>2281.000000</td>\n",
       "      <td>1297.000000</td>\n",
       "      <td>2281.000000</td>\n",
       "      <td>2281.000000</td>\n",
       "      <td>2281.000000</td>\n",
       "    </tr>\n",
       "    <tr>\n",
       "      <th>mean</th>\n",
       "      <td>0.128014</td>\n",
       "      <td>1.121049</td>\n",
       "      <td>49.399842</td>\n",
       "      <td>19.587405</td>\n",
       "      <td>0.076721</td>\n",
       "    </tr>\n",
       "    <tr>\n",
       "      <th>std</th>\n",
       "      <td>0.334179</td>\n",
       "      <td>0.559704</td>\n",
       "      <td>2148.602160</td>\n",
       "      <td>14.294597</td>\n",
       "      <td>0.266206</td>\n",
       "    </tr>\n",
       "    <tr>\n",
       "      <th>min</th>\n",
       "      <td>0.000000</td>\n",
       "      <td>1.000000</td>\n",
       "      <td>0.000000</td>\n",
       "      <td>-52.000000</td>\n",
       "      <td>0.000000</td>\n",
       "    </tr>\n",
       "    <tr>\n",
       "      <th>25%</th>\n",
       "      <td>0.000000</td>\n",
       "      <td>1.000000</td>\n",
       "      <td>1.350000</td>\n",
       "      <td>9.000000</td>\n",
       "      <td>0.000000</td>\n",
       "    </tr>\n",
       "    <tr>\n",
       "      <th>50%</th>\n",
       "      <td>0.000000</td>\n",
       "      <td>1.000000</td>\n",
       "      <td>2.530000</td>\n",
       "      <td>16.520000</td>\n",
       "      <td>0.000000</td>\n",
       "    </tr>\n",
       "    <tr>\n",
       "      <th>75%</th>\n",
       "      <td>0.000000</td>\n",
       "      <td>1.000000</td>\n",
       "      <td>5.570000</td>\n",
       "      <td>24.810000</td>\n",
       "      <td>0.000000</td>\n",
       "    </tr>\n",
       "    <tr>\n",
       "      <th>max</th>\n",
       "      <td>1.000000</td>\n",
       "      <td>6.000000</td>\n",
       "      <td>102620.980000</td>\n",
       "      <td>115.000000</td>\n",
       "      <td>1.000000</td>\n",
       "    </tr>\n",
       "  </tbody>\n",
       "</table>\n",
       "</div>"
      ],
      "text/plain": [
       "         manhattan  passenger_count  trip_distance  fare_amount    paid_toll\n",
       "count  2281.000000      1297.000000    2281.000000  2281.000000  2281.000000\n",
       "mean      0.128014         1.121049      49.399842    19.587405     0.076721\n",
       "std       0.334179         0.559704    2148.602160    14.294597     0.266206\n",
       "min       0.000000         1.000000       0.000000   -52.000000     0.000000\n",
       "25%       0.000000         1.000000       1.350000     9.000000     0.000000\n",
       "50%       0.000000         1.000000       2.530000    16.520000     0.000000\n",
       "75%       0.000000         1.000000       5.570000    24.810000     0.000000\n",
       "max       1.000000         6.000000  102620.980000   115.000000     1.000000"
      ]
     },
     "execution_count": 16,
     "metadata": {},
     "output_type": "execute_result"
    }
   ],
   "source": [
    "data_filtered.describe()"
   ]
  },
  {
   "cell_type": "markdown",
   "metadata": {},
   "source": [
    "**Answer 2a:** Yes. The `passenger_count` column has missing values."
   ]
  },
  {
   "cell_type": "markdown",
   "metadata": {},
   "source": [
    "2b) If you found in 2a that some of the rows have missing values, drop all rows with at least one NaN values."
   ]
  },
  {
   "cell_type": "code",
   "execution_count": 17,
   "metadata": {},
   "outputs": [],
   "source": [
    "data_filtered_dropna = data_filtered.dropna(how=\"any\")"
   ]
  },
  {
   "cell_type": "markdown",
   "metadata": {},
   "source": [
    "2c) How many rows did you drop?"
   ]
  },
  {
   "cell_type": "code",
   "execution_count": 20,
   "metadata": {},
   "outputs": [
    {
     "data": {
      "text/plain": [
       "984"
      ]
     },
     "execution_count": 20,
     "metadata": {},
     "output_type": "execute_result"
    }
   ],
   "source": [
    "data_filtered.shape[0] - data_filtered_dropna.shape[0]"
   ]
  },
  {
   "cell_type": "code",
   "execution_count": 24,
   "metadata": {},
   "outputs": [
    {
     "data": {
      "text/html": [
       "<div>\n",
       "<style scoped>\n",
       "    .dataframe tbody tr th:only-of-type {\n",
       "        vertical-align: middle;\n",
       "    }\n",
       "\n",
       "    .dataframe tbody tr th {\n",
       "        vertical-align: top;\n",
       "    }\n",
       "\n",
       "    .dataframe thead th {\n",
       "        text-align: right;\n",
       "    }\n",
       "</style>\n",
       "<table border=\"1\" class=\"dataframe\">\n",
       "  <thead>\n",
       "    <tr style=\"text-align: right;\">\n",
       "      <th></th>\n",
       "      <th>manhattan</th>\n",
       "      <th>passenger_count</th>\n",
       "      <th>trip_distance</th>\n",
       "      <th>fare_amount</th>\n",
       "      <th>paid_toll</th>\n",
       "    </tr>\n",
       "  </thead>\n",
       "  <tbody>\n",
       "    <tr>\n",
       "      <th>0</th>\n",
       "      <td>1</td>\n",
       "      <td>1.0</td>\n",
       "      <td>2.77</td>\n",
       "      <td>12.5</td>\n",
       "      <td>0</td>\n",
       "    </tr>\n",
       "    <tr>\n",
       "      <th>1</th>\n",
       "      <td>0</td>\n",
       "      <td>1.0</td>\n",
       "      <td>1.15</td>\n",
       "      <td>6.5</td>\n",
       "      <td>0</td>\n",
       "    </tr>\n",
       "    <tr>\n",
       "      <th>2</th>\n",
       "      <td>0</td>\n",
       "      <td>1.0</td>\n",
       "      <td>1.41</td>\n",
       "      <td>6.0</td>\n",
       "      <td>0</td>\n",
       "    </tr>\n",
       "    <tr>\n",
       "      <th>3</th>\n",
       "      <td>0</td>\n",
       "      <td>1.0</td>\n",
       "      <td>6.19</td>\n",
       "      <td>19.5</td>\n",
       "      <td>0</td>\n",
       "    </tr>\n",
       "    <tr>\n",
       "      <th>4</th>\n",
       "      <td>0</td>\n",
       "      <td>1.0</td>\n",
       "      <td>2.74</td>\n",
       "      <td>12.0</td>\n",
       "      <td>0</td>\n",
       "    </tr>\n",
       "    <tr>\n",
       "      <th>...</th>\n",
       "      <td>...</td>\n",
       "      <td>...</td>\n",
       "      <td>...</td>\n",
       "      <td>...</td>\n",
       "      <td>...</td>\n",
       "    </tr>\n",
       "    <tr>\n",
       "      <th>2275</th>\n",
       "      <td>0</td>\n",
       "      <td>2.0</td>\n",
       "      <td>1.32</td>\n",
       "      <td>7.0</td>\n",
       "      <td>0</td>\n",
       "    </tr>\n",
       "    <tr>\n",
       "      <th>2276</th>\n",
       "      <td>0</td>\n",
       "      <td>1.0</td>\n",
       "      <td>0.10</td>\n",
       "      <td>12.0</td>\n",
       "      <td>0</td>\n",
       "    </tr>\n",
       "    <tr>\n",
       "      <th>2277</th>\n",
       "      <td>0</td>\n",
       "      <td>1.0</td>\n",
       "      <td>2.51</td>\n",
       "      <td>9.5</td>\n",
       "      <td>0</td>\n",
       "    </tr>\n",
       "    <tr>\n",
       "      <th>2279</th>\n",
       "      <td>0</td>\n",
       "      <td>1.0</td>\n",
       "      <td>1.53</td>\n",
       "      <td>8.5</td>\n",
       "      <td>0</td>\n",
       "    </tr>\n",
       "    <tr>\n",
       "      <th>2280</th>\n",
       "      <td>0</td>\n",
       "      <td>1.0</td>\n",
       "      <td>5.95</td>\n",
       "      <td>18.5</td>\n",
       "      <td>1</td>\n",
       "    </tr>\n",
       "  </tbody>\n",
       "</table>\n",
       "<p>1297 rows × 5 columns</p>\n",
       "</div>"
      ],
      "text/plain": [
       "      manhattan  passenger_count  trip_distance  fare_amount  paid_toll\n",
       "0             1              1.0           2.77         12.5          0\n",
       "1             0              1.0           1.15          6.5          0\n",
       "2             0              1.0           1.41          6.0          0\n",
       "3             0              1.0           6.19         19.5          0\n",
       "4             0              1.0           2.74         12.0          0\n",
       "...         ...              ...            ...          ...        ...\n",
       "2275          0              2.0           1.32          7.0          0\n",
       "2276          0              1.0           0.10         12.0          0\n",
       "2277          0              1.0           2.51          9.5          0\n",
       "2279          0              1.0           1.53          8.5          0\n",
       "2280          0              1.0           5.95         18.5          1\n",
       "\n",
       "[1297 rows x 5 columns]"
      ]
     },
     "execution_count": 24,
     "metadata": {},
     "output_type": "execute_result"
    }
   ],
   "source": [
    "data_filtered_dropna"
   ]
  },
  {
   "cell_type": "markdown",
   "metadata": {},
   "source": [
    "**Answer 2c:** I dropped 984 rows"
   ]
  },
  {
   "cell_type": "markdown",
   "metadata": {},
   "source": [
    "### Question 3: Logistic regression model\n",
    "\n",
    "a) Create a logistic model where `paid_toll` is the dependent variable, and all other columns in your final, cleaned DataFrame from Question 2c are the independent variables."
   ]
  },
  {
   "cell_type": "code",
   "execution_count": 27,
   "metadata": {},
   "outputs": [
    {
     "name": "stdout",
     "output_type": "stream",
     "text": [
      "Optimization terminated successfully.\n",
      "         Current function value: 0.089774\n",
      "         Iterations 10\n"
     ]
    },
    {
     "data": {
      "text/html": [
       "<table class=\"simpletable\">\n",
       "<caption>Logit Regression Results</caption>\n",
       "<tr>\n",
       "  <th>Dep. Variable:</th>       <td>paid_toll</td>    <th>  No. Observations:  </th>  <td>  1297</td>  \n",
       "</tr>\n",
       "<tr>\n",
       "  <th>Model:</th>                 <td>Logit</td>      <th>  Df Residuals:      </th>  <td>  1292</td>  \n",
       "</tr>\n",
       "<tr>\n",
       "  <th>Method:</th>                 <td>MLE</td>       <th>  Df Model:          </th>  <td>     4</td>  \n",
       "</tr>\n",
       "<tr>\n",
       "  <th>Date:</th>            <td>Thu, 31 Mar 2022</td> <th>  Pseudo R-squ.:     </th>  <td>0.4885</td>  \n",
       "</tr>\n",
       "<tr>\n",
       "  <th>Time:</th>                <td>23:50:53</td>     <th>  Log-Likelihood:    </th> <td> -116.44</td> \n",
       "</tr>\n",
       "<tr>\n",
       "  <th>converged:</th>             <td>True</td>       <th>  LL-Null:           </th> <td> -227.64</td> \n",
       "</tr>\n",
       "<tr>\n",
       "  <th>Covariance Type:</th>     <td>nonrobust</td>    <th>  LLR p-value:       </th> <td>5.674e-47</td>\n",
       "</tr>\n",
       "</table>\n",
       "<table class=\"simpletable\">\n",
       "<tr>\n",
       "         <td></td>            <th>coef</th>     <th>std err</th>      <th>z</th>      <th>P>|z|</th>  <th>[0.025</th>    <th>0.975]</th>  \n",
       "</tr>\n",
       "<tr>\n",
       "  <th>Intercept</th>       <td>   -4.1078</td> <td>    0.943</td> <td>   -4.358</td> <td> 0.000</td> <td>   -5.955</td> <td>   -2.260</td>\n",
       "</tr>\n",
       "<tr>\n",
       "  <th>manhattan</th>       <td>   -2.5506</td> <td>    1.000</td> <td>   -2.551</td> <td> 0.011</td> <td>   -4.510</td> <td>   -0.591</td>\n",
       "</tr>\n",
       "<tr>\n",
       "  <th>passenger_count</th> <td>   -0.8630</td> <td>    0.863</td> <td>   -1.000</td> <td> 0.317</td> <td>   -2.555</td> <td>    0.829</td>\n",
       "</tr>\n",
       "<tr>\n",
       "  <th>trip_distance</th>   <td>    0.2410</td> <td>    0.054</td> <td>    4.450</td> <td> 0.000</td> <td>    0.135</td> <td>    0.347</td>\n",
       "</tr>\n",
       "<tr>\n",
       "  <th>fare_amount</th>     <td>    0.0220</td> <td>    0.017</td> <td>    1.289</td> <td> 0.197</td> <td>   -0.011</td> <td>    0.055</td>\n",
       "</tr>\n",
       "</table>"
      ],
      "text/plain": [
       "<class 'statsmodels.iolib.summary.Summary'>\n",
       "\"\"\"\n",
       "                           Logit Regression Results                           \n",
       "==============================================================================\n",
       "Dep. Variable:              paid_toll   No. Observations:                 1297\n",
       "Model:                          Logit   Df Residuals:                     1292\n",
       "Method:                           MLE   Df Model:                            4\n",
       "Date:                Thu, 31 Mar 2022   Pseudo R-squ.:                  0.4885\n",
       "Time:                        23:50:53   Log-Likelihood:                -116.44\n",
       "converged:                       True   LL-Null:                       -227.64\n",
       "Covariance Type:            nonrobust   LLR p-value:                 5.674e-47\n",
       "===================================================================================\n",
       "                      coef    std err          z      P>|z|      [0.025      0.975]\n",
       "-----------------------------------------------------------------------------------\n",
       "Intercept          -4.1078      0.943     -4.358      0.000      -5.955      -2.260\n",
       "manhattan          -2.5506      1.000     -2.551      0.011      -4.510      -0.591\n",
       "passenger_count    -0.8630      0.863     -1.000      0.317      -2.555       0.829\n",
       "trip_distance       0.2410      0.054      4.450      0.000       0.135       0.347\n",
       "fare_amount         0.0220      0.017      1.289      0.197      -0.011       0.055\n",
       "===================================================================================\n",
       "\"\"\""
      ]
     },
     "execution_count": 27,
     "metadata": {},
     "output_type": "execute_result"
    }
   ],
   "source": [
    "logit_model = smf.logit('paid_toll ~ manhattan + passenger_count + trip_distance + fare_amount', data = data_filtered_dropna).fit()\n",
    "logit_model.summary()"
   ]
  },
  {
   "cell_type": "markdown",
   "metadata": {},
   "source": [
    "3b) Recall that the p-value for each variable (in the column P > |z|) is the probability that we would get the coefficient in the `coef` column or one with a greater magnitude, when that coefficient is really 0 (meaning that variable does not affect the dependent variable).  Make a new logistic model with only those variables with a p-value less than 0.05, and compute the summary."
   ]
  },
  {
   "cell_type": "code",
   "execution_count": 28,
   "metadata": {},
   "outputs": [
    {
     "name": "stdout",
     "output_type": "stream",
     "text": [
      "Optimization terminated successfully.\n",
      "         Current function value: 0.090955\n",
      "         Iterations 10\n"
     ]
    },
    {
     "data": {
      "text/html": [
       "<table class=\"simpletable\">\n",
       "<caption>Logit Regression Results</caption>\n",
       "<tr>\n",
       "  <th>Dep. Variable:</th>       <td>paid_toll</td>    <th>  No. Observations:  </th>  <td>  1297</td>  \n",
       "</tr>\n",
       "<tr>\n",
       "  <th>Model:</th>                 <td>Logit</td>      <th>  Df Residuals:      </th>  <td>  1294</td>  \n",
       "</tr>\n",
       "<tr>\n",
       "  <th>Method:</th>                 <td>MLE</td>       <th>  Df Model:          </th>  <td>     2</td>  \n",
       "</tr>\n",
       "<tr>\n",
       "  <th>Date:</th>            <td>Thu, 31 Mar 2022</td> <th>  Pseudo R-squ.:     </th>  <td>0.4818</td>  \n",
       "</tr>\n",
       "<tr>\n",
       "  <th>Time:</th>                <td>23:51:17</td>     <th>  Log-Likelihood:    </th> <td> -117.97</td> \n",
       "</tr>\n",
       "<tr>\n",
       "  <th>converged:</th>             <td>True</td>       <th>  LL-Null:           </th> <td> -227.64</td> \n",
       "</tr>\n",
       "<tr>\n",
       "  <th>Covariance Type:</th>     <td>nonrobust</td>    <th>  LLR p-value:       </th> <td>2.340e-48</td>\n",
       "</tr>\n",
       "</table>\n",
       "<table class=\"simpletable\">\n",
       "<tr>\n",
       "        <td></td>           <th>coef</th>     <th>std err</th>      <th>z</th>      <th>P>|z|</th>  <th>[0.025</th>    <th>0.975]</th>  \n",
       "</tr>\n",
       "<tr>\n",
       "  <th>Intercept</th>     <td>   -4.8808</td> <td>    0.309</td> <td>  -15.775</td> <td> 0.000</td> <td>   -5.487</td> <td>   -4.274</td>\n",
       "</tr>\n",
       "<tr>\n",
       "  <th>trip_distance</th> <td>    0.3056</td> <td>    0.027</td> <td>   11.315</td> <td> 0.000</td> <td>    0.253</td> <td>    0.358</td>\n",
       "</tr>\n",
       "<tr>\n",
       "  <th>manhattan</th>     <td>   -2.7743</td> <td>    1.070</td> <td>   -2.592</td> <td> 0.010</td> <td>   -4.872</td> <td>   -0.677</td>\n",
       "</tr>\n",
       "</table>"
      ],
      "text/plain": [
       "<class 'statsmodels.iolib.summary.Summary'>\n",
       "\"\"\"\n",
       "                           Logit Regression Results                           \n",
       "==============================================================================\n",
       "Dep. Variable:              paid_toll   No. Observations:                 1297\n",
       "Model:                          Logit   Df Residuals:                     1294\n",
       "Method:                           MLE   Df Model:                            2\n",
       "Date:                Thu, 31 Mar 2022   Pseudo R-squ.:                  0.4818\n",
       "Time:                        23:51:17   Log-Likelihood:                -117.97\n",
       "converged:                       True   LL-Null:                       -227.64\n",
       "Covariance Type:            nonrobust   LLR p-value:                 2.340e-48\n",
       "=================================================================================\n",
       "                    coef    std err          z      P>|z|      [0.025      0.975]\n",
       "---------------------------------------------------------------------------------\n",
       "Intercept        -4.8808      0.309    -15.775      0.000      -5.487      -4.274\n",
       "trip_distance     0.3056      0.027     11.315      0.000       0.253       0.358\n",
       "manhattan        -2.7743      1.070     -2.592      0.010      -4.872      -0.677\n",
       "=================================================================================\n",
       "\"\"\""
      ]
     },
     "execution_count": 28,
     "metadata": {},
     "output_type": "execute_result"
    }
   ],
   "source": [
    "logit_model = smf.logit('paid_toll ~ trip_distance + manhattan', data = data_filtered_dropna).fit()\n",
    "logit_model.summary()"
   ]
  },
  {
   "cell_type": "markdown",
   "metadata": {},
   "source": [
    "3c)  What is the Pseudo R-squared value for your new logistic model?  What does it suggest about the fit of the model?  How does it compare to the logistic regression model from Homework 14 that only used `trip_distance` as the independent variable?"
   ]
  },
  {
   "cell_type": "markdown",
   "metadata": {},
   "source": [
    "**Question 3c answer:** The $R^2$ value is $0.4818$. The $R^2$ value from Homework 14 was $0.4466$. This model is slightly more error-prone than the other one."
   ]
  },
  {
   "cell_type": "markdown",
   "metadata": {},
   "source": [
    "3d)  What is the equation of your logistic regression model?  The equation below is written in Latex, which is a system for typing math equations.  Double click on this cell, and replace the part of the equation that says \"reg\" to finish the formula.  \"run\" this cell (as you would a code cell) when you are finished.\n",
    "\n",
    "$$y = \\frac{1}{1 + e^{-(-4.8808 -0.3056x_1 + 2.7743x_2)}}$$"
   ]
  },
  {
   "cell_type": "markdown",
   "metadata": {},
   "source": [
    "### Question 4: Confusion matrix\n",
    "\n",
    "a) Compute the confusion matrix for your second logistic regression model."
   ]
  },
  {
   "cell_type": "code",
   "execution_count": 30,
   "metadata": {},
   "outputs": [
    {
     "data": {
      "text/plain": [
       "array([[1230.,   12.],\n",
       "       [  29.,   26.]])"
      ]
     },
     "execution_count": 30,
     "metadata": {},
     "output_type": "execute_result"
    }
   ],
   "source": [
    "confusion_matrix = logit_model.pred_table()\n",
    "confusion_matrix"
   ]
  },
  {
   "cell_type": "markdown",
   "metadata": {},
   "source": [
    "4b) What is the accuracy, sensitivity, specificity, and precision of your model?"
   ]
  },
  {
   "cell_type": "code",
   "execution_count": 31,
   "metadata": {},
   "outputs": [],
   "source": [
    "true_pos = confusion_matrix[0][0]\n",
    "false_pos = confusion_matrix[1][0]\n",
    "false_neg = confusion_matrix[0][1]\n",
    "true_neg = confusion_matrix[1][1]"
   ]
  },
  {
   "cell_type": "code",
   "execution_count": 33,
   "metadata": {},
   "outputs": [],
   "source": [
    "accuracy = (true_pos + true_neg)/data_filtered_dropna.shape[0]\n",
    "sensitivity = true_pos/(true_pos + false_neg)\n",
    "specificity = true_neg/(true_neg + false_pos)\n",
    "precision = true_pos/(true_pos + false_pos)"
   ]
  },
  {
   "cell_type": "code",
   "execution_count": 34,
   "metadata": {},
   "outputs": [
    {
     "name": "stdout",
     "output_type": "stream",
     "text": [
      "\n",
      "Accuracy: 0.9683885890516577\n",
      "Sensitivity: 0.9903381642512077\n",
      "Specificity: 0.4727272727272727\n",
      "Precision: 0.9769658459094519\n",
      "\n"
     ]
    }
   ],
   "source": [
    "print(f\"\"\"\n",
    "Accuracy: {accuracy}\n",
    "Sensitivity: {sensitivity}\n",
    "Specificity: {specificity}\n",
    "Precision: {precision}\n",
    "\"\"\")"
   ]
  },
  {
   "cell_type": "markdown",
   "metadata": {},
   "source": [
    "4c) Based on your answers to 4a and 4b, what are the strengths and weaknesses of this model?"
   ]
  },
  {
   "cell_type": "markdown",
   "metadata": {},
   "source": [
    "**4c answer:** It is good at classifying positives correctly, but is not so good at classifying true negatives."
   ]
  },
  {
   "cell_type": "code",
   "execution_count": null,
   "metadata": {},
   "outputs": [],
   "source": []
  }
 ],
 "metadata": {
  "kernelspec": {
   "display_name": "Python 3",
   "language": "python",
   "name": "python3"
  },
  "language_info": {
   "codemirror_mode": {
    "name": "ipython",
    "version": 3
   },
   "file_extension": ".py",
   "mimetype": "text/x-python",
   "name": "python",
   "nbconvert_exporter": "python",
   "pygments_lexer": "ipython3",
   "version": "3.8.5"
  }
 },
 "nbformat": 4,
 "nbformat_minor": 4
}
