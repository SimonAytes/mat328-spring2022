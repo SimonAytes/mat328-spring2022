{
 "cells": [
  {
   "cell_type": "markdown",
   "metadata": {},
   "source": [
    "**Replace with your name and a brief description of the notebook.**"
   ]
  },
  {
   "cell_type": "markdown",
   "metadata": {},
   "source": [
    "# Homework 23\n",
    "\n",
    "This homework uses a dataset with nutritional information about Starbucks drinks.\n",
    "\n",
    "Data URL: [https://raw.githubusercontent.com/megan-owen/MAT328-Techniques_in_Data_Science/main/data/starbucks-menu-nutrition-drinks.csv](https://raw.githubusercontent.com/megan-owen/MAT328-Techniques_in_Data_Science/main/data/starbucks-menu-nutrition-drinks.csv)"
   ]
  },
  {
   "cell_type": "code",
   "execution_count": 1,
   "metadata": {},
   "outputs": [],
   "source": [
    "import pandas as pd\n",
    "import matplotlib.pyplot as plt\n",
    "import matplotlib.cm as cm\n",
    "from mpl_toolkits import mplot3d\n",
    "import seaborn as sns\n",
    "import numpy as np\n",
    "\n",
    "from sklearn.preprocessing import StandardScaler\n",
    "\n",
    "from sklearn.cluster import KMeans\n",
    "\n",
    "from sklearn.metrics import silhouette_score\n",
    "\n",
    "from sklearn.decomposition import PCA\n",
    "\n",
    "%matplotlib inline\n",
    "pd.set_option(\"display.max_columns\", None)"
   ]
  },
  {
   "cell_type": "markdown",
   "metadata": {},
   "source": [
    "### Question 1: Loading and cleaning the data\n",
    "\n",
    "Load the Starbucks data into a variable and drop any rows with missing data.\n",
    "\n",
    "Additional information:\n",
    "* Missing data is indicated by a dash \"-\" in the CSV file.\n",
    "* Use the parameter `index_col =0` in `read_csv()` to use the drink name as the index"
   ]
  },
  {
   "cell_type": "code",
   "execution_count": 9,
   "metadata": {},
   "outputs": [],
   "source": [
    "drinks = pd.read_csv(\"https://raw.githubusercontent.com/megan-owen/MAT328-Techniques_in_Data_Science/main/data/starbucks-menu-nutrition-drinks.csv\", index_col=0, na_values=\"-\")"
   ]
  },
  {
   "cell_type": "code",
   "execution_count": 11,
   "metadata": {},
   "outputs": [],
   "source": [
    "drinks = drinks.dropna(how=\"any\")"
   ]
  },
  {
   "cell_type": "code",
   "execution_count": 12,
   "metadata": {},
   "outputs": [
    {
     "data": {
      "text/html": [
       "<div>\n",
       "<style scoped>\n",
       "    .dataframe tbody tr th:only-of-type {\n",
       "        vertical-align: middle;\n",
       "    }\n",
       "\n",
       "    .dataframe tbody tr th {\n",
       "        vertical-align: top;\n",
       "    }\n",
       "\n",
       "    .dataframe thead th {\n",
       "        text-align: right;\n",
       "    }\n",
       "</style>\n",
       "<table border=\"1\" class=\"dataframe\">\n",
       "  <thead>\n",
       "    <tr style=\"text-align: right;\">\n",
       "      <th></th>\n",
       "      <th>Calories</th>\n",
       "      <th>Fat (g)</th>\n",
       "      <th>Carb. (g)</th>\n",
       "      <th>Fiber (g)</th>\n",
       "      <th>Protein</th>\n",
       "      <th>Sodium</th>\n",
       "    </tr>\n",
       "  </thead>\n",
       "  <tbody>\n",
       "    <tr>\n",
       "      <th>Cool Lime Starbucks Refreshers Beverage</th>\n",
       "      <td>45.0</td>\n",
       "      <td>0.0</td>\n",
       "      <td>11.0</td>\n",
       "      <td>0.0</td>\n",
       "      <td>0.0</td>\n",
       "      <td>10.0</td>\n",
       "    </tr>\n",
       "    <tr>\n",
       "      <th>Strawberry Acai Starbucks Refreshers Beverage</th>\n",
       "      <td>80.0</td>\n",
       "      <td>0.0</td>\n",
       "      <td>18.0</td>\n",
       "      <td>1.0</td>\n",
       "      <td>0.0</td>\n",
       "      <td>10.0</td>\n",
       "    </tr>\n",
       "    <tr>\n",
       "      <th>Very Berry Hibiscus Starbucks Refreshers Beverage</th>\n",
       "      <td>60.0</td>\n",
       "      <td>0.0</td>\n",
       "      <td>14.0</td>\n",
       "      <td>1.0</td>\n",
       "      <td>0.0</td>\n",
       "      <td>10.0</td>\n",
       "    </tr>\n",
       "    <tr>\n",
       "      <th>Evolution Fresh Organic Ginger Limeade</th>\n",
       "      <td>110.0</td>\n",
       "      <td>0.0</td>\n",
       "      <td>28.0</td>\n",
       "      <td>0.0</td>\n",
       "      <td>0.0</td>\n",
       "      <td>5.0</td>\n",
       "    </tr>\n",
       "    <tr>\n",
       "      <th>Iced Coffee</th>\n",
       "      <td>0.0</td>\n",
       "      <td>0.0</td>\n",
       "      <td>0.0</td>\n",
       "      <td>0.0</td>\n",
       "      <td>0.0</td>\n",
       "      <td>0.0</td>\n",
       "    </tr>\n",
       "    <tr>\n",
       "      <th>...</th>\n",
       "      <td>...</td>\n",
       "      <td>...</td>\n",
       "      <td>...</td>\n",
       "      <td>...</td>\n",
       "      <td>...</td>\n",
       "      <td>...</td>\n",
       "    </tr>\n",
       "    <tr>\n",
       "      <th>Mocha Light Frappuccino Blended Coffee</th>\n",
       "      <td>140.0</td>\n",
       "      <td>0.5</td>\n",
       "      <td>28.0</td>\n",
       "      <td>1.0</td>\n",
       "      <td>4.0</td>\n",
       "      <td>180.0</td>\n",
       "    </tr>\n",
       "    <tr>\n",
       "      <th>Cinnamon Dolce Creme</th>\n",
       "      <td>200.0</td>\n",
       "      <td>6.0</td>\n",
       "      <td>28.0</td>\n",
       "      <td>0.0</td>\n",
       "      <td>10.0</td>\n",
       "      <td>135.0</td>\n",
       "    </tr>\n",
       "    <tr>\n",
       "      <th>Vanilla Creme</th>\n",
       "      <td>200.0</td>\n",
       "      <td>6.0</td>\n",
       "      <td>28.0</td>\n",
       "      <td>0.0</td>\n",
       "      <td>10.0</td>\n",
       "      <td>135.0</td>\n",
       "    </tr>\n",
       "    <tr>\n",
       "      <th>Chocolate Smoothie</th>\n",
       "      <td>320.0</td>\n",
       "      <td>5.0</td>\n",
       "      <td>53.0</td>\n",
       "      <td>8.0</td>\n",
       "      <td>20.0</td>\n",
       "      <td>170.0</td>\n",
       "    </tr>\n",
       "    <tr>\n",
       "      <th>Strawberry Smoothie</th>\n",
       "      <td>300.0</td>\n",
       "      <td>2.0</td>\n",
       "      <td>60.0</td>\n",
       "      <td>7.0</td>\n",
       "      <td>16.0</td>\n",
       "      <td>130.0</td>\n",
       "    </tr>\n",
       "  </tbody>\n",
       "</table>\n",
       "<p>92 rows × 6 columns</p>\n",
       "</div>"
      ],
      "text/plain": [
       "                                                   Calories  Fat (g)  \\\n",
       "Cool Lime Starbucks Refreshers Beverage                45.0      0.0   \n",
       "Strawberry Acai Starbucks Refreshers Beverage          80.0      0.0   \n",
       "Very Berry Hibiscus Starbucks Refreshers Beverage      60.0      0.0   \n",
       "Evolution Fresh Organic Ginger Limeade                110.0      0.0   \n",
       "Iced Coffee                                             0.0      0.0   \n",
       "...                                                     ...      ...   \n",
       "Mocha Light Frappuccino Blended Coffee                140.0      0.5   \n",
       "Cinnamon Dolce Creme                                  200.0      6.0   \n",
       "Vanilla Creme                                         200.0      6.0   \n",
       "Chocolate Smoothie                                    320.0      5.0   \n",
       "Strawberry Smoothie                                   300.0      2.0   \n",
       "\n",
       "                                                   Carb. (g)  Fiber (g)  \\\n",
       "Cool Lime Starbucks Refreshers Beverage                 11.0        0.0   \n",
       "Strawberry Acai Starbucks Refreshers Beverage           18.0        1.0   \n",
       "Very Berry Hibiscus Starbucks Refreshers Beverage       14.0        1.0   \n",
       "Evolution Fresh Organic Ginger Limeade                  28.0        0.0   \n",
       "Iced Coffee                                              0.0        0.0   \n",
       "...                                                      ...        ...   \n",
       "Mocha Light Frappuccino Blended Coffee                  28.0        1.0   \n",
       "Cinnamon Dolce Creme                                    28.0        0.0   \n",
       "Vanilla Creme                                           28.0        0.0   \n",
       "Chocolate Smoothie                                      53.0        8.0   \n",
       "Strawberry Smoothie                                     60.0        7.0   \n",
       "\n",
       "                                                   Protein  Sodium  \n",
       "Cool Lime Starbucks Refreshers Beverage                0.0    10.0  \n",
       "Strawberry Acai Starbucks Refreshers Beverage          0.0    10.0  \n",
       "Very Berry Hibiscus Starbucks Refreshers Beverage      0.0    10.0  \n",
       "Evolution Fresh Organic Ginger Limeade                 0.0     5.0  \n",
       "Iced Coffee                                            0.0     0.0  \n",
       "...                                                    ...     ...  \n",
       "Mocha Light Frappuccino Blended Coffee                 4.0   180.0  \n",
       "Cinnamon Dolce Creme                                  10.0   135.0  \n",
       "Vanilla Creme                                         10.0   135.0  \n",
       "Chocolate Smoothie                                    20.0   170.0  \n",
       "Strawberry Smoothie                                   16.0   130.0  \n",
       "\n",
       "[92 rows x 6 columns]"
      ]
     },
     "execution_count": 12,
     "metadata": {},
     "output_type": "execute_result"
    }
   ],
   "source": [
    "drinks"
   ]
  },
  {
   "cell_type": "markdown",
   "metadata": {},
   "source": [
    "### Question 2:  Standardization and PCA\n",
    "\n",
    "2a) What is the dimension of this data set?"
   ]
  },
  {
   "cell_type": "markdown",
   "metadata": {},
   "source": [
    "**2a answer:** 92 rows and 6 columns (after removing all NaN values)"
   ]
  },
  {
   "cell_type": "markdown",
   "metadata": {},
   "source": [
    "2b) Standardize the quantitative columns."
   ]
  },
  {
   "cell_type": "code",
   "execution_count": 13,
   "metadata": {
    "collapsed": true,
    "jupyter": {
     "outputs_hidden": true
    }
   },
   "outputs": [
    {
     "data": {
      "text/plain": [
       "array([[-0.96594202, -0.60437386, -0.90795601, -0.31621836, -0.73352567,\n",
       "        -0.70479935],\n",
       "       [-0.59097718, -0.60437386, -0.44535817,  0.39334479, -0.73352567,\n",
       "        -0.70479935],\n",
       "       [-0.8052428 , -0.60437386, -0.7096998 ,  0.39334479, -0.73352567,\n",
       "        -0.70479935],\n",
       "       [-0.26957875, -0.60437386,  0.21549589, -0.31621836, -0.73352567,\n",
       "        -0.77831584],\n",
       "       [-1.44803966, -0.60437386, -1.63489548, -0.31621836, -0.73352567,\n",
       "        -0.85183232],\n",
       "       [-0.05531314,  0.04216562, -0.24710195, -0.31621836,  0.14977749,\n",
       "         0.10388199],\n",
       "       [ 0.05181967,  0.04216562, -0.11493114, -0.31621836,  0.14977749,\n",
       "         0.47146442],\n",
       "       [-0.05531314,  0.04216562, -0.24710195, -0.31621836,  0.14977749,\n",
       "         0.10388199],\n",
       "       [-0.59097718, -0.60437386, -0.37927277, -0.31621836, -0.73352567,\n",
       "        -0.70479935],\n",
       "       [-0.8052428 , -0.60437386, -0.64361439, -0.31621836, -0.73352567,\n",
       "        -0.70479935],\n",
       "       [ 0.15895248, -0.60437386,  0.87634995, -0.31621836, -0.73352567,\n",
       "        -0.63128287],\n",
       "       [ 0.05181967, -0.60437386,  0.67809373, -0.31621836, -0.73352567,\n",
       "        -0.70479935],\n",
       "       [ 0.05181967, -0.60437386,  0.67809373, -0.31621836, -0.73352567,\n",
       "        -0.63128287],\n",
       "       [ 0.15895248, -0.60437386,  0.81026454, -0.31621836, -0.73352567,\n",
       "        -0.63128287],\n",
       "       [-0.69810999, -0.60437386, -0.51144358, -0.31621836, -0.73352567,\n",
       "        -0.70479935],\n",
       "       [-0.16244594, -0.60437386,  0.41375211, -0.31621836, -0.73352567,\n",
       "        -0.70479935],\n",
       "       [ 0.05181967, -0.60437386,  0.67809373, -0.31621836, -0.73352567,\n",
       "        -0.70479935],\n",
       "       [-0.8052428 , -0.60437386, -0.64361439, -0.31621836, -0.73352567,\n",
       "        -0.70479935],\n",
       "       [-0.16244594, -0.60437386,  0.41375211, -0.31621836, -0.73352567,\n",
       "        -0.70479935],\n",
       "       [ 0.05181967, -0.60437386,  0.67809373, -0.31621836, -0.73352567,\n",
       "        -0.70479935],\n",
       "       [ 0.15895248, -0.60437386,  0.87634995, -0.31621836, -0.73352567,\n",
       "        -0.63128287],\n",
       "       [ 0.05181967, -0.60437386,  0.67809373, -0.31621836, -0.73352567,\n",
       "        -0.70479935],\n",
       "       [-1.12664123, -0.60437386, -1.10621223, -0.31621836, -0.73352567,\n",
       "        -0.77831584],\n",
       "       [-0.69810999, -0.60437386, -0.51144358, -0.31621836, -0.73352567,\n",
       "        -0.85183232],\n",
       "       [-1.12664123, -0.60437386, -1.10621223, -0.31621836, -0.73352567,\n",
       "        -0.77831584],\n",
       "       [-0.69810999, -0.60437386, -0.51144358, -0.31621836, -0.73352567,\n",
       "        -0.77831584],\n",
       "       [-1.12664123, -0.60437386, -1.10621223, -0.31621836, -0.73352567,\n",
       "        -0.77831584],\n",
       "       [-0.48384437, -0.60437386, -0.04884573, -0.31621836, -0.73352567,\n",
       "        -0.85183232],\n",
       "       [-0.8052428 , -0.60437386, -0.64361439, -0.31621836, -0.73352567,\n",
       "        -0.85183232],\n",
       "       [-0.05531314,  0.04216562, -0.24710195, -0.31621836,  0.14977749,\n",
       "         0.10388199],\n",
       "       [ 0.05181967,  0.04216562, -0.11493114, -0.31621836,  0.14977749,\n",
       "         0.47146442],\n",
       "       [-0.05531314,  0.04216562, -0.24710195, -0.31621836,  0.14977749,\n",
       "         0.10388199],\n",
       "       [-0.48384437, -0.60437386,  0.14941048, -0.31621836, -0.73352567,\n",
       "        -0.85183232],\n",
       "       [-0.48384437, -0.60437386,  0.14941048, -0.31621836, -0.73352567,\n",
       "        -0.85183232],\n",
       "       [ 0.80174934,  0.04216562,  0.54592292,  1.10290794,  2.79968699,\n",
       "         0.83904685],\n",
       "       [ 0.69461653,  0.04216562,  0.61200833,  1.10290794,  2.79968699,\n",
       "         0.91256333],\n",
       "       [-0.8052428 , -0.60437386, -0.7757852 , -0.31621836, -0.55686504,\n",
       "        -0.85183232],\n",
       "       [-0.91237561, -0.60437386, -0.90795601, -0.31621836, -0.55686504,\n",
       "        -0.85183232],\n",
       "       [-1.34090685, -0.60437386, -1.50272467, -0.31621836, -0.55686504,\n",
       "        -0.85183232],\n",
       "       [-0.8052428 , -0.60437386, -0.64361439, -0.31621836, -0.73352567,\n",
       "        -0.70479935],\n",
       "       [ 0.15895248, -0.60437386,  0.87634995, -0.31621836, -0.73352567,\n",
       "        -0.63128287],\n",
       "       [ 0.05181967, -0.60437386,  0.67809373, -0.31621836, -0.73352567,\n",
       "        -0.70479935],\n",
       "       [ 0.05181967, -0.60437386,  0.67809373, -0.31621836, -0.73352567,\n",
       "        -0.63128287],\n",
       "       [ 0.15895248, -0.60437386,  0.81026454, -0.31621836, -0.73352567,\n",
       "        -0.63128287],\n",
       "       [-0.69810999, -0.60437386, -0.51144358, -0.31621836, -0.73352567,\n",
       "        -0.70479935],\n",
       "       [-0.16244594, -0.60437386,  0.41375211, -0.31621836, -0.73352567,\n",
       "        -0.70479935],\n",
       "       [ 0.05181967, -0.60437386,  0.67809373, -0.31621836, -0.73352567,\n",
       "        -0.70479935],\n",
       "       [-0.8052428 , -0.60437386, -0.64361439, -0.31621836, -0.73352567,\n",
       "        -0.70479935],\n",
       "       [-0.16244594, -0.60437386,  0.41375211, -0.31621836, -0.73352567,\n",
       "        -0.70479935],\n",
       "       [ 0.05181967, -0.60437386,  0.67809373, -0.31621836, -0.73352567,\n",
       "        -0.70479935],\n",
       "       [ 0.15895248, -0.60437386,  0.87634995, -0.31621836, -0.73352567,\n",
       "        -0.63128287],\n",
       "       [ 0.05181967, -0.60437386,  0.67809373, -0.31621836, -0.73352567,\n",
       "        -0.70479935],\n",
       "       [-1.39447325, -0.60437386, -1.63489548, -0.31621836, -0.55686504,\n",
       "        -0.70479935],\n",
       "       [-1.34090685, -0.60437386, -1.63489548, -0.31621836, -0.55686504,\n",
       "        -0.70479935],\n",
       "       [-1.39447325, -0.60437386, -1.63489548, -0.31621836, -0.55686504,\n",
       "        -0.70479935],\n",
       "       [-1.39447325, -0.60437386, -1.63489548, -0.31621836, -0.55686504,\n",
       "        -0.70479935],\n",
       "       [-1.39447325, -0.60437386, -1.63489548, -0.31621836, -0.73352567,\n",
       "        -0.77831584],\n",
       "       [-1.39447325, -0.60437386, -1.63489548, -0.31621836, -0.73352567,\n",
       "        -0.63128287],\n",
       "       [-1.44803966, -0.60437386, -1.63489548, -0.31621836, -0.73352567,\n",
       "        -0.85183232],\n",
       "       [-1.39447325, -0.60437386, -1.63489548, -0.31621836, -0.73352567,\n",
       "        -0.70479935],\n",
       "       [-0.69810999,  0.68870509, -1.30446845, -0.31621836, -0.55686504,\n",
       "        -0.55776638],\n",
       "       [-1.39447325, -0.60437386, -1.63489548, -0.31621836, -0.55686504,\n",
       "        -0.70479935],\n",
       "       [-0.26957875,  0.94732088, -0.7096998 , -0.31621836, -0.55686504,\n",
       "        -0.48424989],\n",
       "       [ 1.98021025,  1.72316825,  1.4711186 ,  2.52203424,  1.73972319,\n",
       "         1.50069522],\n",
       "       [ 3.15867115,  6.11963667,  1.33894779,  3.23159739,  1.38640192,\n",
       "         0.83904685],\n",
       "       [ 0.58748372,  1.20593667, -0.37927277, -0.31621836,  1.56306256,\n",
       "         1.64772819],\n",
       "       [ 1.65881182,  1.46455246,  1.14069157,  2.52203424,  1.56306256,\n",
       "         1.20662928],\n",
       "       [-0.16244594,  0.4300893 , -0.84187061, -0.31621836,  0.67975939,\n",
       "         0.61849739],\n",
       "       [ 1.23028058,  1.20593667,  0.67809373, -0.31621836,  1.03308066,\n",
       "         1.35366225],\n",
       "       [ 1.33741339,  0.94732088,  1.00852076, -0.31621836,  1.20974129,\n",
       "         1.35366225],\n",
       "       [ 1.23028058,  1.72316825,  0.47983751, -0.31621836,  1.38640192,\n",
       "         1.79476116],\n",
       "       [ 0.48035091,  1.20593667, -0.44535817, -0.31621836,  1.38640192,\n",
       "         1.50069522],\n",
       "       [-0.05531314,  0.5593972 , -0.7757852 , -0.31621836,  0.67975939,\n",
       "         0.83904685],\n",
       "       [ 1.01601496,  0.94732088,  0.74417914,  2.52203424,  0.85642002,\n",
       "         0.47146442],\n",
       "       [ 1.23028058,  1.20593667,  0.81026454, -0.31621836,  1.03308066,\n",
       "         1.35366225],\n",
       "       [ 0.69461653,  0.4300893 ,  0.61200833, -0.31621836,  0.50309876,\n",
       "         0.5449809 ],\n",
       "       [ 1.33741339,  1.72316825,  0.61200833, -0.31621836,  1.20974129,\n",
       "         1.79476116],\n",
       "       [ 0.58748372,  0.4300893 ,  0.3476667 , -0.31621836,  0.50309876,\n",
       "         0.61849739],\n",
       "       [ 1.76594463,  1.46455246,  1.4711186 , -0.31621836,  1.03308066,\n",
       "         1.94179413],\n",
       "       [ 0.58748372,  1.20593667, -0.37927277, -0.31621836,  1.38640192,\n",
       "         1.50069522],\n",
       "       [ 0.58748372,  1.20593667, -0.37927277, -0.31621836,  1.38640192,\n",
       "         1.50069522],\n",
       "       [-0.96594202, -0.34575807, -1.30446845, -0.31621836, -0.20354377,\n",
       "        -0.26370044],\n",
       "       [ 1.23028058,  0.94732088,  0.81026454, -0.31621836,  1.38640192,\n",
       "         1.35366225],\n",
       "       [ 2.40874148,  2.24039983,  1.86763104, -0.31621836,  1.73972319,\n",
       "         2.67695899],\n",
       "       [ 2.30160867,  0.5593972 ,  2.59457051, -0.31621836,  1.91638382,\n",
       "        -0.85183232],\n",
       "       [-0.26957875, -0.60437386, -0.04884573, -0.31621836, -0.20354377,\n",
       "         2.0888271 ],\n",
       "       [ 1.55167901,  0.04216562,  2.33022888,  1.10290794, -0.02688314,\n",
       "         2.38289305],\n",
       "       [ 0.05181967, -0.47506596,  0.21549589,  0.39334479, -0.02688314,\n",
       "         1.79476116],\n",
       "       [ 0.69461653,  0.94732088,  0.21549589, -0.31621836,  1.03308066,\n",
       "         1.13311279],\n",
       "       [ 0.69461653,  0.94732088,  0.21549589, -0.31621836,  1.03308066,\n",
       "         1.13311279],\n",
       "       [ 1.98021025,  0.68870509,  1.86763104,  5.36028684,  2.79968699,\n",
       "         1.64772819],\n",
       "       [ 1.76594463, -0.08714228,  2.33022888,  4.65072369,  2.09304446,\n",
       "         1.0595963 ]])"
      ]
     },
     "execution_count": 13,
     "metadata": {},
     "output_type": "execute_result"
    }
   ],
   "source": [
    "standardizer = StandardScaler()\n",
    "drinks2_standardized = standardizer.fit_transform(drinks)\n",
    "drinks2_standardized"
   ]
  },
  {
   "cell_type": "markdown",
   "metadata": {},
   "source": [
    "2c) Conduct Principal Components Analysis (PCA) with 2 components on the standardizer data. and plot the transformed data in a scatterplot."
   ]
  },
  {
   "cell_type": "code",
   "execution_count": 14,
   "metadata": {},
   "outputs": [],
   "source": [
    "pca = PCA(n_components=2)\n",
    "pca.fit(drinks2_standardized)\n",
    "drinks_pca = pca.transform(drinks2_standardized)"
   ]
  },
  {
   "cell_type": "code",
   "execution_count": 16,
   "metadata": {},
   "outputs": [],
   "source": [
    "# put the coordinates into a DataFrame\n",
    "drinks_pca_df = pd.DataFrame(drinks_pca, columns = [\"PC1\",\"PC2\"])"
   ]
  },
  {
   "cell_type": "markdown",
   "metadata": {},
   "source": [
    "2d) Plot the transformed data from 2c in a scatterplot"
   ]
  },
  {
   "cell_type": "code",
   "execution_count": 18,
   "metadata": {},
   "outputs": [
    {
     "data": {
      "text/plain": [
       "<AxesSubplot:xlabel='PC1', ylabel='PC2'>"
      ]
     },
     "execution_count": 18,
     "metadata": {},
     "output_type": "execute_result"
    },
    {
     "data": {
      "image/png": "[encoded data removed]",
      "text/plain": [
       "<Figure size 432x288 with 1 Axes>"
      ]
     },
     "metadata": {
      "needs_background": "light"
     },
     "output_type": "display_data"
    }
   ],
   "source": [
    "sns.scatterplot(data=drinks_pca_df, x=\"PC1\", y=\"PC2\")"
   ]
  },
  {
   "cell_type": "markdown",
   "metadata": {},
   "source": [
    "2e) What do you notice about the scatterplot?  Do you see any clusters?"
   ]
  },
  {
   "cell_type": "markdown",
   "metadata": {},
   "source": [
    "**2e answer:** No, there are not many clusters present in the graph."
   ]
  },
  {
   "cell_type": "markdown",
   "metadata": {},
   "source": [
    "### Question 3: KMeans\n",
    "\n",
    "a) Use either the elbow method or the silhouette method to determine the best k for k-means clustering the standardized drinks data."
   ]
  },
  {
   "cell_type": "code",
   "execution_count": 20,
   "metadata": {},
   "outputs": [],
   "source": [
    "inertia_list = []\n",
    "for k in range(1,11):\n",
    "    kmeans = KMeans(n_clusters=k)\n",
    "    kmeans.fit(drinks_pca_df)\n",
    "    clusters = kmeans.predict(drinks_pca_df)\n",
    "    inertia_list.append(kmeans.inertia_)"
   ]
  },
  {
   "cell_type": "code",
   "execution_count": 21,
   "metadata": {},
   "outputs": [
    {
     "data": {
      "text/plain": [
       "Text(0, 0.5, 'Inertia')"
      ]
     },
     "execution_count": 21,
     "metadata": {},
     "output_type": "execute_result"
    },
    {
     "data": {
      "image/png": "[encoded data removed]",
      "text/plain": [
       "<Figure size 432x288 with 1 Axes>"
      ]
     },
     "metadata": {
      "needs_background": "light"
     },
     "output_type": "display_data"
    }
   ],
   "source": [
    "plt.plot(range(1,11), inertia_list)\n",
    "plt.xlabel(\"k\")\n",
    "plt.ylabel(\"Inertia\")"
   ]
  },
  {
   "cell_type": "markdown",
   "metadata": {},
   "source": [
    "3b)  Based on your answer to 3a, what k do you recommend using for K-Means clustering for the Starbucks drinks data?"
   ]
  },
  {
   "cell_type": "markdown",
   "metadata": {},
   "source": [
    "**3b answer:**  I reccomend a value of `k = 2`."
   ]
  },
  {
   "cell_type": "markdown",
   "metadata": {},
   "source": [
    "### Question 4: Applying PCA to visualize the K-Means clusters\n",
    "\n",
    "a) Run K-Means clustering on the standardized Starbucks drinks data with the k selected in 3b. "
   ]
  },
  {
   "cell_type": "code",
   "execution_count": 22,
   "metadata": {},
   "outputs": [],
   "source": [
    "kmeans = KMeans(n_clusters=2)\n",
    "kmeans.fit(drinks_pca_df)\n",
    "clusters = kmeans.predict(drinks_pca_df)"
   ]
  },
  {
   "cell_type": "markdown",
   "metadata": {},
   "source": [
    "4b) Replot the scatterplot of the Starbucks drinks data where the x and y axes are the first and second principal components, and color the points by the cluster found in 4a."
   ]
  },
  {
   "cell_type": "code",
   "execution_count": 24,
   "metadata": {},
   "outputs": [],
   "source": [
    "drinks_pca_df['cluster'] = clusters"
   ]
  },
  {
   "cell_type": "code",
   "execution_count": 26,
   "metadata": {},
   "outputs": [
    {
     "data": {
      "text/plain": [
       "<AxesSubplot:xlabel='PC1', ylabel='PC2'>"
      ]
     },
     "execution_count": 26,
     "metadata": {},
     "output_type": "execute_result"
    },
    {
     "data": {
      "image/png": "[encoded data removed]",
      "text/plain": [
       "<Figure size 432x288 with 1 Axes>"
      ]
     },
     "metadata": {
      "needs_background": "light"
     },
     "output_type": "display_data"
    }
   ],
   "source": [
    "sns.scatterplot(data=drinks_pca_df, x=\"PC1\", y=\"PC2\", hue=\"cluster\")"
   ]
  },
  {
   "cell_type": "markdown",
   "metadata": {},
   "source": [
    "4c) How do the K-Means clusters correspond to the PCA visualization of the data?"
   ]
  },
  {
   "cell_type": "markdown",
   "metadata": {},
   "source": [
    "**4c answer:** The drinks with a closer value for PC2 are clustered together and those with a further value of PC1 are clustered together."
   ]
  },
  {
   "cell_type": "markdown",
   "metadata": {},
   "source": [
    "### Bonus question\n",
    "\n",
    "Do you see any patterns in how K-Means clustered the data, with regards to which drinks end up in which clusters? "
   ]
  }
 ],
 "metadata": {
  "kernelspec": {
   "display_name": "Python 3",
   "language": "python",
   "name": "python3"
  },
  "language_info": {
   "codemirror_mode": {
    "name": "ipython",
    "version": 3
   },
   "file_extension": ".py",
   "mimetype": "text/x-python",
   "name": "python",
   "nbconvert_exporter": "python",
   "pygments_lexer": "ipython3",
   "version": "3.8.5"
  }
 },
 "nbformat": 4,
 "nbformat_minor": 4
}
