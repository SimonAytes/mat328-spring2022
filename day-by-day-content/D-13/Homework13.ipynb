{
 "cells": [
  {
   "cell_type": "markdown",
   "metadata": {},
   "source": [
    "**Replace with your name and a brief description of the notebook.**"
   ]
  },
  {
   "cell_type": "markdown",
   "metadata": {},
   "source": [
    "# Homework 13\n",
    "\n",
    "Load the required libraries."
   ]
  },
  {
   "cell_type": "code",
   "execution_count": 1,
   "metadata": {},
   "outputs": [],
   "source": [
    "import pandas as pd\n",
    "import seaborn as sns\n",
    "import matplotlib.pyplot as plt\n",
    "import numpy as np\n",
    "\n",
    "from sklearn.preprocessing import MinMaxScaler\n",
    "    \n",
    "from sklearn.model_selection import train_test_split\n",
    "\n",
    "from sklearn.neighbors import KNeighborsRegressor\n",
    "from sklearn.metrics import mean_squared_error\n",
    "\n",
    "%matplotlib inline\n",
    "\n",
    "pd.set_option('display.max_columns', None)"
   ]
  },
  {
   "cell_type": "markdown",
   "metadata": {},
   "source": [
    "### Question 1: Cleaning the data\n",
    "\n",
    "a) Load the insurance dataset from Labs 7, 8, and 12, and turn the `sex`, `region`, and `smoker` columns into dummy variables.\n",
    "\n",
    "Insurance data URL:  [https://raw.githubusercontent.com/stedy/Machine-Learning-with-R-datasets/master/insurance.csv]( https://raw.githubusercontent.com/stedy/Machine-Learning-with-R-datasets/master/insurance.csv)"
   ]
  },
  {
   "cell_type": "code",
   "execution_count": 2,
   "metadata": {},
   "outputs": [],
   "source": [
    "data = pd.read_csv(\"https://raw.githubusercontent.com/stedy/Machine-Learning-with-R-datasets/master/insurance.csv\")"
   ]
  },
  {
   "cell_type": "code",
   "execution_count": 3,
   "metadata": {},
   "outputs": [],
   "source": [
    "data = pd.get_dummies(data, columns = [\"sex\", \"region\", \"smoker\"], drop_first = True)"
   ]
  },
  {
   "cell_type": "markdown",
   "metadata": {},
   "source": [
    "1b) As in Labs 7, 8, and 12, we will predict the price of the insurance policy.  Create the `x` and `y` variables containing the independent and dependent variables, respectively, and then split them into training (70%) and testing (30%) data."
   ]
  },
  {
   "cell_type": "code",
   "execution_count": 4,
   "metadata": {},
   "outputs": [],
   "source": [
    "x = data.drop(columns = [\"charges\"])\n",
    "y = data[\"charges\"]"
   ]
  },
  {
   "cell_type": "markdown",
   "metadata": {},
   "source": [
    "### Question 2:  k-nearest neighbor regression\n",
    "\n",
    "a) Fit a k-nearest neighbor regression model, with k = 5 to the training data, and use it to predict the prices for both the test and training data."
   ]
  },
  {
   "cell_type": "code",
   "execution_count": 5,
   "metadata": {},
   "outputs": [],
   "source": [
    "x_train, x_test, y_train, y_test = train_test_split(x, y, test_size=0.2)"
   ]
  },
  {
   "cell_type": "code",
   "execution_count": 7,
   "metadata": {},
   "outputs": [
    {
     "data": {
      "text/plain": [
       "KNeighborsRegressor()"
      ]
     },
     "execution_count": 7,
     "metadata": {},
     "output_type": "execute_result"
    }
   ],
   "source": [
    "knn = KNeighborsRegressor(n_neighbors = 5)\n",
    "knn.fit(x_train, y_train)"
   ]
  },
  {
   "cell_type": "markdown",
   "metadata": {},
   "source": [
    "2b) Use your model from 2a predict the prices for both the test and training data."
   ]
  },
  {
   "cell_type": "code",
   "execution_count": 11,
   "metadata": {},
   "outputs": [],
   "source": [
    "y_test_pred = knn.predict(x_test)\n",
    "y_train_pred = knn.predict(x_train)"
   ]
  },
  {
   "cell_type": "markdown",
   "metadata": {},
   "source": [
    "2c)  What are the mean squared errors for the training and testing data?"
   ]
  },
  {
   "cell_type": "code",
   "execution_count": 13,
   "metadata": {},
   "outputs": [
    {
     "data": {
      "text/plain": [
       "131893923.33714314"
      ]
     },
     "execution_count": 13,
     "metadata": {},
     "output_type": "execute_result"
    }
   ],
   "source": [
    "mean_squared_error(y_test_pred, y_test)"
   ]
  },
  {
   "cell_type": "code",
   "execution_count": 14,
   "metadata": {},
   "outputs": [
    {
     "data": {
      "text/plain": [
       "83597636.15330546"
      ]
     },
     "execution_count": 14,
     "metadata": {},
     "output_type": "execute_result"
    }
   ],
   "source": [
    "mean_squared_error(y_train_pred, y_train)"
   ]
  },
  {
   "cell_type": "markdown",
   "metadata": {},
   "source": [
    "2d) How do the two mean squared errors compare?  How do they compare to the mean squared errors from linear regression and decisions trees that you computed in Lab 12?  Which model would you recommend to predict insurance prices?"
   ]
  },
  {
   "cell_type": "markdown",
   "metadata": {},
   "source": [
    "**Answer 2d:** The regression model from Lab 12 had an MSE of _21,827,606_; this KMeans model had an MSE of _83,597,636_. Given this, KMeans is not the best model for predicting insurance prices."
   ]
  },
  {
   "cell_type": "markdown",
   "metadata": {},
   "source": [
    "### Question 3: Scaling the data\n",
    "\n",
    "a) Scale the training and testing data to be between 0 and 1."
   ]
  },
  {
   "cell_type": "code",
   "execution_count": 15,
   "metadata": {},
   "outputs": [],
   "source": [
    "scaler = MinMaxScaler()"
   ]
  },
  {
   "cell_type": "code",
   "execution_count": 16,
   "metadata": {},
   "outputs": [],
   "source": [
    "x_train_scaled = scaler.fit_transform(x_train)\n",
    "x_test_scaled = scaler.fit_transform(x_test)"
   ]
  },
  {
   "cell_type": "markdown",
   "metadata": {},
   "source": [
    "3b) Fit a k-nearest neighbor regression model, with k = 5 to the scaled training data, and use it to predict the prices for both the scaled test and training data."
   ]
  },
  {
   "cell_type": "code",
   "execution_count": 17,
   "metadata": {},
   "outputs": [
    {
     "data": {
      "text/plain": [
       "KNeighborsRegressor()"
      ]
     },
     "execution_count": 17,
     "metadata": {},
     "output_type": "execute_result"
    }
   ],
   "source": [
    "knn = KNeighborsRegressor(n_neighbors = 5)\n",
    "knn.fit(x_train_scaled, y_train)"
   ]
  },
  {
   "cell_type": "markdown",
   "metadata": {},
   "source": [
    "3c) Use your model from 3b to predict the prices for both the scaled test and training data."
   ]
  },
  {
   "cell_type": "code",
   "execution_count": 18,
   "metadata": {},
   "outputs": [],
   "source": [
    "y_scaled_test_pred = knn.predict(x_test_scaled)\n",
    "y_scaled_train_pred = knn.predict(x_train_scaled)"
   ]
  },
  {
   "cell_type": "markdown",
   "metadata": {},
   "source": [
    "3d) What are the mean squared errors for the scaled training and testing dat"
   ]
  },
  {
   "cell_type": "code",
   "execution_count": 19,
   "metadata": {},
   "outputs": [
    {
     "data": {
      "text/plain": [
       "35887788.98320836"
      ]
     },
     "execution_count": 19,
     "metadata": {},
     "output_type": "execute_result"
    }
   ],
   "source": [
    "mean_squared_error(y_scaled_test_pred, y_test)"
   ]
  },
  {
   "cell_type": "code",
   "execution_count": 20,
   "metadata": {},
   "outputs": [
    {
     "data": {
      "text/plain": [
       "21398776.461228173"
      ]
     },
     "execution_count": 20,
     "metadata": {},
     "output_type": "execute_result"
    }
   ],
   "source": [
    "mean_squared_error(y_scaled_train_pred, y_train)"
   ]
  },
  {
   "cell_type": "markdown",
   "metadata": {},
   "source": [
    "3e) How do the two mean squared errors using scaled data compare?  How do they compare to the unscaled mean squared errors from Question 2?  Do you recommend scaling the insurance data when using the k-nearest neighbors model?  Of the k-nearest neighbor model (with scaled data), and the decision tree and linear regression models from Lab 12, which would you recommend now?  Why?"
   ]
  },
  {
   "cell_type": "markdown",
   "metadata": {},
   "source": [
    "**3e answer:** The MSE of the scaled models was much better than that of the unscaled ones. Given the new MSE scores of this model, I would reccomend this new scaled model as the one from Lab 12's MSE was over 300k."
   ]
  },
  {
   "cell_type": "markdown",
   "metadata": {},
   "source": [
    "### Question 4:  Best parameter (k)\n",
    "\n",
    "a) For at least two new, different values of k (you may use a loop if you want, but do not have to):\n",
    "    * fit your model to the scaled training data\n",
    "    * use your model to predict insurance prices for the training and testing data\n",
    "    * compute the mean squared errors for both predictions"
   ]
  },
  {
   "cell_type": "code",
   "execution_count": 21,
   "metadata": {
    "scrolled": true
   },
   "outputs": [
    {
     "name": "stdout",
     "output_type": "stream",
     "text": [
      "Now computing MSE for k= 1\n",
      "Now computing MSE for k= 2\n",
      "Now computing MSE for k= 3\n",
      "Now computing MSE for k= 4\n",
      "Now computing MSE for k= 5\n"
     ]
    }
   ],
   "source": [
    "mses = []\n",
    "for k in range(1,6):\n",
    "    print(\"Now computing MSE for k=\",k)\n",
    "    iknn_scaled = KNeighborsRegressor(n_neighbors = k)\n",
    "    iknn_scaled.fit(x_train_scaled, y_train)\n",
    "    iy_pred_scaled = iknn_scaled.predict(x_test_scaled)\n",
    "    mse = mean_squared_error(iy_pred_scaled, y_test)\n",
    "    mses.append(mse)"
   ]
  },
  {
   "cell_type": "code",
   "execution_count": 22,
   "metadata": {},
   "outputs": [
    {
     "data": {
      "text/plain": [
       "Text(0.5, 1.0, 'MSE for different numbers of neighbors')"
      ]
     },
     "execution_count": 22,
     "metadata": {},
     "output_type": "execute_result"
    },
    {
     "data": {
      "image/png": "[encoded data removed]",
      "text/plain": [
       "<Figure size 432x288 with 1 Axes>"
      ]
     },
     "metadata": {
      "needs_background": "light"
     },
     "output_type": "display_data"
    }
   ],
   "source": [
    "plt.plot(mses)\n",
    "plt.xlabel(\"k\")\n",
    "plt.ylabel(\"MSE\")\n",
    "plt.title(\"MSE for different numbers of neighbors\")"
   ]
  },
  {
   "cell_type": "markdown",
   "metadata": {},
   "source": [
    "4b) Which parameter k do you recommend using for fitting a k-nearest neighbor model on this insurance data?  Why? "
   ]
  },
  {
   "cell_type": "markdown",
   "metadata": {},
   "source": [
    "**Answer 4b:** I would reccomend a K value of 2 because it had the lowest MSE of all my tests, which covered a range from k=1 through k=5."
   ]
  },
  {
   "cell_type": "markdown",
   "metadata": {},
   "source": [
    "4c)  Of the best k-nearest neighbor model (this question), the best decision tree model (Lab 12), or linear regression, which do you recommend we use to predict insurance prices?  Why?"
   ]
  },
  {
   "cell_type": "markdown",
   "metadata": {},
   "source": [
    "**Answer 4c:** Though they all have their strengths, I would reccomend the KNN model where k=2. The decision tree had a high runtime and MSE, the linear regression model had a high MSE, and the other KNN models had MSEs' larger than 10x the KNN model where k=2. For this reason, I would reccoment the k=2 KNN."
   ]
  }
 ],
 "metadata": {
  "kernelspec": {
   "display_name": "Python 3 (ipykernel)",
   "language": "python",
   "name": "python3"
  },
  "language_info": {
   "codemirror_mode": {
    "name": "ipython",
    "version": 3
   },
   "file_extension": ".py",
   "mimetype": "text/x-python",
   "name": "python",
   "nbconvert_exporter": "python",
   "pygments_lexer": "ipython3",
   "version": "3.10.1"
  }
 },
 "nbformat": 4,
 "nbformat_minor": 4
}
