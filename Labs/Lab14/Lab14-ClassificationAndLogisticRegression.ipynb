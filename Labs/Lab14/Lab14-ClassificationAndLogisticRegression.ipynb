{
 "cells": [
  {
   "cell_type": "markdown",
   "metadata": {},
   "source": [
    "# Lab 14 - Classification and Logistic Regression\n",
    "\n",
    "Note: Some of this lab is based off the Harvard Data Science CS109 Lab 4, Fall 2015.\n",
    "\n",
    "We now move on to *classification*, which means predicting categorical data.  In this lab, we cover *logistic regression* which adapts linear regression to the prediction of one of two categories.\n",
    "\n",
    "In logistic regression, we fit a *sigmoid function* to the data.  Run the code below to see two examples of sigmoid functions."
   ]
  },
  {
   "cell_type": "code",
   "execution_count": 1,
   "metadata": {},
   "outputs": [
    {
     "data": {
      "text/plain": [
       "[<matplotlib.lines.Line2D at 0x7f9030f3dd00>]"
      ]
     },
     "execution_count": 1,
     "metadata": {},
     "output_type": "execute_result"
    },
    {
     "data": {
      "image/png": "[encoded data removed]",
      "text/plain": [
       "<Figure size 1440x360 with 2 Axes>"
      ]
     },
     "metadata": {
      "needs_background": "light"
     },
     "output_type": "display_data"
    }
   ],
   "source": [
    "import numpy as np\n",
    "import matplotlib.pyplot as plt\n",
    "%matplotlib inline \n",
    "\n",
    "xx = np.linspace(-10,10,100)\n",
    "yy1 = 1/(1 + np.exp(-xx))\n",
    "yy2 = 1/(1 + np.exp(5*xx +5))\n",
    "\n",
    "fig, ax = plt.subplots(1, 2, figsize=(20, 5))\n",
    "\n",
    "\n",
    "ax[0].plot(xx,yy1)\n",
    "ax[1].plot(xx,yy2)"
   ]
  },
  {
   "cell_type": "markdown",
   "metadata": {},
   "source": [
    "The equation of the sigmoid function is: \n",
    "\n",
    "$$f(x_1, x_2, ..., x_n) = \\frac{1}{1 + e^{-(\\beta_0 + \\beta_1 x_1 + \\beta_2 x_2 + ... + \\beta_n x_n)}}$$\n",
    "\n",
    "Notice that the exponent of $e$ looks like part of the linear regression equation.  This is not a coincidence!"
   ]
  },
  {
   "cell_type": "markdown",
   "metadata": {},
   "source": [
    "### Section 1: Loading and cleaning the data, and exploratory data analysis\n",
    "\n",
    "The Challenger Space Shuttle tragically exploded in 1986, killing all astronauts on board.  The explosion was shown to have been caused by an O-ring failure, likely due to cold temperatures the day of the launch (and also poor engineering that allowed this failure to cause such catastrophy).\n",
    "\n",
    "This lab will use experimental data from tests on whether O-rings failed at different temperatures.  The data set can be downloaded from [https://raw.githubusercontent.com/megan-owen/MAT328-Techniques_in_Data_Science/main/data/chall.txt](https://raw.githubusercontent.com/megan-owen/MAT328-Techniques_in_Data_Science/main/data/chall.txt).\n",
    "\n",
    "Each row in the data represents one experiment.  The first column is the temperature in Fahrenheit that the experiment was conducted at, and the second column is 1 if the O-ring failed in that experiment, and 0 if it did not. \n",
    "\n",
    "Import the necessary libraries."
   ]
  },
  {
   "cell_type": "code",
   "execution_count": 2,
   "metadata": {},
   "outputs": [],
   "source": [
    "import pandas as pd\n",
    "import matplotlib.pyplot as plt\n",
    "import seaborn as sns\n",
    "import numpy as np\n",
    "import statsmodels.formula.api as smf\n",
    "\n",
    "\n",
    "%matplotlib inline"
   ]
  },
  {
   "cell_type": "markdown",
   "metadata": {},
   "source": [
    "Open the data file in Jupyter notebook or another text editor.  What do you notice about it?  What needs to be changed or added when we read in the data?\n",
    "\n",
    "See Lab 4 for a reminder on how to deal with the spaces separating the columns instead of commas.\n",
    "\n",
    "We can add column names directly in `read_csv()`.  To do so, add the parameters: `header = None` and `names = [\"Temperature\", \"Failure\"]`."
   ]
  },
  {
   "cell_type": "code",
   "execution_count": 4,
   "metadata": {},
   "outputs": [],
   "source": [
    "data = pd.read_csv(\"https://raw.githubusercontent.com/megan-owen/MAT328-Techniques_in_Data_Science/main/data/chall.txt\", sep=\"\\s+\", header=None, names=[\"Temperature\", \"Failure\"])"
   ]
  },
  {
   "cell_type": "markdown",
   "metadata": {},
   "source": [
    "<details><summary>Answer:</summary>\n",
    "<code>data = pd.read_csv(\"chall.txt\",sep = \"\\s+\", header = None, names = [\"Temperature\", \"Failure\"])</code>\n",
    "</details>\n",
    "\n",
    "Create a scatter plot with temperature on the x axis and failure on the y axis."
   ]
  },
  {
   "cell_type": "code",
   "execution_count": 6,
   "metadata": {},
   "outputs": [
    {
     "data": {
      "text/plain": [
       "<AxesSubplot:xlabel='Temperature', ylabel='Failure'>"
      ]
     },
     "execution_count": 6,
     "metadata": {},
     "output_type": "execute_result"
    },
    {
     "data": {
      "image/png": "[encoded data removed]",
      "text/plain": [
       "<Figure size 432x288 with 1 Axes>"
      ]
     },
     "metadata": {
      "needs_background": "light"
     },
     "output_type": "display_data"
    }
   ],
   "source": [
    "sns.scatterplot(x=\"Temperature\", y=\"Failure\", data=data)"
   ]
  },
  {
   "cell_type": "markdown",
   "metadata": {},
   "source": [
    "What do you notice about the graph?\n",
    "\n",
    "### Section 2: Logistic regression\n",
    "\n",
    "We will now use statsmodel to fit a logistic regression model to the data.  Notice that the code is similar to when we fit a linear regression model to the data.  What is the independent variable?  What is the dependent variable?"
   ]
  },
  {
   "cell_type": "code",
   "execution_count": 7,
   "metadata": {},
   "outputs": [
    {
     "name": "stdout",
     "output_type": "stream",
     "text": [
      "Optimization terminated successfully.\n",
      "         Current function value: 0.441635\n",
      "         Iterations 7\n"
     ]
    },
    {
     "data": {
      "text/html": [
       "<table class=\"simpletable\">\n",
       "<caption>Logit Regression Results</caption>\n",
       "<tr>\n",
       "  <th>Dep. Variable:</th>        <td>Failure</td>     <th>  No. Observations:  </th>  <td>    23</td> \n",
       "</tr>\n",
       "<tr>\n",
       "  <th>Model:</th>                 <td>Logit</td>      <th>  Df Residuals:      </th>  <td>    21</td> \n",
       "</tr>\n",
       "<tr>\n",
       "  <th>Method:</th>                 <td>MLE</td>       <th>  Df Model:          </th>  <td>     1</td> \n",
       "</tr>\n",
       "<tr>\n",
       "  <th>Date:</th>            <td>Tue, 22 Mar 2022</td> <th>  Pseudo R-squ.:     </th>  <td>0.2813</td> \n",
       "</tr>\n",
       "<tr>\n",
       "  <th>Time:</th>                <td>12:18:32</td>     <th>  Log-Likelihood:    </th> <td> -10.158</td>\n",
       "</tr>\n",
       "<tr>\n",
       "  <th>converged:</th>             <td>True</td>       <th>  LL-Null:           </th> <td> -14.134</td>\n",
       "</tr>\n",
       "<tr>\n",
       "  <th>Covariance Type:</th>     <td>nonrobust</td>    <th>  LLR p-value:       </th> <td>0.004804</td>\n",
       "</tr>\n",
       "</table>\n",
       "<table class=\"simpletable\">\n",
       "<tr>\n",
       "       <td></td>          <th>coef</th>     <th>std err</th>      <th>z</th>      <th>P>|z|</th>  <th>[0.025</th>    <th>0.975]</th>  \n",
       "</tr>\n",
       "<tr>\n",
       "  <th>Intercept</th>   <td>   15.0429</td> <td>    7.379</td> <td>    2.039</td> <td> 0.041</td> <td>    0.581</td> <td>   29.505</td>\n",
       "</tr>\n",
       "<tr>\n",
       "  <th>Temperature</th> <td>   -0.2322</td> <td>    0.108</td> <td>   -2.145</td> <td> 0.032</td> <td>   -0.444</td> <td>   -0.020</td>\n",
       "</tr>\n",
       "</table>"
      ],
      "text/plain": [
       "<class 'statsmodels.iolib.summary.Summary'>\n",
       "\"\"\"\n",
       "                           Logit Regression Results                           \n",
       "==============================================================================\n",
       "Dep. Variable:                Failure   No. Observations:                   23\n",
       "Model:                          Logit   Df Residuals:                       21\n",
       "Method:                           MLE   Df Model:                            1\n",
       "Date:                Tue, 22 Mar 2022   Pseudo R-squ.:                  0.2813\n",
       "Time:                        12:18:32   Log-Likelihood:                -10.158\n",
       "converged:                       True   LL-Null:                       -14.134\n",
       "Covariance Type:            nonrobust   LLR p-value:                  0.004804\n",
       "===============================================================================\n",
       "                  coef    std err          z      P>|z|      [0.025      0.975]\n",
       "-------------------------------------------------------------------------------\n",
       "Intercept      15.0429      7.379      2.039      0.041       0.581      29.505\n",
       "Temperature    -0.2322      0.108     -2.145      0.032      -0.444      -0.020\n",
       "===============================================================================\n",
       "\"\"\""
      ]
     },
     "execution_count": 7,
     "metadata": {},
     "output_type": "execute_result"
    }
   ],
   "source": [
    "logit_model = smf.logit('Failure ~ Temperature',data).fit()\n",
    "logit_model.summary()"
   ]
  },
  {
   "cell_type": "markdown",
   "metadata": {},
   "source": [
    "Is there an R-squared value in the summary?  \n",
    "\n",
    "To get the formula for the model, we plug the intercept and variable coefficients into the sigmoid equation at the start of the lab.  The intercept coefficient 15.0429 replaces $\\beta_0$ and the temperature coefficient -0.2322 replaces $\\beta_1$.  $x_1$ will represent the temperature variable in the equation.\n",
    "\n",
    "$$y = \\frac{1}{1 + e^{-(15.0429 -0.2322x_1)}}$$\n",
    "\n",
    "\n",
    "There is another way to get the model parameters:"
   ]
  },
  {
   "cell_type": "code",
   "execution_count": 8,
   "metadata": {},
   "outputs": [
    {
     "data": {
      "text/plain": [
       "Intercept      15.042902\n",
       "Temperature    -0.232163\n",
       "dtype: float64"
      ]
     },
     "execution_count": 8,
     "metadata": {},
     "output_type": "execute_result"
    }
   ],
   "source": [
    "logit_model.params"
   ]
  },
  {
   "cell_type": "markdown",
   "metadata": {},
   "source": [
    "We can use these parameters to graph the model equation on the data.  \n",
    "\n",
    "First, create 200 evenly spaced x values (look at the data to see what their range should be): "
   ]
  },
  {
   "cell_type": "code",
   "execution_count": 9,
   "metadata": {},
   "outputs": [
    {
     "data": {
      "text/plain": [
       "array([50.        , 50.1758794 , 50.35175879, 50.52763819, 50.70351759,\n",
       "       50.87939698, 51.05527638, 51.23115578, 51.40703518, 51.58291457,\n",
       "       51.75879397, 51.93467337, 52.11055276, 52.28643216, 52.46231156,\n",
       "       52.63819095, 52.81407035, 52.98994975, 53.16582915, 53.34170854,\n",
       "       53.51758794, 53.69346734, 53.86934673, 54.04522613, 54.22110553,\n",
       "       54.39698492, 54.57286432, 54.74874372, 54.92462312, 55.10050251,\n",
       "       55.27638191, 55.45226131, 55.6281407 , 55.8040201 , 55.9798995 ,\n",
       "       56.15577889, 56.33165829, 56.50753769, 56.68341709, 56.85929648,\n",
       "       57.03517588, 57.21105528, 57.38693467, 57.56281407, 57.73869347,\n",
       "       57.91457286, 58.09045226, 58.26633166, 58.44221106, 58.61809045,\n",
       "       58.79396985, 58.96984925, 59.14572864, 59.32160804, 59.49748744,\n",
       "       59.67336683, 59.84924623, 60.02512563, 60.20100503, 60.37688442,\n",
       "       60.55276382, 60.72864322, 60.90452261, 61.08040201, 61.25628141,\n",
       "       61.4321608 , 61.6080402 , 61.7839196 , 61.95979899, 62.13567839,\n",
       "       62.31155779, 62.48743719, 62.66331658, 62.83919598, 63.01507538,\n",
       "       63.19095477, 63.36683417, 63.54271357, 63.71859296, 63.89447236,\n",
       "       64.07035176, 64.24623116, 64.42211055, 64.59798995, 64.77386935,\n",
       "       64.94974874, 65.12562814, 65.30150754, 65.47738693, 65.65326633,\n",
       "       65.82914573, 66.00502513, 66.18090452, 66.35678392, 66.53266332,\n",
       "       66.70854271, 66.88442211, 67.06030151, 67.2361809 , 67.4120603 ,\n",
       "       67.5879397 , 67.7638191 , 67.93969849, 68.11557789, 68.29145729,\n",
       "       68.46733668, 68.64321608, 68.81909548, 68.99497487, 69.17085427,\n",
       "       69.34673367, 69.52261307, 69.69849246, 69.87437186, 70.05025126,\n",
       "       70.22613065, 70.40201005, 70.57788945, 70.75376884, 70.92964824,\n",
       "       71.10552764, 71.28140704, 71.45728643, 71.63316583, 71.80904523,\n",
       "       71.98492462, 72.16080402, 72.33668342, 72.51256281, 72.68844221,\n",
       "       72.86432161, 73.04020101, 73.2160804 , 73.3919598 , 73.5678392 ,\n",
       "       73.74371859, 73.91959799, 74.09547739, 74.27135678, 74.44723618,\n",
       "       74.62311558, 74.79899497, 74.97487437, 75.15075377, 75.32663317,\n",
       "       75.50251256, 75.67839196, 75.85427136, 76.03015075, 76.20603015,\n",
       "       76.38190955, 76.55778894, 76.73366834, 76.90954774, 77.08542714,\n",
       "       77.26130653, 77.43718593, 77.61306533, 77.78894472, 77.96482412,\n",
       "       78.14070352, 78.31658291, 78.49246231, 78.66834171, 78.84422111,\n",
       "       79.0201005 , 79.1959799 , 79.3718593 , 79.54773869, 79.72361809,\n",
       "       79.89949749, 80.07537688, 80.25125628, 80.42713568, 80.60301508,\n",
       "       80.77889447, 80.95477387, 81.13065327, 81.30653266, 81.48241206,\n",
       "       81.65829146, 81.83417085, 82.01005025, 82.18592965, 82.36180905,\n",
       "       82.53768844, 82.71356784, 82.88944724, 83.06532663, 83.24120603,\n",
       "       83.41708543, 83.59296482, 83.76884422, 83.94472362, 84.12060302,\n",
       "       84.29648241, 84.47236181, 84.64824121, 84.8241206 , 85.        ])"
      ]
     },
     "execution_count": 9,
     "metadata": {},
     "output_type": "execute_result"
    }
   ],
   "source": [
    "x = np.linspace(50, 85, 200)\n",
    "x"
   ]
  },
  {
   "cell_type": "markdown",
   "metadata": {},
   "source": [
    "Next, we can compute $\\beta_0 + \\beta_1 x$ for all of these x values:"
   ]
  },
  {
   "cell_type": "code",
   "execution_count": 10,
   "metadata": {},
   "outputs": [
    {
     "data": {
      "text/plain": [
       "array([ 3.43476444,  3.39393179,  3.35309915,  3.31226651,  3.27143386,\n",
       "        3.23060122,  3.18976858,  3.14893593,  3.10810329,  3.06727065,\n",
       "        3.026438  ,  2.98560536,  2.94477272,  2.90394007,  2.86310743,\n",
       "        2.82227478,  2.78144214,  2.7406095 ,  2.69977685,  2.65894421,\n",
       "        2.61811157,  2.57727892,  2.53644628,  2.49561364,  2.45478099,\n",
       "        2.41394835,  2.37311571,  2.33228306,  2.29145042,  2.25061778,\n",
       "        2.20978513,  2.16895249,  2.12811985,  2.0872872 ,  2.04645456,\n",
       "        2.00562192,  1.96478927,  1.92395663,  1.88312399,  1.84229134,\n",
       "        1.8014587 ,  1.76062606,  1.71979341,  1.67896077,  1.63812812,\n",
       "        1.59729548,  1.55646284,  1.51563019,  1.47479755,  1.43396491,\n",
       "        1.39313226,  1.35229962,  1.31146698,  1.27063433,  1.22980169,\n",
       "        1.18896905,  1.1481364 ,  1.10730376,  1.06647112,  1.02563847,\n",
       "        0.98480583,  0.94397319,  0.90314054,  0.8623079 ,  0.82147526,\n",
       "        0.78064261,  0.73980997,  0.69897733,  0.65814468,  0.61731204,\n",
       "        0.57647939,  0.53564675,  0.49481411,  0.45398146,  0.41314882,\n",
       "        0.37231618,  0.33148353,  0.29065089,  0.24981825,  0.2089856 ,\n",
       "        0.16815296,  0.12732032,  0.08648767,  0.04565503,  0.00482239,\n",
       "       -0.03601026, -0.0768429 , -0.11767554, -0.15850819, -0.19934083,\n",
       "       -0.24017347, -0.28100612, -0.32183876, -0.3626714 , -0.40350405,\n",
       "       -0.44433669, -0.48516933, -0.52600198, -0.56683462, -0.60766727,\n",
       "       -0.64849991, -0.68933255, -0.7301652 , -0.77099784, -0.81183048,\n",
       "       -0.85266313, -0.89349577, -0.93432841, -0.97516106, -1.0159937 ,\n",
       "       -1.05682634, -1.09765899, -1.13849163, -1.17932427, -1.22015692,\n",
       "       -1.26098956, -1.3018222 , -1.34265485, -1.38348749, -1.42432013,\n",
       "       -1.46515278, -1.50598542, -1.54681806, -1.58765071, -1.62848335,\n",
       "       -1.669316  , -1.71014864, -1.75098128, -1.79181393, -1.83264657,\n",
       "       -1.87347921, -1.91431186, -1.9551445 , -1.99597714, -2.03680979,\n",
       "       -2.07764243, -2.11847507, -2.15930772, -2.20014036, -2.240973  ,\n",
       "       -2.28180565, -2.32263829, -2.36347093, -2.40430358, -2.44513622,\n",
       "       -2.48596886, -2.52680151, -2.56763415, -2.60846679, -2.64929944,\n",
       "       -2.69013208, -2.73096473, -2.77179737, -2.81263001, -2.85346266,\n",
       "       -2.8942953 , -2.93512794, -2.97596059, -3.01679323, -3.05762587,\n",
       "       -3.09845852, -3.13929116, -3.1801238 , -3.22095645, -3.26178909,\n",
       "       -3.30262173, -3.34345438, -3.38428702, -3.42511966, -3.46595231,\n",
       "       -3.50678495, -3.54761759, -3.58845024, -3.62928288, -3.67011552,\n",
       "       -3.71094817, -3.75178081, -3.79261345, -3.8334461 , -3.87427874,\n",
       "       -3.91511139, -3.95594403, -3.99677667, -4.03760932, -4.07844196,\n",
       "       -4.1192746 , -4.16010725, -4.20093989, -4.24177253, -4.28260518,\n",
       "       -4.32343782, -4.36427046, -4.40510311, -4.44593575, -4.48676839,\n",
       "       -4.52760104, -4.56843368, -4.60926632, -4.65009897, -4.69093161])"
      ]
     },
     "execution_count": 10,
     "metadata": {},
     "output_type": "execute_result"
    }
   ],
   "source": [
    "p = logit_model.params\n",
    "reg = p['Intercept'] + x*p['Temperature']\n",
    "reg"
   ]
  },
  {
   "cell_type": "markdown",
   "metadata": {},
   "source": [
    "Finally we can plug `reg` into the logistic equation to get the y values:"
   ]
  },
  {
   "cell_type": "code",
   "execution_count": 11,
   "metadata": {},
   "outputs": [
    {
     "data": {
      "text/plain": [
       "array([0.96877352, 0.96751435, 0.96620618, 0.96484724, 0.96343572,\n",
       "       0.96196975, 0.96044743, 0.95886677, 0.95722576, 0.95552232,\n",
       "       0.95375432, 0.95191957, 0.95001585, 0.94804087, 0.94599228,\n",
       "       0.94386771, 0.94166472, 0.93938081, 0.93701348, 0.93456013,\n",
       "       0.93201815, 0.9293849 , 0.92665767, 0.92383375, 0.92091037,\n",
       "       0.91788477, 0.91475413, 0.91151565, 0.90816649, 0.90470381,\n",
       "       0.90112478, 0.89742658, 0.89360639, 0.88966141, 0.88558888,\n",
       "       0.88138608, 0.87705033, 0.872579  , 0.86796954, 0.86321948,\n",
       "       0.85832641, 0.85328805, 0.84810222, 0.84276687, 0.83728007,\n",
       "       0.83164005, 0.82584521, 0.8198941 , 0.8137855 , 0.80751834,\n",
       "       0.80109182, 0.79450533, 0.78775853, 0.78085132, 0.77378386,\n",
       "       0.76655663, 0.75917036, 0.75162611, 0.74392524, 0.73606945,\n",
       "       0.72806076, 0.71990152, 0.71159446, 0.70314261, 0.69454941,\n",
       "       0.6858186 , 0.6769543 , 0.66796099, 0.65884349, 0.64960697,\n",
       "       0.64025691, 0.63079916, 0.62123986, 0.61158544, 0.60184267,\n",
       "       0.59201853, 0.5821203 , 0.57215547, 0.56213176, 0.55205707,\n",
       "       0.54193947, 0.53178715, 0.52160845, 0.51141178, 0.50120559,\n",
       "       0.49099841, 0.48079872, 0.47061502, 0.46045571, 0.45032916,\n",
       "       0.4402436 , 0.43020713, 0.42022769, 0.41031305, 0.40047075,\n",
       "       0.39070811, 0.38103221, 0.37144984, 0.36196754, 0.35259151,\n",
       "       0.34332766, 0.33418157, 0.32515848, 0.31626329, 0.30750057,\n",
       "       0.2988745 , 0.29038895, 0.2820474 , 0.27385299, 0.26580851,\n",
       "       0.25791641, 0.25017879, 0.24259741, 0.23517372, 0.22790884,\n",
       "       0.22080359, 0.2138585 , 0.20707381, 0.20044948, 0.19398522,\n",
       "       0.18768049, 0.18153452, 0.17554631, 0.16971468, 0.16403823,\n",
       "       0.1585154 , 0.15314444, 0.14792347, 0.14285047, 0.13792329,\n",
       "       0.13313966, 0.12849721, 0.12399349, 0.11962594, 0.11539198,\n",
       "       0.11128893, 0.10731407, 0.10346465, 0.09973789, 0.09613096,\n",
       "       0.09264106, 0.08926534, 0.08600097, 0.08284512, 0.07979496,\n",
       "       0.07684769, 0.07400052, 0.0712507 , 0.0685955 , 0.0660322 ,\n",
       "       0.06355816, 0.06117074, 0.05886736, 0.05664548, 0.0545026 ,\n",
       "       0.05243629, 0.05044413, 0.04852379, 0.04667295, 0.04488938,\n",
       "       0.04317088, 0.04151532, 0.03992059, 0.03838467, 0.03690557,\n",
       "       0.03548136, 0.03411016, 0.03279016, 0.03151957, 0.03029667,\n",
       "       0.02911979, 0.02798731, 0.02689765, 0.02584929, 0.02484075,\n",
       "       0.02387059, 0.02293743, 0.02203992, 0.02117677, 0.02034673,\n",
       "       0.01954856, 0.01878111, 0.01804323, 0.01733383, 0.01665185,\n",
       "       0.01599626, 0.01536608, 0.01476036, 0.01417817, 0.01361862,\n",
       "       0.01308086, 0.01256407, 0.01206744, 0.01159022, 0.01113165,\n",
       "       0.01069104, 0.01026768, 0.00986092, 0.00947012, 0.00909466])"
      ]
     },
     "execution_count": 11,
     "metadata": {},
     "output_type": "execute_result"
    }
   ],
   "source": [
    "y = 1/(1 + np.exp(-reg))\n",
    "y"
   ]
  },
  {
   "cell_type": "markdown",
   "metadata": {},
   "source": [
    "Plot another scatter plot of the data, plus the plot of our calculated x and y values:"
   ]
  },
  {
   "cell_type": "code",
   "execution_count": null,
   "metadata": {},
   "outputs": [],
   "source": []
  },
  {
   "cell_type": "markdown",
   "metadata": {},
   "source": [
    "There are a few different ways to make predictions from the logistic regression function, but the easiest is to predict a 1 if the function (y) is > 0.5, predict a 0 if y is < 0.5 and predict either 0 or 1 (chosen randomly) if y = 0.5.\n",
    "\n",
    "### Section 3:  Confusion matrix\n",
    "\n",
    "One way to understand how well our model works is to make a *confusion table* or *confusion matrix*, which counts how many of each type of error there are.  We can create the table using the `pred_table()` function."
   ]
  },
  {
   "cell_type": "code",
   "execution_count": 12,
   "metadata": {},
   "outputs": [
    {
     "data": {
      "text/plain": [
       "array([[16.,  0.],\n",
       "       [ 3.,  4.]])"
      ]
     },
     "execution_count": 12,
     "metadata": {},
     "output_type": "execute_result"
    }
   ],
   "source": [
    "logit_model.pred_table()"
   ]
  },
  {
   "cell_type": "markdown",
   "metadata": {},
   "source": [
    "The confusion matrix can be read as follows:\n",
    "<code>   \n",
    "                        predicted\n",
    "             |    0           |      1      |\n",
    "             --------------------------------\n",
    "observed | 0 | true negative  | false positive\n",
    "         | 1 | false negative | true positive\n",
    "</code>\n"
   ]
  },
  {
   "cell_type": "markdown",
   "metadata": {},
   "source": [
    "How many correct predictions did the model make?   What kind of wrong predictions did the model make?"
   ]
  },
  {
   "cell_type": "markdown",
   "metadata": {},
   "source": [
    "### Section 4: Pima (Akimel Oʼodham) Indian Diabetes data\n",
    "\n",
    "The Akimel O'odham people, who were also known as the Pima Indians since European colonization of the US, currently have a high prevalence of diabetes.   A data set of different possible diabetes indicators and whether the person has diabetes is on [Kaggle](https://www.kaggle.com/uciml/pima-indians-diabetes-database) and can be download from [https://raw.githubusercontent.com/megan-owen/MAT328-Techniques_in_Data_Science/main/data/diabetes.csv](https://raw.githubusercontent.com/megan-owen/MAT328-Techniques_in_Data_Science/main/data/diabetes.csv).\n",
    "\n",
    "Read in the dataset."
   ]
  },
  {
   "cell_type": "code",
   "execution_count": null,
   "metadata": {
    "collapsed": true,
    "jupyter": {
     "outputs_hidden": true
    }
   },
   "outputs": [],
   "source": []
  },
  {
   "cell_type": "markdown",
   "metadata": {},
   "source": [
    "Plot a scatter plot of the `Glucose` (x) vs. `Outcome` (y) columns.  The `Glucose` column is the plasma glucose concentration 2 hours after an oral glucose tolerance test, and measures how a person's body is able to handle a large amount of sugar."
   ]
  },
  {
   "cell_type": "code",
   "execution_count": null,
   "metadata": {
    "collapsed": true,
    "jupyter": {
     "outputs_hidden": true
    }
   },
   "outputs": [],
   "source": []
  },
  {
   "cell_type": "markdown",
   "metadata": {},
   "source": [
    "Fit a logistic regression model to this data, using Glucose as the independent variable and Outcome as the dependent variable."
   ]
  },
  {
   "cell_type": "code",
   "execution_count": null,
   "metadata": {
    "collapsed": true,
    "jupyter": {
     "outputs_hidden": true
    }
   },
   "outputs": [],
   "source": []
  },
  {
   "cell_type": "markdown",
   "metadata": {},
   "source": [
    "What is the equation of the logistic regression model?\n",
    "\n",
    "<details><summary>Answer:</summary>\n",
    "$$y = \\frac{1}{1 + e^{-(-5.3501 + 0.0379x)}}$$\n",
    "</details>\n",
    "\n",
    "Plot the model equation on top of your scatter plot."
   ]
  },
  {
   "cell_type": "code",
   "execution_count": null,
   "metadata": {
    "collapsed": true,
    "jupyter": {
     "outputs_hidden": true
    }
   },
   "outputs": [],
   "source": []
  },
  {
   "cell_type": "markdown",
   "metadata": {},
   "source": [
    "We can also plot the logistic regression model using Seaborn's `regplot()`.  Use `regplot()` as if you were doing linear regression on the variables, but add in the parameter `logistic = True`."
   ]
  },
  {
   "cell_type": "code",
   "execution_count": null,
   "metadata": {
    "collapsed": true,
    "jupyter": {
     "outputs_hidden": true
    }
   },
   "outputs": [],
   "source": []
  },
  {
   "cell_type": "markdown",
   "metadata": {},
   "source": [
    "Compute the confusion matrix for this model.  What does it tell you about the fit of this model?"
   ]
  },
  {
   "cell_type": "code",
   "execution_count": null,
   "metadata": {
    "collapsed": true,
    "jupyter": {
     "outputs_hidden": true
    }
   },
   "outputs": [],
   "source": []
  }
 ],
 "metadata": {
  "kernelspec": {
   "display_name": "Python 3",
   "language": "python",
   "name": "python3"
  },
  "language_info": {
   "codemirror_mode": {
    "name": "ipython",
    "version": 3
   },
   "file_extension": ".py",
   "mimetype": "text/x-python",
   "name": "python",
   "nbconvert_exporter": "python",
   "pygments_lexer": "ipython3",
   "version": "3.8.5"
  }
 },
 "nbformat": 4,
 "nbformat_minor": 4
}
