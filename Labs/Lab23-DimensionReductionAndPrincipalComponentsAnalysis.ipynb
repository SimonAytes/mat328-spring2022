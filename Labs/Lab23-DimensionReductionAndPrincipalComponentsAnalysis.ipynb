{
 "cells": [
  {
   "cell_type": "code",
   "execution_count": null,
   "metadata": {},
   "outputs": [],
   "source": []
  },
  {
   "cell_type": "code",
   "execution_count": null,
   "metadata": {},
   "outputs": [],
   "source": []
  },
  {
   "cell_type": "code",
   "execution_count": 1,
   "metadata": {},
   "outputs": [],
   "source": [
    "import pandas as pd\n",
    "import matplotlib.pyplot as plt\n",
    "import matplotlib.cm as cm\n",
    "from mpl_toolkits import mplot3d\n",
    "import seaborn as sns\n",
    "import numpy as np\n",
    "\n",
    "from sklearn.preprocessing import StandardScaler\n",
    "\n",
    "from sklearn.cluster import KMeans\n",
    "\n",
    "from sklearn.metrics import silhouette_score\n",
    "\n",
    "from sklearn.decomposition import PCA\n",
    "\n",
    "%matplotlib inline\n",
    "pd.set_option(\"display.max_columns\", None)"
   ]
  },
  {
   "cell_type": "markdown",
   "metadata": {},
   "source": [
    "# Lab 23 - Dimension Reduction and Principal Components Analysis\n",
    "\n",
    "*Principal Components Analysis* or *PCA* is a method for reducing the dimension of the data.  The dimension of the data is the number of columns or variables in the data.  We encounter dimension reduction in every day life every time we look at a 2D picture or photo of a 3D object.  Some ways of reducing the dimension are more useful than others.  For example, if someone takes a photo looking straight down at a table, it might be much harder to tell that it is a table than if the photo is taken at an angle so you can see the table top and all 4 table legs.  \n",
    "\n",
    "Principal Components Analysis tries to map the data to lower dimensions in such a way that as much variation as possible is retained.  Specifically, PCA reduces the dimensions of the data set by successively finding the directions with the most variation and using these directions as the new coordinate system.\n",
    "\n",
    "See [https://setosa.io/ev/principal-component-analysis/](https://setosa.io/ev/principal-component-analysis/) for a visual, interactive explaination of PCA.\n",
    "\n",
    "### Section 1: Loading and cleaning the penguin data\n",
    "\n",
    "We will start by looking at the Palmer penguin dataset from Labs 3, 21, and 22.  First load the data into a variable.\n",
    "\n",
    "Data URL: https://raw.githubusercontent.com/mwaskom/seaborn-data/master/penguins.csv"
   ]
  },
  {
   "cell_type": "code",
   "execution_count": 23,
   "metadata": {},
   "outputs": [],
   "source": [
    "penguins = pd.read_csv(\"https://raw.githubusercontent.com/mwaskom/seaborn-data/master/penguins.csv\")"
   ]
  },
  {
   "cell_type": "markdown",
   "metadata": {},
   "source": [
    "Drop the rows with missing data."
   ]
  },
  {
   "cell_type": "code",
   "execution_count": 24,
   "metadata": {},
   "outputs": [],
   "source": [
    "penguins = penguins.dropna(how=\"any\")"
   ]
  },
  {
   "cell_type": "markdown",
   "metadata": {},
   "source": [
    "For technical reasons later in the lab, we need to reset the index as well.  Recall the function is `reset_index(drop = True)`."
   ]
  },
  {
   "cell_type": "code",
   "execution_count": 25,
   "metadata": {},
   "outputs": [],
   "source": [
    "penguins = penguins.reset_index(drop=True)"
   ]
  },
  {
   "cell_type": "markdown",
   "metadata": {},
   "source": [
    "<details><summary>Answer:</summary>\n",
    "<code>\n",
    "penguins = penguins.reset_index(drop = True)\n",
    "</code>\n",
    "</details>\n",
    "\n",
    "We can use the qualitative variables `species`, `island`, and `sex` as well as the quantitative variables to do PCA by first turning them into dummy variables."
   ]
  },
  {
   "cell_type": "code",
   "execution_count": 27,
   "metadata": {},
   "outputs": [],
   "source": [
    "penguins2 = pd.concat([penguins, pd.get_dummies(penguins['species'], drop_first=False)], axis=1)\n",
    "penguins2 = pd.concat([penguins2, pd.get_dummies(penguins2['island'], drop_first=False)], axis=1)\n",
    "penguins2 = pd.concat([penguins2, pd.get_dummies(penguins2['sex'], drop_first=False)], axis=1)\n",
    "penguins2 = penguins2.drop([\"species\", 'island', 'sex'], axis=1)"
   ]
  },
  {
   "cell_type": "markdown",
   "metadata": {},
   "source": [
    "Because PCA looks for the direction with the highest variance, we need to pre-process our data so that each column has the same variance.  Otherwise a column with high variance will dominate.  The scaler we have used in previous labs does not make sure the variances are the same.\n",
    "\n",
    "Instead, we will *standardize* each column of data, by taking the *z-score* of each data point.  After standardizing a column of data, the mean of that column will be 0 and the variance and standard deviation will be 1.\n",
    "\n",
    "To do this, we create a StandardScaler object."
   ]
  },
  {
   "cell_type": "code",
   "execution_count": 28,
   "metadata": {},
   "outputs": [],
   "source": [
    "standardizer = StandardScaler()"
   ]
  },
  {
   "cell_type": "markdown",
   "metadata": {},
   "source": [
    "And then use it to transform our data.  Notice the function is the same as for scaling, just applied to a StandardScaler object instead of a MinMaxScaler object."
   ]
  },
  {
   "cell_type": "code",
   "execution_count": 29,
   "metadata": {},
   "outputs": [
    {
     "data": {
      "text/plain": [
       "array([[-0.89604189,  0.7807321 , -1.42675157, ...,  2.46680084,\n",
       "        -0.99103121,  0.99103121],\n",
       "       [-0.82278787,  0.11958397, -1.06947358, ...,  2.46680084,\n",
       "         1.00904996, -1.00904996],\n",
       "       [-0.67627982,  0.42472926, -0.42637319, ...,  2.46680084,\n",
       "         1.00904996, -1.00904996],\n",
       "       ...,\n",
       "       [ 1.17338426, -0.74499437,  1.50292796, ..., -0.40538335,\n",
       "        -0.99103121,  0.99103121],\n",
       "       [ 0.22108196, -1.20271231,  0.78837197, ..., -0.40538335,\n",
       "         1.00904996, -1.00904996],\n",
       "       [ 1.08181673, -0.54156417,  0.85982757, ..., -0.40538335,\n",
       "        -0.99103121,  0.99103121]])"
      ]
     },
     "execution_count": 29,
     "metadata": {},
     "output_type": "execute_result"
    }
   ],
   "source": [
    "penguins2_standardized = standardizer.fit_transform(penguins2)\n",
    "penguins2_standardized"
   ]
  },
  {
   "cell_type": "markdown",
   "metadata": {},
   "source": [
    "### Section 2: Principal Components Analysis\n",
    "\n",
    "Let's find the first two principal components for our processed penguin dataset (which we assume is stored in the variable `penguins2_standardized`):"
   ]
  },
  {
   "cell_type": "code",
   "execution_count": 30,
   "metadata": {},
   "outputs": [],
   "source": [
    "# create the PCA object\n",
    "pca = PCA(n_components=2)\n",
    "\n",
    "# find the first two principal components of the penguin data\n",
    "pca.fit(penguins2_standardized)\n",
    "\n",
    "# find the coordinates of the penguin data in the new coordinate system\n",
    "penguins_pca = pca.transform(penguins2_standardized)"
   ]
  },
  {
   "cell_type": "markdown",
   "metadata": {},
   "source": [
    "Display `penguins_pca`.  Is it a DataFrame?"
   ]
  },
  {
   "cell_type": "code",
   "execution_count": 31,
   "metadata": {
    "collapsed": true,
    "jupyter": {
     "outputs_hidden": true
    }
   },
   "outputs": [
    {
     "data": {
      "text/plain": [
       "array([[-2.30884318, -0.43493834],\n",
       "       [-2.23208218, -2.1136474 ],\n",
       "       [-2.29719547, -1.98824112],\n",
       "       [-2.64940392, -2.05617634],\n",
       "       [-2.39503891, -0.12373568],\n",
       "       [-2.55629033, -2.14999981],\n",
       "       [-1.59529105, -0.12102846],\n",
       "       [-2.59093872, -2.06373999],\n",
       "       [-2.42546772, -0.06921103],\n",
       "       [-2.11774055, -0.25987785],\n",
       "       [-2.5208751 , -2.28302987],\n",
       "       [-2.44219003, -1.94328574],\n",
       "       [-1.63365654,  0.25474209],\n",
       "       [-2.94051808, -2.40697676],\n",
       "       [-1.81836692,  0.56175197],\n",
       "       [-1.82529917, -2.14323576],\n",
       "       [-1.30292473, -0.47550876],\n",
       "       [-1.43984012, -2.02673304],\n",
       "       [-0.86623059, -0.45333694],\n",
       "       [-0.90762707, -0.57805033],\n",
       "       [-1.47934796, -2.12142457],\n",
       "       [-1.07803959, -0.27146384],\n",
       "       [-1.34711409, -1.95583078],\n",
       "       [-2.04807544, -2.13522428],\n",
       "       [-1.02310823, -0.20846177],\n",
       "       [-2.63785901, -1.06504098],\n",
       "       [-2.34186911,  0.60024772],\n",
       "       [-2.50310654, -0.85404162],\n",
       "       [-2.1110951 ,  1.00614613],\n",
       "       [-2.31690738, -1.14192449],\n",
       "       [-2.08493695,  1.27970532],\n",
       "       [-2.19777453,  1.04520053],\n",
       "       [-2.58823446, -0.5821817 ],\n",
       "       [-3.0430697 , -0.82447063],\n",
       "       [-1.83369182,  1.04126163],\n",
       "       [-2.93303343, -1.09133733],\n",
       "       [-1.71856756,  0.99227026],\n",
       "       [-2.94821004, -1.04247301],\n",
       "       [-1.48922967,  1.46735869],\n",
       "       [-2.71676055, -1.20583563],\n",
       "       [-1.64689457,  1.01386256],\n",
       "       [-2.40611697,  0.96819335],\n",
       "       [-2.56560938, -1.06150557],\n",
       "       [-2.08830727,  1.48641742],\n",
       "       [-1.24300563, -2.01821101],\n",
       "       [-0.64241936, -0.15215025],\n",
       "       [-1.41711167, -2.30236414],\n",
       "       [-0.41934843,  0.10288833],\n",
       "       [-1.82902595, -2.39081089],\n",
       "       [-0.73407887, -0.15264234],\n",
       "       [-1.21669933, -2.08241583],\n",
       "       [-0.70052161, -0.1598228 ],\n",
       "       [-1.68280815, -2.49138277],\n",
       "       [-0.89626018, -0.33304101],\n",
       "       [-1.51036892, -2.45081206],\n",
       "       [-0.68666619,  0.2830042 ],\n",
       "       [-1.21121317, -2.24999987],\n",
       "       [-0.48536121, -0.18256377],\n",
       "       [-1.6822006 , -2.41382108],\n",
       "       [-0.47648509, -0.18563124],\n",
       "       [-1.02198107, -2.4815583 ],\n",
       "       [-0.72156161, -0.07670013],\n",
       "       [-2.53510086, -2.54306873],\n",
       "       [-1.45467652,  0.02789477],\n",
       "       [-2.77615475, -2.32448397],\n",
       "       [-1.8977475 , -0.36559705],\n",
       "       [-2.02846929, -2.10681715],\n",
       "       [-1.34655168,  0.2049086 ],\n",
       "       [-2.38404727, -2.37438824],\n",
       "       [-1.44258979, -0.0629293 ],\n",
       "       [-1.96906978, -2.07912202],\n",
       "       [-2.3585094 , -0.44121104],\n",
       "       [-2.28203308, -2.54882735],\n",
       "       [-1.69666976, -0.0600104 ],\n",
       "       [-2.65348476, -2.54244309],\n",
       "       [-1.04418297, -0.12081889],\n",
       "       [-2.5709888 , -2.11728331],\n",
       "       [-2.05935828, -0.50625357],\n",
       "       [-2.50361496, -0.98838884],\n",
       "       [-2.19940553,  1.2404092 ],\n",
       "       [-2.31654612,  0.7817626 ],\n",
       "       [-2.63757897, -0.90198844],\n",
       "       [-2.12267535,  0.89521608],\n",
       "       [-2.49120226, -0.71516785],\n",
       "       [-2.20257675, -0.99097442],\n",
       "       [-1.17206244,  1.07457052],\n",
       "       [-2.70595023, -1.34642517],\n",
       "       [-1.72213339,  0.87914676],\n",
       "       [-2.6180777 , -1.16280179],\n",
       "       [-1.23001807,  1.17866986],\n",
       "       [-2.45065595, -0.78787273],\n",
       "       [-1.51199938,  1.02759115],\n",
       "       [-3.03516602, -1.64306574],\n",
       "       [-1.60231259,  1.18324396],\n",
       "       [-1.22554671, -2.25957825],\n",
       "       [-0.13545741,  0.19399315],\n",
       "       [-1.35800902, -2.45040752],\n",
       "       [-0.90314118, -0.16112912],\n",
       "       [-1.55280063, -2.04420992],\n",
       "       [-1.1432049 , -0.28925105],\n",
       "       [-0.71661281, -2.05632533],\n",
       "       [-1.05340089, -0.17290311],\n",
       "       [-1.5081634 , -2.28554742],\n",
       "       [-0.01115721,  0.18717333],\n",
       "       [-0.6211288 , -2.18408005],\n",
       "       [-0.35777174,  0.48145442],\n",
       "       [-1.18245779, -2.00664214],\n",
       "       [-0.3860417 ,  0.12633831],\n",
       "       [-1.3886124 , -1.5364112 ],\n",
       "       [-0.29319027, -0.02978109],\n",
       "       [-2.59380718, -2.32463673],\n",
       "       [-2.15992652, -0.21539015],\n",
       "       [-2.49248114, -2.47397184],\n",
       "       [-2.16813108, -0.31036553],\n",
       "       [-2.65452051, -2.4452933 ],\n",
       "       [-2.18941238, -0.31928167],\n",
       "       [-2.5906081 , -2.21410104],\n",
       "       [-1.49444537, -0.16690421],\n",
       "       [-2.57267763, -2.71041213],\n",
       "       [-1.64117561, -0.15825069],\n",
       "       [-2.41150526, -2.16893408],\n",
       "       [-1.45168926, -0.17702618],\n",
       "       [-2.43024564, -2.24856344],\n",
       "       [-0.98581581,  0.01647363],\n",
       "       [-2.47957412, -2.14933623],\n",
       "       [-1.84819128, -0.02155232],\n",
       "       [-2.51127327, -0.90044462],\n",
       "       [-1.50632169,  0.85911154],\n",
       "       [-2.50953372, -0.97220091],\n",
       "       [-1.70207013,  0.86343902],\n",
       "       [-2.62639894, -1.17048967],\n",
       "       [-1.84289765,  1.2171315 ],\n",
       "       [-2.4573167 , -1.21418712],\n",
       "       [-1.5805755 ,  0.87503025],\n",
       "       [-2.16192708, -0.85998653],\n",
       "       [-1.97234914,  0.72139177],\n",
       "       [-2.62774692, -1.72298879],\n",
       "       [-1.72680237,  0.74679986],\n",
       "       [-2.48381205, -1.15908048],\n",
       "       [-2.26787437,  0.8203229 ],\n",
       "       [-1.80531985,  0.91787406],\n",
       "       [-2.7766509 , -0.98127914],\n",
       "       [-2.40544207, -1.04726712],\n",
       "       [-1.95253444,  0.70925578],\n",
       "       [-2.40104795, -1.15821313],\n",
       "       [-1.47777712,  1.10067262],\n",
       "       [-1.61342559,  1.24319824],\n",
       "       [-1.06293685,  3.34256799],\n",
       "       [-1.15692665,  3.34895647],\n",
       "       [-1.90129252,  1.25418515],\n",
       "       [-1.03126112,  3.56122664],\n",
       "       [-1.27100476,  1.22214058],\n",
       "       [-2.20713544,  1.14876623],\n",
       "       [-0.83150936,  3.24675978],\n",
       "       [-1.39716812,  1.43505038],\n",
       "       [-1.10159607,  3.47772982],\n",
       "       [-1.41727926,  1.27682428],\n",
       "       [-1.22464121,  3.54699306],\n",
       "       [-1.59544301,  1.1812993 ],\n",
       "       [-0.51860428,  3.33985201],\n",
       "       [-1.53565411,  1.08915139],\n",
       "       [-0.83671005,  3.4369031 ],\n",
       "       [-1.391976  ,  3.36844721],\n",
       "       [-1.23502657,  2.01103615],\n",
       "       [-1.81349038,  1.31436417],\n",
       "       [-0.67870675,  3.16076186],\n",
       "       [-1.99203598,  0.81965879],\n",
       "       [-1.20340232,  2.87832208],\n",
       "       [-2.00668994,  0.7343314 ],\n",
       "       [-1.15156278,  3.34352388],\n",
       "       [-1.61432248,  1.25113542],\n",
       "       [-0.73044874,  3.45147047],\n",
       "       [-1.31013503,  1.62931118],\n",
       "       [-0.94097857,  3.24970238],\n",
       "       [-1.53371436,  1.23992538],\n",
       "       [-0.42619915,  3.73504115],\n",
       "       [-1.97688756,  0.60492926],\n",
       "       [-0.72157456,  3.89256249],\n",
       "       [-1.83904134,  0.74983022],\n",
       "       [-0.60026432,  3.38064941],\n",
       "       [-1.10770828,  3.15871198],\n",
       "       [-0.98873297,  1.24990891],\n",
       "       [-1.36548177,  1.4329754 ],\n",
       "       [-0.31390856,  3.82981428],\n",
       "       [-1.77295067,  1.00286326],\n",
       "       [-0.39900024,  3.76558088],\n",
       "       [-0.68590956,  3.35498913],\n",
       "       [-1.63495357,  1.15685439],\n",
       "       [-1.12331039,  3.31204115],\n",
       "       [-1.40344894,  1.07181505],\n",
       "       [-1.19041465,  1.59921611],\n",
       "       [-0.44904871,  3.35475136],\n",
       "       [-1.53765793,  1.47714195],\n",
       "       [-0.47395977,  3.42000476],\n",
       "       [-1.43373469,  3.21578208],\n",
       "       [-1.0915505 ,  1.45036363],\n",
       "       [-1.17388213,  1.17210307],\n",
       "       [-0.74300572,  3.40795534],\n",
       "       [-1.47947931,  1.12167052],\n",
       "       [-0.78513591,  3.47588987],\n",
       "       [-1.93593584,  0.83141528],\n",
       "       [-1.02901779,  3.35796285],\n",
       "       [-1.61982443,  0.93943265],\n",
       "       [-0.88824562,  3.40330077],\n",
       "       [-0.81566734,  3.28353381],\n",
       "       [-1.8313983 ,  1.39702575],\n",
       "       [-0.65444308,  3.53941603],\n",
       "       [-1.38550764,  1.0747783 ],\n",
       "       [-1.34906883,  1.09776719],\n",
       "       [-0.45247001,  3.86950062],\n",
       "       [-1.55813822,  1.10073244],\n",
       "       [-1.02053142,  3.10620199],\n",
       "       [-0.4410529 ,  3.43255991],\n",
       "       [-1.24869392,  1.68074815],\n",
       "       [ 2.52107495, -1.66257902],\n",
       "       [ 3.67130902,  0.84484812],\n",
       "       [ 2.45408077, -1.36621008],\n",
       "       [ 3.5033052 ,  0.6284692 ],\n",
       "       [ 3.26241099,  0.31099765],\n",
       "       [ 2.48841186, -1.59308911],\n",
       "       [ 2.40571764, -1.48757702],\n",
       "       [ 3.10548743,  0.35488029],\n",
       "       [ 2.24083452, -1.85759626],\n",
       "       [ 2.9548258 ,  0.34758164],\n",
       "       [ 2.33679397, -1.93125216],\n",
       "       [ 3.17670866,  0.65117357],\n",
       "       [ 2.56946048, -1.60339005],\n",
       "       [ 3.44832181,  0.42227364],\n",
       "       [ 2.10487459, -1.5336923 ],\n",
       "       [ 3.43141818,  0.65826195],\n",
       "       [ 2.0659558 , -1.95986233],\n",
       "       [ 3.84152367,  0.65720911],\n",
       "       [ 2.40472318, -1.45528942],\n",
       "       [ 3.39842371,  0.50420004],\n",
       "       [ 3.65876289,  0.52034648],\n",
       "       [ 2.61933116, -1.4772688 ],\n",
       "       [ 2.34026414, -1.45767689],\n",
       "       [ 2.81622774,  0.35482486],\n",
       "       [ 2.73414305, -1.82443755],\n",
       "       [ 2.94351133,  0.25114224],\n",
       "       [ 3.3135612 ,  0.42201417],\n",
       "       [ 2.46956058, -1.35738778],\n",
       "       [ 3.47169559,  0.63593663],\n",
       "       [ 3.24660211,  0.42010131],\n",
       "       [ 2.23248765, -1.74992445],\n",
       "       [ 2.41325794, -1.51605152],\n",
       "       [ 4.2143219 ,  1.66454837],\n",
       "       [ 2.99028866, -1.10627837],\n",
       "       [ 3.15620945,  0.64060828],\n",
       "       [ 2.54011141, -1.78112401],\n",
       "       [ 2.69052845,  0.46865425],\n",
       "       [ 2.19078254, -1.79183119],\n",
       "       [ 2.89827817,  0.50784441],\n",
       "       [ 1.91403236, -1.91692891],\n",
       "       [ 3.55550617,  0.74770988],\n",
       "       [ 2.27363839, -1.68019743],\n",
       "       [ 2.99500135,  0.45228848],\n",
       "       [ 3.45769821,  0.76429326],\n",
       "       [ 2.64925156, -1.66614067],\n",
       "       [ 2.20274428, -1.65025718],\n",
       "       [ 3.47104133,  0.76373038],\n",
       "       [ 2.79410882, -1.65431854],\n",
       "       [ 2.8823698 ,  0.30519715],\n",
       "       [ 2.52656188, -1.45625019],\n",
       "       [ 3.46783538,  0.33708087],\n",
       "       [ 2.19919075, -1.5877601 ],\n",
       "       [ 3.40130369,  0.5668045 ],\n",
       "       [ 2.7151872 , -1.39145744],\n",
       "       [ 2.95908873,  0.2356141 ],\n",
       "       [ 2.10786342, -1.77104835],\n",
       "       [ 3.02461896,  0.21110643],\n",
       "       [ 2.05368893, -1.71496346],\n",
       "       [ 3.60714204,  0.68671515],\n",
       "       [ 2.15117013, -1.68924395],\n",
       "       [ 3.2511131 ,  0.28749708],\n",
       "       [ 2.42549855, -1.59071426],\n",
       "       [ 3.99014383,  1.06955522],\n",
       "       [ 2.67226313, -1.48042941],\n",
       "       [ 3.58044767,  0.89858079],\n",
       "       [ 3.6820765 ,  0.80155587],\n",
       "       [ 2.58473352, -1.63879327],\n",
       "       [ 3.64195955,  0.66173774],\n",
       "       [ 2.57711685, -1.24717479],\n",
       "       [ 3.00204981,  0.36240561],\n",
       "       [ 3.14180511,  0.50220912],\n",
       "       [ 2.79672651, -1.30253849],\n",
       "       [ 2.48700733, -1.34558629],\n",
       "       [ 3.6976566 ,  0.71578111],\n",
       "       [ 2.42150025, -1.42644455],\n",
       "       [ 3.58504585,  0.90210691],\n",
       "       [ 2.61565302, -1.59409803],\n",
       "       [ 3.33253167,  0.50613239],\n",
       "       [ 2.55256939, -1.25203404],\n",
       "       [ 3.52978929,  0.84897265],\n",
       "       [ 2.49914673, -1.34809332],\n",
       "       [ 3.39259191,  0.71677119],\n",
       "       [ 2.51406818, -1.63218191],\n",
       "       [ 3.44396276,  1.01519869],\n",
       "       [ 2.44105822, -1.64136971],\n",
       "       [ 3.5357021 ,  0.53911223],\n",
       "       [ 2.67416702, -1.40528648],\n",
       "       [ 3.59141494,  1.07244241],\n",
       "       [ 2.72203196, -1.227276  ],\n",
       "       [ 3.44964871,  1.06476851],\n",
       "       [ 2.4313724 , -1.49423472],\n",
       "       [ 3.48113954,  0.74285794],\n",
       "       [ 2.45481373, -1.51567005],\n",
       "       [ 3.44989329,  0.74046559],\n",
       "       [ 2.94093854,  0.56695555],\n",
       "       [ 2.83496116, -1.31079412],\n",
       "       [ 2.27407989, -1.36562834],\n",
       "       [ 3.33142681,  0.87081561],\n",
       "       [ 2.75270341, -1.16194408],\n",
       "       [ 3.75036635,  1.33790545],\n",
       "       [ 2.55187968, -1.19449493],\n",
       "       [ 3.68069435,  0.56977989],\n",
       "       [ 3.01227379,  0.48304795],\n",
       "       [ 2.12490823, -1.75477152],\n",
       "       [ 3.50976148,  0.93493503],\n",
       "       [ 2.20038216, -1.76143652],\n",
       "       [ 3.06669633,  0.40632637],\n",
       "       [ 2.80822147, -0.99163744],\n",
       "       [ 3.81876547,  0.79941011],\n",
       "       [ 2.19726123, -1.54754334],\n",
       "       [ 3.64975478,  0.9287404 ],\n",
       "       [ 2.49272319, -1.51405788],\n",
       "       [ 4.05078044,  1.18481933],\n",
       "       [ 3.54246897,  0.73571274],\n",
       "       [ 2.7894036 , -1.45057212],\n",
       "       [ 2.66454696, -1.40056185],\n",
       "       [ 3.58236217,  0.75299008],\n",
       "       [ 2.5869547 , -1.42303113],\n",
       "       [ 3.06275162,  0.68135447]])"
      ]
     },
     "execution_count": 31,
     "metadata": {},
     "output_type": "execute_result"
    }
   ],
   "source": [
    "penguins_pca"
   ]
  },
  {
   "cell_type": "markdown",
   "metadata": {},
   "source": [
    "Let's put the data from `penguins_pca` (which is a numpy array) into a DataFrame, along with the species names."
   ]
  },
  {
   "cell_type": "code",
   "execution_count": 32,
   "metadata": {},
   "outputs": [],
   "source": [
    "# put the coordinates into a DataFrame\n",
    "penguins_pca_df = pd.DataFrame(penguins_pca, columns = [\"PC1\",\"PC2\"])\n",
    "# add the species names as a new column\n",
    "penguins_pca_df[\"species\"] = penguins[\"species\"]"
   ]
  },
  {
   "cell_type": "markdown",
   "metadata": {},
   "source": [
    "Display this dataframe."
   ]
  },
  {
   "cell_type": "code",
   "execution_count": 33,
   "metadata": {},
   "outputs": [
    {
     "data": {
      "text/html": [
       "<div>\n",
       "<style scoped>\n",
       "    .dataframe tbody tr th:only-of-type {\n",
       "        vertical-align: middle;\n",
       "    }\n",
       "\n",
       "    .dataframe tbody tr th {\n",
       "        vertical-align: top;\n",
       "    }\n",
       "\n",
       "    .dataframe thead th {\n",
       "        text-align: right;\n",
       "    }\n",
       "</style>\n",
       "<table border=\"1\" class=\"dataframe\">\n",
       "  <thead>\n",
       "    <tr style=\"text-align: right;\">\n",
       "      <th></th>\n",
       "      <th>PC1</th>\n",
       "      <th>PC2</th>\n",
       "      <th>species</th>\n",
       "    </tr>\n",
       "  </thead>\n",
       "  <tbody>\n",
       "    <tr>\n",
       "      <th>0</th>\n",
       "      <td>-2.308843</td>\n",
       "      <td>-0.434938</td>\n",
       "      <td>Adelie</td>\n",
       "    </tr>\n",
       "    <tr>\n",
       "      <th>1</th>\n",
       "      <td>-2.232082</td>\n",
       "      <td>-2.113647</td>\n",
       "      <td>Adelie</td>\n",
       "    </tr>\n",
       "    <tr>\n",
       "      <th>2</th>\n",
       "      <td>-2.297195</td>\n",
       "      <td>-1.988241</td>\n",
       "      <td>Adelie</td>\n",
       "    </tr>\n",
       "    <tr>\n",
       "      <th>3</th>\n",
       "      <td>-2.649404</td>\n",
       "      <td>-2.056176</td>\n",
       "      <td>Adelie</td>\n",
       "    </tr>\n",
       "    <tr>\n",
       "      <th>4</th>\n",
       "      <td>-2.395039</td>\n",
       "      <td>-0.123736</td>\n",
       "      <td>Adelie</td>\n",
       "    </tr>\n",
       "    <tr>\n",
       "      <th>...</th>\n",
       "      <td>...</td>\n",
       "      <td>...</td>\n",
       "      <td>...</td>\n",
       "    </tr>\n",
       "    <tr>\n",
       "      <th>328</th>\n",
       "      <td>2.789404</td>\n",
       "      <td>-1.450572</td>\n",
       "      <td>Gentoo</td>\n",
       "    </tr>\n",
       "    <tr>\n",
       "      <th>329</th>\n",
       "      <td>2.664547</td>\n",
       "      <td>-1.400562</td>\n",
       "      <td>Gentoo</td>\n",
       "    </tr>\n",
       "    <tr>\n",
       "      <th>330</th>\n",
       "      <td>3.582362</td>\n",
       "      <td>0.752990</td>\n",
       "      <td>Gentoo</td>\n",
       "    </tr>\n",
       "    <tr>\n",
       "      <th>331</th>\n",
       "      <td>2.586955</td>\n",
       "      <td>-1.423031</td>\n",
       "      <td>Gentoo</td>\n",
       "    </tr>\n",
       "    <tr>\n",
       "      <th>332</th>\n",
       "      <td>3.062752</td>\n",
       "      <td>0.681354</td>\n",
       "      <td>Gentoo</td>\n",
       "    </tr>\n",
       "  </tbody>\n",
       "</table>\n",
       "<p>333 rows × 3 columns</p>\n",
       "</div>"
      ],
      "text/plain": [
       "          PC1       PC2 species\n",
       "0   -2.308843 -0.434938  Adelie\n",
       "1   -2.232082 -2.113647  Adelie\n",
       "2   -2.297195 -1.988241  Adelie\n",
       "3   -2.649404 -2.056176  Adelie\n",
       "4   -2.395039 -0.123736  Adelie\n",
       "..        ...       ...     ...\n",
       "328  2.789404 -1.450572  Gentoo\n",
       "329  2.664547 -1.400562  Gentoo\n",
       "330  3.582362  0.752990  Gentoo\n",
       "331  2.586955 -1.423031  Gentoo\n",
       "332  3.062752  0.681354  Gentoo\n",
       "\n",
       "[333 rows x 3 columns]"
      ]
     },
     "execution_count": 33,
     "metadata": {},
     "output_type": "execute_result"
    }
   ],
   "source": [
    "penguins_pca_df"
   ]
  },
  {
   "cell_type": "markdown",
   "metadata": {},
   "source": [
    "Use Seaborn to plot a scatter plot where x is PC1 and y is PC2, with the points colored by the species."
   ]
  },
  {
   "cell_type": "code",
   "execution_count": 34,
   "metadata": {},
   "outputs": [
    {
     "data": {
      "text/plain": [
       "<AxesSubplot:xlabel='PC1', ylabel='PC2'>"
      ]
     },
     "execution_count": 34,
     "metadata": {},
     "output_type": "execute_result"
    },
    {
     "data": {
      "image/png": "[encoded data removed]",
      "text/plain": [
       "<Figure size 432x288 with 1 Axes>"
      ]
     },
     "metadata": {
      "needs_background": "light"
     },
     "output_type": "display_data"
    }
   ],
   "source": [
    "sns.scatterplot(data=penguins_pca_df, x=\"PC1\", y=\"PC2\")"
   ]
  },
  {
   "cell_type": "markdown",
   "metadata": {},
   "source": [
    "What do you notice about this plot? What variation is shown along PC1?  Along PC2?"
   ]
  },
  {
   "cell_type": "markdown",
   "metadata": {},
   "source": [
    "Let's compare this scatter plot with the scatter plots for all pairs of quantitative variables, colored by the species."
   ]
  },
  {
   "cell_type": "code",
   "execution_count": null,
   "metadata": {
    "collapsed": true,
    "jupyter": {
     "outputs_hidden": true
    }
   },
   "outputs": [],
   "source": []
  },
  {
   "cell_type": "markdown",
   "metadata": {},
   "source": [
    "How do these scatterplots compare to the PCA one?  Which shows the most separation between species?  Which species is most separated from the others in the scatterplots of the original quantitiative variables?  How is this reflected in the scatterplot of the PCA coordinates?"
   ]
  },
  {
   "cell_type": "markdown",
   "metadata": {},
   "source": [
    "### Section 3:  Cleaning and pre-processing the labor market data\n",
    "\n",
    "Let's apply PCA to the labor market data from Homeworks 21 and 22.\n",
    "\n",
    "Recall the Federal Reserve Bank of New York has information about the labor market for recent college graduates [here](https://www.newyorkfed.org/research/college-labor-market/college-labor-market_compare-majors.html).\n",
    "\n",
    "Data URL: [https://raw.githubusercontent.com/megan-owen/MAT328-Techniques_in_Data_Science/main/data/labor-market-Feb2021.csv](https://raw.githubusercontent.com/megan-owen/MAT328-Techniques_in_Data_Science/main/data/labor-market-Feb2021.csv)\n",
    "\n",
    "Load the data, skipping the first 13 rows and the last 3 rows."
   ]
  },
  {
   "cell_type": "code",
   "execution_count": null,
   "metadata": {
    "collapsed": true,
    "jupyter": {
     "outputs_hidden": true
    }
   },
   "outputs": [],
   "source": []
  },
  {
   "cell_type": "markdown",
   "metadata": {},
   "source": [
    "Remove the commas in the columns `Median Wage Early Career` and `Median Wage Mid-Career`, and then change the type of the columns to `int`."
   ]
  },
  {
   "cell_type": "code",
   "execution_count": null,
   "metadata": {
    "collapsed": true,
    "jupyter": {
     "outputs_hidden": true
    }
   },
   "outputs": [],
   "source": []
  },
  {
   "cell_type": "markdown",
   "metadata": {},
   "source": [
    "Create a new DataFrame `x` without the `Major` column, since it is qualitative.  Since each major is different, we can't easily convert this column into quantitative data using dummy variables."
   ]
  },
  {
   "cell_type": "code",
   "execution_count": null,
   "metadata": {
    "collapsed": true,
    "jupyter": {
     "outputs_hidden": true
    }
   },
   "outputs": [],
   "source": []
  },
  {
   "cell_type": "markdown",
   "metadata": {},
   "source": [
    "Finally, create a new variable `x_standardized` with the standardized columns of `x`.  That is, with the data in each column of `x` transformed so that it has mean 0 and variance 1 (and hence also standard deviation 1).\n",
    "\n",
    "You can use the same `standardizer` variable from Section 1."
   ]
  },
  {
   "cell_type": "code",
   "execution_count": null,
   "metadata": {
    "collapsed": true,
    "jupyter": {
     "outputs_hidden": true
    }
   },
   "outputs": [],
   "source": []
  },
  {
   "cell_type": "markdown",
   "metadata": {},
   "source": [
    "### Section 4: Applying PCA to the labor market data\n",
    "\n",
    "Find the first two principal components using the standardized labor data."
   ]
  },
  {
   "cell_type": "code",
   "execution_count": null,
   "metadata": {
    "collapsed": true,
    "jupyter": {
     "outputs_hidden": true
    }
   },
   "outputs": [],
   "source": []
  },
  {
   "cell_type": "markdown",
   "metadata": {},
   "source": [
    "Create a DataFrame with the two new coordinates, as we did in Section 2."
   ]
  },
  {
   "cell_type": "code",
   "execution_count": null,
   "metadata": {
    "collapsed": true,
    "jupyter": {
     "outputs_hidden": true
    }
   },
   "outputs": [],
   "source": []
  },
  {
   "cell_type": "markdown",
   "metadata": {},
   "source": [
    "Plot these new coordinates.  We are not coloring them yet, as it is not clear what to color them with."
   ]
  },
  {
   "cell_type": "code",
   "execution_count": null,
   "metadata": {
    "collapsed": true,
    "jupyter": {
     "outputs_hidden": true
    }
   },
   "outputs": [],
   "source": []
  },
  {
   "cell_type": "markdown",
   "metadata": {},
   "source": [
    "What do you notice about the plot?  Do you see any distinct clusters?\n",
    "\n",
    "Let's use k-means clustering to cluster the standardized labor data.\n",
    "\n",
    "First use either the elbow method or the silhouette score to determine the number of clusers."
   ]
  },
  {
   "cell_type": "code",
   "execution_count": null,
   "metadata": {
    "collapsed": true,
    "jupyter": {
     "outputs_hidden": true
    }
   },
   "outputs": [],
   "source": []
  },
  {
   "cell_type": "markdown",
   "metadata": {},
   "source": [
    "<details><summary>Answer:</summary>\n",
    "(for silhouette score method)\n",
    "<code>\n",
    "silhouette_score_list = []\n",
    "for k in range(2,11):\n",
    "    kmeans = KMeans(n_clusters = k)\n",
    "    kmeans_clusters = kmeans.fit_predict(x_standardized)\n",
    "    score = silhouette_score(x_standardized,kmeans_clusters)\n",
    "    silhouette_score_list.append(score)\n",
    "plt.plot(range(2,11), silhouette_score_list)\n",
    "</code>\n",
    "</details>\n",
    "\n",
    "Using the k you just determined, cluster the standardized labor data. k-means to cluster the scaled labor data."
   ]
  },
  {
   "cell_type": "code",
   "execution_count": null,
   "metadata": {
    "collapsed": true,
    "jupyter": {
     "outputs_hidden": true
    }
   },
   "outputs": [],
   "source": []
  },
  {
   "cell_type": "markdown",
   "metadata": {},
   "source": [
    "Add the cluster labels to your DataFrame with the PCA coordinates."
   ]
  },
  {
   "cell_type": "code",
   "execution_count": null,
   "metadata": {
    "collapsed": true,
    "jupyter": {
     "outputs_hidden": true
    }
   },
   "outputs": [],
   "source": []
  },
  {
   "cell_type": "markdown",
   "metadata": {},
   "source": [
    "Plot the colored-by-cluster data using the principal component coordinates."
   ]
  },
  {
   "cell_type": "code",
   "execution_count": null,
   "metadata": {
    "collapsed": true,
    "jupyter": {
     "outputs_hidden": true
    }
   },
   "outputs": [],
   "source": []
  },
  {
   "cell_type": "markdown",
   "metadata": {},
   "source": [
    "How are the clusters divided relative to the new PCA coordinates?  "
   ]
  }
 ],
 "metadata": {
  "kernelspec": {
   "display_name": "Python 3",
   "language": "python",
   "name": "python3"
  },
  "language_info": {
   "codemirror_mode": {
    "name": "ipython",
    "version": 3
   },
   "file_extension": ".py",
   "mimetype": "text/x-python",
   "name": "python",
   "nbconvert_exporter": "python",
   "pygments_lexer": "ipython3",
   "version": "3.8.5"
  }
 },
 "nbformat": 4,
 "nbformat_minor": 4
}
